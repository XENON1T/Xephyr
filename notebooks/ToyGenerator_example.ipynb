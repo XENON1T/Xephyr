{
 "cells": [
  {
   "cell_type": "markdown",
   "metadata": {},
   "source": [
    "# Tutorial on Toy Generation  to be used for limit production"
   ]
  },
  {
   "cell_type": "markdown",
   "metadata": {},
   "source": [
    "# In a nutshell:  Neymann construction with likelihood ratio\n",
    "\n",
    "## Some definitions:\n",
    "- **mu** is our parameter of interest, the signal strenght, it can be considered as equal to the number of signal events. Altough there is a small difference (out of the scope of this tutorial).\n",
    "- **q_mu** is the test statistic, the likelihood ratio. This is a function of the \"tested\" value of **mu**.\n",
    "- **H_mu** is the signal hypothesis with a signal strenght **mu**.\n",
    "- **H_0** is the null hypothesis, background only.\n",
    "\n",
    "## General Idea\n",
    "Porduce limits with the Neymann construction method. Typically this means that one wants to reject the signal hypothesis **H_mu**  in favour of the null, **H_0**. The whole game is then to find the value of **mu** for which the **H_mu** is rejected at 90% CL. To do so one needs the distibution of the test statistic **q_{mu}** under signal hypothesis **H_mu** (assuming that **H_mu** is true).\n",
    "The whole procedure is quite involved, but can be divided in a few points:\n",
    "\n",
    "**Produce the 90% quantiles curve** \n",
    "- Produce several MC toy datasets related to a specific hypothesis **mu**.\n",
    "- **Fit** those datastes, meaning, compute the **q_mu**, testing the same exact **mu** for under which the toys are generated\n",
    "- Now you have many **q_mu** values for a given **mu** test and the related hypothesis. So you have the distro of **q_mu** under the hypothesis **H_mu**. So you can compute the 90% quantile of that distribution **q_mu_90**, or in other words the value of **q_mu** that correspond to a p-value of 10%.\n",
    "- Now you can repeat the procedure for a prefixed set of values of **mu** and obtain a set of **q_mu_90** points.\n",
    "- Interpolate the latter set of points and you'll have a curve describing the evolution of the 90% quantile of the test statistic **q_mu_90** as a function of the tested value of **mu**.\n",
    "- Now you can use that curve to compute the limits.\n",
    "\n",
    "**Compute the limits or the sensitivity**\n",
    "- Given a dataset, that can be real data (for real limit) or toy bkg only data (for sensitivity), one compute the value of **q_mu** for a given **mu**.\n",
    "- Check that value againts the **q_mu_90** curve to find if its p-value is larger than 10%, if yes that **mu** hypothesis is excluded.\n",
    "- Find the value of **mu** for which the likelihood ratio curve **q_mu** intersect the **q_mu_90** curve, that is the limit at 90% CL.\n",
    "- If you are computing the real limmit then you are done, if you are computing sensitivity then repeat these last 2 points for many toy datasets untill you'll get the distribution of limits under the **H_0**. Find the median and 1-2sigma of that distro."
   ]
  },
  {
   "cell_type": "markdown",
   "metadata": {},
   "source": [
    "# The focus of the tutorial\n",
    "This tutorial is devoted to show you how to use Xephyr classes to produce MC pseudo-datasets from background and signal models, so to generate toys under any of the **H_mu** hypothesis. We will show that it is very easy to do so once you have previously defined a likelihood.\n"
   ]
  },
  {
   "cell_type": "markdown",
   "metadata": {},
   "source": [
    "## The Setup \n",
    "First of all I suggest you to produce a single compilable macro that contains the likelihood you want to use, you can find in other tutorial how to define the likelihood [here](https://xenon1t.github.io/Xephyr/docs/tutorials.html). The idea of this macro is to define a function that you can use to retrieve the likelihood, so that you have it defined in one place only.You can get inspiration on how to write this function from [here](https://github.com/XENON1T/Xephyr/blob/master/examples/SR1Like/src/likelihoodDef.cxx).\n",
    "\n",
    "This tutorial depends on the likelihood definition of SR1,  so you need to download the SR1 repository.\n",
    "```bash\n",
    "cd XEPHYR_DIR\n",
    "git clone git@github.com:XENON1T/SR1Results.git SR1\n",
    "```"
   ]
  },
  {
   "cell_type": "markdown",
   "metadata": {},
   "source": [
    "# Part 1) Retrieve the likelihood"
   ]
  },
  {
   "cell_type": "code",
   "execution_count": 1,
   "metadata": {
    "scrolled": false
   },
   "outputs": [
    {
     "name": "stdout",
     "output_type": "stream",
     "text": [
      "\n",
      "\n",
      "      =================== Welcome to Xephyr =====================\n",
      "       Version 6.0 dated 10-Oct-2017, compiled with ROOT 6.14/00\n",
      "      ===========================================================\n",
      "\n",
      "(int) 0\n"
     ]
    }
   ],
   "source": [
    ".x ../loadXephyr.C"
   ]
  },
  {
   "cell_type": "code",
   "execution_count": 2,
   "metadata": {
    "scrolled": false
   },
   "outputs": [],
   "source": [
    "// add path to include files to ROOT (in the file I'm going to load there are some Xephyr includes) \n",
    "gInterpreter->AddIncludePath(\"../src\");  // in this case is just XEPHYR src from next dir."
   ]
  },
  {
   "cell_type": "markdown",
   "metadata": {},
   "source": [
    "Now we load the SR1 likelihood macro, where the definition of the likelihood is."
   ]
  },
  {
   "cell_type": "code",
   "execution_count": 3,
   "metadata": {
    "scrolled": false
   },
   "outputs": [],
   "source": [
    ".L ../../SR1/StatisticalAnalyses/xephyr_sr1_likelihood/src/likelihoodDef.cxx"
   ]
  },
  {
   "cell_type": "code",
   "execution_count": 4,
   "metadata": {
    "scrolled": true
   },
   "outputs": [
    {
     "name": "stdout",
     "output_type": "stream",
     "text": [
      "pdfComponent::Constructor - INFO : Reading file /home/pan/work/XEPHYR/SR1/StatisticalAnalyses/inputs_for_likelihood/lax_1.5.1_egg/sliced_2d_templates/ERBackgroundModel_Stitched_SR1_RunSourceCombinedFit180420.root\n",
      "pdfComponent::Constructor - INFO : Reading file /home/pan/work/XEPHYR/SR1/StatisticalAnalyses/inputs_for_likelihood/lax_1.5.1_egg/sliced_2d_templates/Background_wall_ac_templates_v6_inegg_bin_SR1_2018-04-30.root\n",
      "pdfComponent::Constructor - INFO : Reading file /home/pan/work/XEPHYR/SR1/StatisticalAnalyses/inputs_for_likelihood/lax_1.5.1_egg/sliced_2d_templates/Background_wall_ac_templates_v6_inegg_bin_SR1_2018-04-30.root\n",
      "pdfComponent::Constructor - INFO : Reading file /home/pan/work/XEPHYR/SR1/StatisticalAnalyses/inputs_for_likelihood/lax_1.5.1_egg/sliced_2d_templates/RadiogenicNRBackgroundModel_SR1_RunSourceCombined180420.root\n",
      "pdfComponent::Constructor - INFO : Reading file /home/pan/work/XEPHYR/SR1/StatisticalAnalyses/inputs_for_likelihood/lax_1.5.1_egg/sliced_2d_templates/RadiogenicNeutronXBackgroundModel_SR1_RunSourceCombined180420.root\n",
      "pdfComponent::Constructor - INFO : Reading file /home/pan/work/XEPHYR/SR1/StatisticalAnalyses/inputs_for_likelihood/lax_1.5.1_egg/sliced_2d_templates/CNNSBackgroundModel_SR1_RunSourceCombinedFit180420.root\n",
      "pdfComponent::Constructor - INFO : Reading file /home/pan/work/XEPHYR/SR1/StatisticalAnalyses/inputs_for_likelihood/lax_1.5.1_egg/sliced_2d_templates/SignalModel_SR1_50GeV_FromRunSourceCombinedFit180420.root\n",
      "scale Signal uncertainty: 0.0244569\n",
      "pdfLikelihood - INFO: bkg component named CNNS added to    NOT SAFEGUARDED\n",
      "pdfLikelihood - INFO: bkg component named RadiogenicNX added to    NOT SAFEGUARDED\n",
      "pdfLikelihood - INFO: bkg component named RadiogenicNR added to    NOT SAFEGUARDED\n",
      "pdfLikelihood - INFO: bkg component named AC added to    NOT SAFEGUARDED\n",
      "pdfLikelihood - INFO: bkg component named Wall added to    NOT SAFEGUARDED\n",
      "pdfLikelihood - INFO: bkg component named ER added to    SAFEGUARDED\n",
      "pdfLikelihood::initialize - INFO :  initialize..... \n",
      "Stat::checkInputs - WARNING : no data are set. BETTER YOU KNOW WHAT YOU ARE DOING!\n",
      "\tLikelihood::addParameter - Info : Adding parameter Sigma  with ID -1  to PL L_SR1_V0\n",
      "INFO :  adding sys for BKG component CNNS\n",
      "\tLikelihood::addParameter - Info : Adding parameter CNNSscale0  with ID 1  to PL L_SR1_V0\n",
      "INFO :  adding sys for BKG component RadiogenicNX\n",
      "\tLikelihood::addParameter - Info : Adding parameter RadioscaleNX0  with ID 2  to PL L_SR1_V0\n",
      "INFO :  adding sys for BKG component RadiogenicNR\n",
      "\tLikelihood::addParameter - Info : Adding parameter Radioscale0  with ID 3  to PL L_SR1_V0\n",
      "INFO :  adding sys for BKG component AC\n",
      "\tLikelihood::addParameter - Info : Adding parameter ACscale0  with ID 4  to PL L_SR1_V0\n",
      "INFO :  adding sys for BKG component Wall\n",
      "\tLikelihood::addParameter - Info : Adding parameter Wallscale0  with ID 5  to PL L_SR1_V0\n",
      "INFO :  adding sys for BKG component ER\n",
      "\tLikelihood::addParameter - Info : Adding parameter ERscale0  with ID 6  to PL L_SR1_V0\n",
      "\tLikelihood::addParameter - Info : Adding parameter _py0_  with ID 7  to PL L_SR1_V0\n",
      "\tLikelihood::addParameter - Info : Adding parameter _rf0_  with ID 8  to PL L_SR1_V0\n",
      "INFO :  adding sys for SIGNAL component wimp_50\n",
      "\tLikelihood::addParameter - Info : Adding parameter SignalScale0  with ID 9  to PL L_SR1_V0\n",
      "\n",
      "------ WARNING -------  Safeguard is turned OFF altough you have set components to be safeguarded this is ignored -----\n",
      "\n",
      "pdfLikelihood::initialize - INFO :  initialization SUCCESSFUL. \n"
     ]
    }
   ],
   "source": [
    "double mass = 50.; // GeV\n",
    "int likelihood_type = 0;  // [0=inner egg, 1= U volume, 2 = Wall volume]\n",
    "\n",
    "// The whole SR1 likelihood definition now is in this object here\n",
    "// There is a notebook about how to build the likelihood, check it out.\n",
    "pdfLikelihood *likeHood = getTheLikelihood_SR1( mass, likelihood_type ); \n",
    "\n",
    "// Initialize the likelihood, you always need to call this after you load all PDFs and nuisance parameters\n",
    "likeHood->initialize();\n",
    "\n",
    "// Set parameter of interest constrained positive (not default), because now we want to produce toys\n",
    "likeHood->getPOI()->setMinimum(0.);\n"
   ]
  },
  {
   "cell_type": "markdown",
   "metadata": {},
   "source": [
    "#### Explaination of printout above:\n",
    "ok, there is a lot of print out:\n",
    "- The first block tells you what file have been loaded as PDF\n",
    "- The second block list the loaded bkg component with their names (SR1 has stupid names) and it says if the bkg will have a safeguard uncertainty or not.\n",
    "- The third block tells you which nuissance parameters are added to the likelihood and to which component they belong"
   ]
  },
  {
   "cell_type": "markdown",
   "metadata": {},
   "source": [
    "## Part 2) the  ToyGenerator Class\n",
    "\n",
    "This class is used to generate toys from a [profileLikelihood](https://xenon1t.github.io/Xephyr/class_reference/classProfileLikelihood.html) object, which must be initialized with the models beforehand.\n",
    "\n",
    "[ToyGenerator](https://xenon1t.github.io/Xephyr/class_reference/classToyGenerator.html) generates an output file with a configurable number of MC toy Tree inside. These tree are generated by random extracting S1, S2, from the provided models (TH2F). The total number of events generated per model is Poisson extracted from the average expectation for that background, also defined in the likelihood. \n",
    "\n",
    "The typical flow is:\n",
    "- You generate a file containing many toy MC datasets, let's say 100 datasets per file. This we call a **GENERATION** of that specific background + signal hypothesis.\n",
    "- You repeat the generation process again and again, let's say 100 times, so that you have 100 files each containing 100 datasets that are all generated with same input conditions (signal strenght, bkg expectation, nuissance parameters).\n",
    "- Between each GENERATION you change the seed.\n",
    "- Each GENERATION should have a slightly different name\n",
    "- We produce that many GENERATIONS for the same inputs because then is easier to parallelize the Test statistic computation into many different jobs (the FIT stage). This is the topic of the next [tutorial](https://github.com/XENON1T/Xephyr/blob/master/notebooks/ToyFitter.ipynb). "
   ]
  },
  {
   "cell_type": "code",
   "execution_count": 5,
   "metadata": {
    "scrolled": false
   },
   "outputs": [],
   "source": [
    "TString treeName = \"treeName\";      // name of the output file and prefix of output toy trees\n",
    "TString pathOfFile = \"./\";          // path to output directory\n",
    "ToyGenerator toy(treeName,pathOfFile);  // create an instance"
   ]
  },
  {
   "cell_type": "code",
   "execution_count": 6,
   "metadata": {
    "scrolled": false
   },
   "outputs": [],
   "source": [
    "toy.setLikelihood(likeHood);        // set the likelihood"
   ]
  },
  {
   "cell_type": "code",
   "execution_count": 7,
   "metadata": {
    "scrolled": false
   },
   "outputs": [],
   "source": [
    "toy.setSeed(17);     // you should change the seed as a function of wimp mass and injected signal strenght"
   ]
  },
  {
   "cell_type": "code",
   "execution_count": 8,
   "metadata": {
    "scrolled": false
   },
   "outputs": [
    {
     "name": "stdout",
     "output_type": "stream",
     "text": [
      "ToyGenerator::randomizeNuissanceParameter - INFO : Randomizing parameters:\n",
      "ToyGenerator:: - INFO : Skipping paramater: Sigma\n",
      " Id Name                 Type         Current Value               Uncertainty\n",
      " -1 Sigma                Of interest        0                 \n",
      "  1 CNNSscale0           Nuisance        -1.4                 \n",
      "  2 RadioscaleNX0        Nuisance       -0.94                 \n",
      "  3 Radioscale0          Nuisance        0.36                 \n",
      "  4 ACscale0             Nuisance        0.78                 \n",
      "  5 Wallscale0           Nuisance         1.3                 \n",
      "  6 ERscale0             Free             0.2                 \n",
      "  7 _py0_                Free            0.12                 \n",
      "  8 _rf0_                Free             1.7                 \n",
      "  9 SignalScale0         Nuisance         1.9                 \n"
     ]
    }
   ],
   "source": [
    "// this function would randomize the nuissance parameter according to their definition\n",
    "// For an approximated (as we always do) Neymann construction is not really needed\n",
    "// but is there in case you want to use it for pull studies\n",
    "// /!\\ here we are using it for illustration purpose only, you can and should avoid it at the generation stage\n",
    "toy.randomizeNuissanceParameter();"
   ]
  },
  {
   "cell_type": "markdown",
   "metadata": {},
   "source": [
    "## Part 3) Generate your first toy data"
   ]
  },
  {
   "cell_type": "markdown",
   "metadata": {},
   "source": [
    "This is super easy, the toyGenerator class does everything from you based on the info stored in the likelihood.\n",
    "The only thing you need to do is to fire the function:\n",
    "\n",
    "```c++\n",
    "ToyGenerator::generateData(double mu, int N, bool randomizeNP = false)\n",
    "\n",
    "// mu = signal multiplier,  N = number of datasets\n",
    "// randomizeNP = flag to randomize or not the nuissance parameter. \n",
    "// you want to puth this to false (default is False).\n",
    "```\n",
    "\n",
    "**NOTE:** generateData will overwrite any file that has same name as \"treeName\" above. "
   ]
  },
  {
   "cell_type": "code",
   "execution_count": 9,
   "metadata": {
    "scrolled": false
   },
   "outputs": [
    {
     "name": "stdout",
     "output_type": "stream",
     "text": [
      "\n",
      "\n",
      "--------------Event Summary------------------\n",
      "PdfComponent Name \tEvents\n",
      "CNNS \t 0.0146\n",
      "RadiogenicNX \t 0.0071\n",
      "RadiogenicNR \t 0.2358\n",
      "AC \t 0.3629\n",
      "Wall \t 0.5447\n",
      "ER \t 314.8052\n",
      "Signal \t 78.4239\n"
     ]
    }
   ],
   "source": [
    "// first let's have a look at what are we generating, let's print the expectation for background and signal\n",
    "// note that signal number of events are for e-45 cm^2 cross section in this case, for you will be whatever \n",
    "//is in the histogram \n",
    "likeHood->printEventSummary();  "
   ]
  },
  {
   "cell_type": "code",
   "execution_count": 10,
   "metadata": {
    "scrolled": false
   },
   "outputs": [
    {
     "name": "stdout",
     "output_type": "stream",
     "text": [
      " Id Name                 Type         Current Value               Uncertainty\n",
      " -1 Sigma                Of interest        5                 \n",
      "  1 CNNSscale0           Nuisance        -1.4                 \n",
      "  2 RadioscaleNX0        Nuisance       -0.94                 \n",
      "  3 Radioscale0          Nuisance        0.36                 \n",
      "  4 ACscale0             Nuisance        0.78                 \n",
      "  5 Wallscale0           Nuisance         1.3                 \n",
      "  6 ERscale0             Free             0.2                 \n",
      "  7 _py0_                Free            0.12                 \n",
      "  8 _rf0_                Free             1.7                 \n",
      "  9 SignalScale0         Nuisance         1.9                 \n"
     ]
    }
   ],
   "source": [
    "double mu = 5;            // number of signal injected events\n",
    "int    N  = 100;           // number of toy datasets generated in the file ( I found that 100 is a nice number )\n",
    "int    Gen = 1;           \n",
    "\n",
    "toy.setGeneration( Gen );  // Optional, give a number to this GENERATION, this will be written in output tree\n",
    "toy.setLikeType( likelihood_type );  // Optional, write to the output tree the likelihood type (integer) info.\n",
    "\n",
    "toy.setPrintLevel( WARNING );       // to reduce a bit the printout\n",
    "\n",
    "toy.generateData( mu, N, false );   // generate fake dark matter data "
   ]
  },
  {
   "cell_type": "markdown",
   "metadata": {},
   "source": [
    "#### Generate Calibration:\n",
    "The calibration dataset is a special one because one generates it from fewer models, in this case ER + AC + wall.\n",
    "Also the AC and Wall model utilized here must be different than the one used for the nominal background model (for DM data generation).\n",
    "\n",
    "The **toyGenerator** class takes the info for the calibration dataset generation from:\n",
    "- All the models in the likelihood that are flagged **safeguarded**, the relative scale between them is preserved.\n",
    "- All other additional models that are specific for calibation (and appear only in calibration) but be set using the \n",
    "**setAdditionalSafeGuardComponent** of the likelihood.\n",
    "- Note: in case the safeguard parameter is != 0, then a safeguard component will be also injected in the calibration toys."
   ]
  },
  {
   "cell_type": "code",
   "execution_count": 11,
   "metadata": {
    "scrolled": true
   },
   "outputs": [],
   "source": [
    "int N_cal = 15000;                     // Average number of calibration events from which we Poisson extract.\n",
    "\n",
    "toy.setAverageCalibrationEvents(N_cal);\n",
    "\n",
    "// as above but now generate calibration data: generateCalibration(int N, bool randomizeNP = true);\n",
    "toy.generateCalibration( N, false);  \n",
    "// Note that N is the same as above, in fact each DM dataset must have a corresponding calibration dataset.  "
   ]
  },
  {
   "cell_type": "markdown",
   "metadata": {},
   "source": [
    "## Part 4)  Let's have a look at what we've created\n",
    "In the specified directory you'll get a file named with your specified \"TreeName\" with N trees inside.\n",
    "Each tree contains a TList of the parameter values that have been used for producing that tree and can be considered as the truth for that toy dataset. This info can be accessed with the TTree::GetUserInfo() method.\n",
    "\n",
    "The Trees contain 3 branches: cs1, cs2 and type. Type is a string that define the type of the specific event, and reports the name of the **pdfComponent** (background or signal model) from which has been extracted."
   ]
  },
  {
   "cell_type": "code",
   "execution_count": 12,
   "metadata": {
    "scrolled": true
   },
   "outputs": [
    {
     "name": "stdout",
     "output_type": "stream",
     "text": [
      "TFile**\t\t./treeName.root\t\n",
      " TFile*\t\t./treeName.root\t\n",
      "  KEY: TTree\ttreeName_0;1\tgenerated toy data\n",
      "  KEY: TTree\ttreeName_1;1\tgenerated toy data\n",
      "  KEY: TTree\ttreeName_2;1\tgenerated toy data\n",
      "  KEY: TTree\ttreeName_3;1\tgenerated toy data\n",
      "  KEY: TTree\ttreeName_4;1\tgenerated toy data\n",
      "  KEY: TTree\ttreeName_5;1\tgenerated toy data\n",
      "  KEY: TTree\ttreeName_6;1\tgenerated toy data\n",
      "  KEY: TTree\ttreeName_7;1\tgenerated toy data\n",
      "  KEY: TTree\ttreeName_8;1\tgenerated toy data\n",
      "  KEY: TTree\ttreeName_9;1\tgenerated toy data\n",
      "  KEY: TTree\ttreeName_10;1\tgenerated toy data\n",
      "  KEY: TTree\ttreeName_11;1\tgenerated toy data\n",
      "  KEY: TTree\ttreeName_12;1\tgenerated toy data\n",
      "  KEY: TTree\ttreeName_13;1\tgenerated toy data\n",
      "  KEY: TTree\ttreeName_14;1\tgenerated toy data\n",
      "  KEY: TTree\ttreeName_15;1\tgenerated toy data\n",
      "  KEY: TTree\ttreeName_16;1\tgenerated toy data\n",
      "  KEY: TTree\ttreeName_17;1\tgenerated toy data\n",
      "  KEY: TTree\ttreeName_18;1\tgenerated toy data\n",
      "  KEY: TTree\ttreeName_19;1\tgenerated toy data\n",
      "  KEY: TTree\ttreeName_20;1\tgenerated toy data\n",
      "  KEY: TTree\ttreeName_21;1\tgenerated toy data\n",
      "  KEY: TTree\ttreeName_22;1\tgenerated toy data\n",
      "  KEY: TTree\ttreeName_23;1\tgenerated toy data\n",
      "  KEY: TTree\ttreeName_24;1\tgenerated toy data\n",
      "  KEY: TTree\ttreeName_25;1\tgenerated toy data\n",
      "  KEY: TTree\ttreeName_26;1\tgenerated toy data\n",
      "  KEY: TTree\ttreeName_27;1\tgenerated toy data\n",
      "  KEY: TTree\ttreeName_28;1\tgenerated toy data\n",
      "  KEY: TTree\ttreeName_29;1\tgenerated toy data\n",
      "  KEY: TTree\ttreeName_30;1\tgenerated toy data\n",
      "  KEY: TTree\ttreeName_31;1\tgenerated toy data\n",
      "  KEY: TTree\ttreeName_32;1\tgenerated toy data\n",
      "  KEY: TTree\ttreeName_33;1\tgenerated toy data\n",
      "  KEY: TTree\ttreeName_34;1\tgenerated toy data\n",
      "  KEY: TTree\ttreeName_35;1\tgenerated toy data\n",
      "  KEY: TTree\ttreeName_36;1\tgenerated toy data\n",
      "  KEY: TTree\ttreeName_37;1\tgenerated toy data\n",
      "  KEY: TTree\ttreeName_38;1\tgenerated toy data\n",
      "  KEY: TTree\ttreeName_39;1\tgenerated toy data\n",
      "  KEY: TTree\ttreeName_40;1\tgenerated toy data\n",
      "  KEY: TTree\ttreeName_41;1\tgenerated toy data\n",
      "  KEY: TTree\ttreeName_42;1\tgenerated toy data\n",
      "  KEY: TTree\ttreeName_43;1\tgenerated toy data\n",
      "  KEY: TTree\ttreeName_44;1\tgenerated toy data\n",
      "  KEY: TTree\ttreeName_45;1\tgenerated toy data\n",
      "  KEY: TTree\ttreeName_46;1\tgenerated toy data\n",
      "  KEY: TTree\ttreeName_47;1\tgenerated toy data\n",
      "  KEY: TTree\ttreeName_48;1\tgenerated toy data\n",
      "  KEY: TTree\ttreeName_49;1\tgenerated toy data\n",
      "  KEY: TTree\ttreeName_50;1\tgenerated toy data\n",
      "  KEY: TTree\ttreeName_51;1\tgenerated toy data\n",
      "  KEY: TTree\ttreeName_52;1\tgenerated toy data\n",
      "  KEY: TTree\ttreeName_53;1\tgenerated toy data\n",
      "  KEY: TTree\ttreeName_54;1\tgenerated toy data\n",
      "  KEY: TTree\ttreeName_55;1\tgenerated toy data\n",
      "  KEY: TTree\ttreeName_56;1\tgenerated toy data\n",
      "  KEY: TTree\ttreeName_57;1\tgenerated toy data\n",
      "  KEY: TTree\ttreeName_58;1\tgenerated toy data\n",
      "  KEY: TTree\ttreeName_59;1\tgenerated toy data\n",
      "  KEY: TTree\ttreeName_60;1\tgenerated toy data\n",
      "  KEY: TTree\ttreeName_61;1\tgenerated toy data\n",
      "  KEY: TTree\ttreeName_62;1\tgenerated toy data\n",
      "  KEY: TTree\ttreeName_63;1\tgenerated toy data\n",
      "  KEY: TTree\ttreeName_64;1\tgenerated toy data\n",
      "  KEY: TTree\ttreeName_65;1\tgenerated toy data\n",
      "  KEY: TTree\ttreeName_66;1\tgenerated toy data\n",
      "  KEY: TTree\ttreeName_67;1\tgenerated toy data\n",
      "  KEY: TTree\ttreeName_68;1\tgenerated toy data\n",
      "  KEY: TTree\ttreeName_69;1\tgenerated toy data\n",
      "  KEY: TTree\ttreeName_70;1\tgenerated toy data\n",
      "  KEY: TTree\ttreeName_71;1\tgenerated toy data\n",
      "  KEY: TTree\ttreeName_72;1\tgenerated toy data\n",
      "  KEY: TTree\ttreeName_73;1\tgenerated toy data\n",
      "  KEY: TTree\ttreeName_74;1\tgenerated toy data\n",
      "  KEY: TTree\ttreeName_75;1\tgenerated toy data\n",
      "  KEY: TTree\ttreeName_76;1\tgenerated toy data\n",
      "  KEY: TTree\ttreeName_77;1\tgenerated toy data\n",
      "  KEY: TTree\ttreeName_78;1\tgenerated toy data\n",
      "  KEY: TTree\ttreeName_79;1\tgenerated toy data\n",
      "  KEY: TTree\ttreeName_80;1\tgenerated toy data\n",
      "  KEY: TTree\ttreeName_81;1\tgenerated toy data\n",
      "  KEY: TTree\ttreeName_82;1\tgenerated toy data\n",
      "  KEY: TTree\ttreeName_83;1\tgenerated toy data\n",
      "  KEY: TTree\ttreeName_84;1\tgenerated toy data\n",
      "  KEY: TTree\ttreeName_85;1\tgenerated toy data\n",
      "  KEY: TTree\ttreeName_86;1\tgenerated toy data\n",
      "  KEY: TTree\ttreeName_87;1\tgenerated toy data\n",
      "  KEY: TTree\ttreeName_88;1\tgenerated toy data\n",
      "  KEY: TTree\ttreeName_89;1\tgenerated toy data\n",
      "  KEY: TTree\ttreeName_90;1\tgenerated toy data\n",
      "  KEY: TTree\ttreeName_91;1\tgenerated toy data\n",
      "  KEY: TTree\ttreeName_92;1\tgenerated toy data\n",
      "  KEY: TTree\ttreeName_93;1\tgenerated toy data\n",
      "  KEY: TTree\ttreeName_94;1\tgenerated toy data\n",
      "  KEY: TTree\ttreeName_95;1\tgenerated toy data\n",
      "  KEY: TTree\ttreeName_96;1\tgenerated toy data\n",
      "  KEY: TTree\ttreeName_97;1\tgenerated toy data\n",
      "  KEY: TTree\ttreeName_98;1\tgenerated toy data\n",
      "  KEY: TTree\ttreeName_99;1\tgenerated toy data\n"
     ]
    }
   ],
   "source": [
    "// Opening and printing output file content:\n",
    "\n",
    "TFile *file = TFile::Open(pathOfFile + treeName + \".root\");  // science data\n",
    "TFile *cal_file = TFile::Open(pathOfFile + treeName + \"_Cal.root\");  // The calibration data by convention have the same name but suffix _Cal\n",
    "file->ls();"
   ]
  },
  {
   "cell_type": "code",
   "execution_count": 13,
   "metadata": {
    "scrolled": false
   },
   "outputs": [],
   "source": [
    "// Retrieve one of the toy trees\n",
    "\n",
    "TTree *tree = (TTree*)file->Get(treeName+\"_4\");         // science data\n",
    "TTree *tree_cal = (TTree*)file->Get(treeName+\"_Cal4\");  // calibration"
   ]
  },
  {
   "cell_type": "code",
   "execution_count": 14,
   "metadata": {
    "scrolled": false
   },
   "outputs": [
    {
     "name": "stdout",
     "output_type": "stream",
     "text": [
      "Collection name='UserInfo', class='TList', size=10\n",
      "  TParameter<double>\tSigma = 5\n",
      "  TParameter<double>\tCNNSscale0 = -1.36356\n",
      "  TParameter<double>\tRadioscaleNX0 = -0.939959\n",
      "  TParameter<double>\tRadioscale0 = 0.35626\n",
      "  TParameter<double>\tACscale0 = 0.77773\n",
      "  TParameter<double>\tWallscale0 = 1.25762\n",
      "  TParameter<double>\tERscale0 = 0.201644\n",
      "  TParameter<double>\t_py0_ = 0.119668\n",
      "  TParameter<double>\t_rf0_ = 1.68733\n",
      "  TParameter<double>\tSignalScale0 = 1.90761\n"
     ]
    }
   ],
   "source": [
    "// Print the value of the nuissance parameter (including parameter of interest) \n",
    "// with wich the toy has been generated and are stored as TParameter and in the tree,\n",
    "// they can be accessed with usual TList functions. \n",
    "\n",
    "TList *l = tree->GetUserInfo();  // this is a list stored in TTree\n",
    "l->Print();                      // let's print the params for one tree, they are stored in TParameter class type.\n",
    "\n",
    "// Note: sigma here is actually the averaged number of signal injected events  mu (pardon the inconsistency of naming conventions)"
   ]
  },
  {
   "cell_type": "code",
   "execution_count": 15,
   "metadata": {
    "scrolled": false
   },
   "outputs": [
    {
     "name": "stdout",
     "output_type": "stream",
     "text": [
      "******************************************************************************\n",
      "*Tree    :treeName_4: generated toy data                                     *\n",
      "*Entries :      337 : Total =           13537 bytes  File  Size =       5902 *\n",
      "*        :          : Tree compression factor =   2.05                       *\n",
      "******************************************************************************\n",
      "*Br    0 :cs1       : cs1/F                                                  *\n",
      "*Entries :      337 : Total  Size=       1901 bytes  File Size  =       1424 *\n",
      "*Baskets :        1 : Basket Size=      32000 bytes  Compression=   1.00     *\n",
      "*............................................................................*\n",
      "*Br    1 :cs2       : cs2/F                                                  *\n",
      "*Entries :      337 : Total  Size=       1901 bytes  File Size  =       1424 *\n",
      "*Baskets :        1 : Basket Size=      32000 bytes  Compression=   1.00     *\n",
      "*............................................................................*\n",
      "*Br    2 :type      : string                                                 *\n",
      "*Entries :      337 : Total  Size=       2966 bytes  File Size  =       1483 *\n",
      "*Baskets :        1 : Basket Size=      32000 bytes  Compression=   1.67     *\n",
      "*............................................................................*\n",
      "*Br    3 :generation : generation/I                                          *\n",
      "*Entries :      337 : Total  Size=       1936 bytes  File Size  =        119 *\n",
      "*Baskets :        1 : Basket Size=      32000 bytes  Compression=  12.03     *\n",
      "*............................................................................*\n",
      "*Br    4 :likelihoodType : likelihoodType/I                                  *\n",
      "*Entries :      337 : Total  Size=       1956 bytes  File Size  =        120 *\n",
      "*Baskets :        1 : Basket Size=      32000 bytes  Compression=  11.96     *\n",
      "*............................................................................*\n",
      "*Br    5 :toyItr    : toyItr/I                                               *\n",
      "*Entries :      337 : Total  Size=       1916 bytes  File Size  =        115 *\n",
      "*Baskets :        1 : Basket Size=      32000 bytes  Compression=  12.41     *\n",
      "*............................................................................*\n"
     ]
    }
   ],
   "source": [
    "// Show the branches stored in the tree\n",
    "\n",
    "tree->Print();\n",
    "\n",
    "// Note: \"generation\" is the GENERATION number assigned to this file and the \"toyItr\" is the number assigned to \n",
    "// this specific tree inside that generation file. \n",
    "// You may ask: WTF is that? Well, my young Padawan, this is to make your life easier. This info is in fact passed\n",
    "// to the Fit algorithm  and written in its output tree, those many output tree for each generation are then hadd \n",
    "// togheter, with this info you can keep track of which toy gave a specific set of post-fit values and later get \n",
    "// back to it. But you will see in the next tutorial.\n"
   ]
  },
  {
   "cell_type": "code",
   "execution_count": 16,
   "metadata": {
    "scrolled": false
   },
   "outputs": [
    {
     "data": {
      "image/png": "[encoded data removed]",
      "text/plain": [
       "<IPython.core.display.Image object>"
      ]
     },
     "metadata": {},
     "output_type": "display_data"
    }
   ],
   "source": [
    "// Show here the number of events for each generated model.\n",
    "\n",
    "TCanvas *c2 = new TCanvas();\n",
    "tree->Draw(\"type\");\n",
    "c2->Draw();"
   ]
  },
  {
   "cell_type": "code",
   "execution_count": 17,
   "metadata": {
    "scrolled": false
   },
   "outputs": [
    {
     "data": {
      "image/png": "[encoded data removed]",
      "text/plain": [
       "<IPython.core.display.Image object>"
      ]
     },
     "metadata": {},
     "output_type": "display_data"
    }
   ],
   "source": [
    "// A bit more fancy plotting ;)\n",
    "\n",
    "TCanvas *c4 = new TCanvas();\n",
    "gStyle->SetOptTitle(kFALSE);\n",
    "gStyle->SetOptStat(0);\n",
    "\n",
    "TH2F *h = new TH2F(\"h\",\"signal\",100,0,70,100,2,3.7);\n",
    "h->SetMarkerStyle(kOpenCircle);\n",
    "tree->Draw(\"cs2:cs1>>h\",\"type==\\\"wimp_50\\\"\");  // this is actually log10(cs2)\n",
    "TH2F *h2 = new TH2F(\"h2\",\"ER bkg\",100,0,70,100,2,3.7);\n",
    "h2->SetMarkerStyle(kFullTriangleUp);\n",
    "tree->Draw(\"cs2:cs1>>h2\",\"type==\\\"ER\\\"\");\n",
    "h->Draw(\"P\");\n",
    "h2->Draw(\"SAME P\");\n",
    "gPad->BuildLegend();\n",
    "c4->Draw();"
   ]
  },
  {
   "cell_type": "markdown",
   "metadata": {
    "collapsed": true
   },
   "source": [
    "# That's it!\n",
    "\n",
    "### **A real life example** of how to play with this class and actually generate toys is in the SR1 [repository](https://github.com/XENON1T/SR1Results/tree/master/StatisticalAnalyses/xephyr_sr1_likelihood) and the file dedicated to toy generation is  [toy_gen_main.cxx](https://github.com/XENON1T/SR1Results/blob/master/StatisticalAnalyses/xephyr_sr1_likelihood/toy_gen_main.cxx)\n",
    "### **The next Tutorial:** computing the distribution of the test statistic from fit of the generated toy data. You find it [here](https://github.com/XENON1T/Xephyr/blob/master/notebooks/ToyFitter.ipynb)"
   ]
  },
  {
   "cell_type": "code",
   "execution_count": 18,
   "metadata": {},
   "outputs": [
    {
     "name": "stdout",
     "output_type": "stream",
     "text": [
      "************************************************\n",
      "*    Row   *      type *       cs1 *       cs2 *\n",
      "************************************************\n",
      "*        0 *      Wall * 15.560786 * 2.3286125 *\n",
      "*        1 *        ER * 28.657278 * 3.2665255 *\n",
      "*        2 *        ER * 21.592306 * 3.1257860 *\n",
      "*        3 *        ER * 32.843582 * 3.2359802 *\n",
      "*        4 *        ER * 14.665492 * 3.2152822 *\n",
      "*        5 *        ER * 10.198130 * 3.1228909 *\n",
      "*        6 *        ER * 50.739940 * 3.2271876 *\n",
      "*        7 *        ER * 51.119468 * 3.3907055 *\n",
      "*        8 *        ER * 57.152484 * 3.4033587 *\n",
      "*        9 *        ER * 37.147316 * 3.3761451 *\n",
      "*       10 *        ER * 22.996187 * 3.1595151 *\n",
      "*       11 *        ER * 53.279502 * 3.4730625 *\n",
      "*       12 *        ER * 42.294990 * 3.4151313 *\n",
      "*       13 *        ER * 20.296909 * 3.1531055 *\n",
      "*       14 *        ER * 24.149536 * 3.2541985 *\n",
      "*       15 *        ER * 29.368732 * 3.4611940 *\n",
      "*       16 *        ER * 34.337589 * 3.3150713 *\n",
      "*       17 *        ER * 21.185249 * 3.1455817 *\n",
      "*       18 *        ER * 56.782287 * 3.4390912 *\n",
      "*       19 *        ER * 12.093488 * 3.0669117 *\n",
      "*       20 *        ER * 23.113378 * 3.1831948 *\n",
      "*       21 *        ER * 65.985786 * 3.4668011 *\n",
      "*       22 *        ER * 62.180088 * 3.3656883 *\n",
      "*       23 *        ER * 7.2676549 * 3.0220887 *\n",
      "*       24 *        ER * 15.306940 * 3.0711534 *\n",
      "*       25 *        ER * 21.345012 * 3.2266130 *\n",
      "*       26 *        ER * 68.935623 * 3.5873735 *\n",
      "*       27 *        ER * 21.859184 * 3.3023235 *\n",
      "*       28 *        ER * 51.283210 * 3.4615988 *\n",
      "*       29 *        ER * 43.751682 * 3.2697732 *\n",
      "*       30 *        ER * 4.9775219 * 3.1779100 *\n",
      "*       31 *        ER * 20.500009 * 3.2098302 *\n",
      "*       32 *        ER * 43.287879 * 3.3360061 *\n",
      "*       33 *        ER * 29.126659 * 3.2897107 *\n",
      "*       34 *        ER * 50.369716 * 3.4014504 *\n",
      "*       35 *        ER * 62.224182 * 3.4828496 *\n",
      "*       36 *        ER * 4.3120451 * 2.9507298 *\n",
      "*       37 *        ER * 55.158161 * 3.4079089 *\n",
      "*       38 *        ER * 26.871597 * 3.3771488 *\n",
      "*       39 *        ER * 23.751646 * 3.1882295 *\n",
      "*       40 *        ER * 20.700353 * 3.1971011 *\n",
      "*       41 *        ER * 15.018739 * 3.3342781 *\n",
      "*       42 *        ER * 33.187362 * 3.2887799 *\n",
      "*       43 *        ER * 65.360542 * 3.4679913 *\n",
      "*       44 *        ER * 29.845535 * 3.1885094 *\n",
      "*       45 *        ER * 35.256645 * 3.3955349 *\n",
      "*       46 *        ER * 66.414176 * 3.5687198 *\n",
      "*       47 *        ER * 63.581340 * 3.3299517 *\n",
      "*       48 *        ER * 36.878147 * 3.3331124 *\n",
      "*       49 *        ER * 58.313896 * 3.4421548 *\n",
      "*       50 *        ER * 38.329517 * 3.3390619 *\n",
      "*       51 *        ER * 47.793968 * 3.3042550 *\n",
      "*       52 *        ER * 50.667106 * 3.3973727 *\n",
      "*       53 *        ER * 69.915763 * 3.4355669 *\n",
      "*       54 *        ER * 16.884004 * 3.2730147 *\n",
      "*       55 *        ER * 46.618183 * 3.3065664 *\n",
      "*       56 *        ER * 20.129142 * 3.1986763 *\n",
      "*       57 *        ER * 68.186363 * 3.3486521 *\n",
      "*       58 *        ER * 53.699104 * 3.3984329 *\n",
      "*       59 *        ER * 8.4301176 * 2.9710533 *\n",
      "*       60 *        ER * 36.096519 * 3.2164690 *\n",
      "*       61 *        ER * 59.042911 * 3.3216314 *\n",
      "*       62 *        ER * 44.114353 * 3.2943961 *\n",
      "*       63 *        ER * 18.311784 * 3.2614414 *\n",
      "*       64 *        ER * 50.011962 * 3.4176793 *\n",
      "*       65 *        ER * 6.0493111 * 2.8008132 *\n",
      "*       66 *        ER * 20.814960 * 3.2833447 *\n",
      "*       67 *        ER * 57.298027 * 3.1190707 *\n",
      "*       68 *        ER * 28.197952 * 3.1716568 *\n",
      "*       69 *        ER * 30.489425 * 3.2138412 *\n",
      "*       70 *        ER * 6.1377892 * 3.0840377 *\n",
      "*       71 *        ER * 26.439712 * 3.1090431 *\n",
      "*       72 *        ER * 33.728569 * 3.3127462 *\n",
      "*       73 *        ER * 26.281917 * 3.1620788 *\n",
      "*       74 *        ER * 54.721279 * 3.3532812 *\n",
      "*       75 *        ER * 65.129158 * 3.5639669 *\n",
      "*       76 *        ER * 56.024204 * 3.4448378 *\n",
      "*       77 *        ER * 43.957675 * 3.3739607 *\n",
      "*       78 *        ER * 43.682525 * 3.4477174 *\n",
      "*       79 *        ER * 23.317691 * 3.2917804 *\n",
      "*       80 *        ER * 56.294006 * 3.3598604 *\n",
      "*       81 *        ER * 66.213424 * 3.3520019 *\n",
      "*       82 *        ER * 69.358924 * 3.5396244 *\n",
      "*       83 *        ER * 32.208457 * 3.0985477 *\n",
      "*       84 *        ER * 61.145034 * 3.3589336 *\n",
      "*       85 *        ER * 47.054336 * 3.3882732 *\n",
      "*       86 *        ER * 40.526325 * 3.3661832 *\n",
      "*       87 *        ER * 53.747097 * 3.2816145 *\n",
      "*       88 *        ER * 6.0663085 * 3.0202124 *\n",
      "*       89 *        ER * 43.487846 * 3.3321561 *\n",
      "*       90 *        ER * 18.378618 * 3.2781660 *\n",
      "*       91 *        ER * 25.419479 * 3.1709780 *\n",
      "*       92 *        ER * 67.212966 * 3.3281204 *\n",
      "*       93 *        ER * 48.444465 * 3.4563984 *\n",
      "*       94 *        ER * 36.345905 * 3.2499570 *\n",
      "*       95 *        ER * 18.637725 * 3.1568648 *\n",
      "*       96 *        ER * 40.167354 * 3.3639032 *\n",
      "*       97 *        ER * 68.965576 * 3.3625984 *\n",
      "*       98 *        ER * 13.753651 * 3.1366686 *\n",
      "*       99 *        ER * 15.242861 * 3.0861260 *\n",
      "*      100 *        ER * 69.055152 * 3.3331463 *\n",
      "*      101 *        ER * 50.033977 * 3.3613517 *\n",
      "*      102 *        ER * 14.004962 * 3.2876341 *\n",
      "*      103 *        ER * 27.982591 * 3.2915453 *\n",
      "*      104 *        ER * 16.746866 * 3.3664126 *\n",
      "*      105 *        ER * 15.500772 *  3.132514 *\n",
      "*      106 *        ER * 23.968566 * 3.3584852 *\n",
      "*      107 *        ER *  7.965271 * 3.0850281 *\n",
      "*      108 *        ER * 11.675158 * 3.0990023 *\n",
      "*      109 *        ER * 16.551982 * 3.0966482 *\n",
      "*      110 *        ER * 4.9906907 * 2.8871483 *\n",
      "*      111 *        ER * 68.393325 * 3.3566286 *\n",
      "*      112 *        ER * 12.263314 * 2.7831456 *\n",
      "*      113 *        ER * 22.522140 * 3.1999166 *\n",
      "*      114 *        ER * 21.338537 * 3.2371456 *\n",
      "*      115 *        ER * 11.750442 * 2.9846775 *\n",
      "*      116 *        ER * 10.585293 * 2.9536938 *\n",
      "*      117 *        ER * 36.300697 * 3.2856564 *\n",
      "*      118 *        ER * 46.255771 * 3.2264678 *\n",
      "*      119 *        ER * 32.150714 * 3.2341365 *\n",
      "*      120 *        ER * 19.350481 * 3.1722493 *\n",
      "*      121 *        ER * 68.785987 * 3.3363220 *\n",
      "*      122 *        ER * 55.515079 * 3.3436446 *\n",
      "*      123 *        ER * 27.487222 * 3.2057814 *\n",
      "*      124 *        ER * 23.424364 * 3.2394781 *\n",
      "*      125 *        ER * 14.089848 * 3.3058257 *\n",
      "*      126 *        ER * 33.955345 * 3.2475042 *\n",
      "*      127 *        ER * 13.249826 * 3.2333681 *\n",
      "*      128 *        ER * 60.475212 * 3.3920414 *\n",
      "*      129 *        ER * 54.548439 * 3.2485871 *\n",
      "*      130 *        ER * 46.124752 * 3.3724291 *\n",
      "*      131 *        ER * 60.913280 * 3.4074444 *\n",
      "*      132 *        ER * 30.714883 * 3.4040200 *\n",
      "*      133 *        ER * 52.796878 * 3.4439568 *\n",
      "*      134 *        ER * 39.288944 * 3.2003705 *\n",
      "*      135 *        ER * 33.701694 * 3.4048142 *\n",
      "*      136 *        ER * 28.344070 * 3.3620114 *\n",
      "*      137 *        ER * 64.762786 * 3.3684761 *\n",
      "*      138 *        ER * 45.976345 * 3.1620259 *\n",
      "*      139 *        ER * 44.528060 * 3.2891299 *\n",
      "*      140 *        ER * 58.251171 * 3.3705580 *\n",
      "*      141 *        ER * 43.036357 * 3.3266260 *\n",
      "*      142 *        ER * 48.152175 * 3.3985025 *\n",
      "*      143 *        ER * 5.7198925 * 2.9720566 *\n",
      "*      144 *        ER * 55.653511 * 3.4212260 *\n",
      "*      145 *        ER * 54.620323 * 3.3513650 *\n",
      "*      146 *        ER * 40.343277 * 3.2933638 *\n",
      "*      147 *        ER * 33.621864 * 3.3117432 *\n",
      "*      148 *        ER * 29.494831 * 3.4081749 *\n",
      "*      149 *        ER * 43.192546 * 3.1786379 *\n",
      "*      150 *        ER * 19.443706 * 3.2520973 *\n",
      "*      151 *        ER * 16.154737 * 3.1014246 *\n",
      "*      152 *        ER * 26.732055 * 3.2567110 *\n",
      "*      153 *        ER * 15.966927 * 3.0981771 *\n",
      "*      154 *        ER * 67.719108 * 3.4262614 *\n",
      "*      155 *        ER * 22.007057 * 3.1803014 *\n",
      "*      156 *        ER * 20.337022 * 3.0722897 *\n",
      "*      157 *        ER * 3.6890170 * 3.0496306 *\n",
      "*      158 *        ER * 15.859116 * 3.2081060 *\n",
      "*      159 *        ER * 39.078476 * 3.2713437 *\n",
      "*      160 *        ER * 69.076026 * 3.5948982 *\n",
      "*      161 *        ER * 49.347145 * 3.3466260 *\n",
      "*      162 *        ER * 58.977397 * 3.3040013 *\n",
      "*      163 *        ER * 19.226303 * 3.2699952 *\n",
      "*      164 *        ER * 13.093623 * 3.0191462 *\n",
      "*      165 *        ER * 27.401248 * 3.0779759 *\n",
      "*      166 *        ER * 64.009361 * 3.3563120 *\n",
      "*      167 *        ER * 50.243640 * 3.3899636 *\n",
      "*      168 *        ER * 14.853069 * 3.2483384 *\n",
      "*      169 *        ER * 37.182819 * 3.3071656 *\n",
      "*      170 *        ER * 5.6812920 * 3.0763766 *\n",
      "*      171 *        ER * 9.7848758 * 3.1095349 *\n",
      "*      172 *        ER * 69.850555 * 3.3987777 *\n",
      "*      173 *        ER * 20.686620 * 3.1801583 *\n",
      "*      174 *        ER * 61.255573 * 3.3963129 *\n",
      "*      175 *        ER * 57.598072 * 3.2966466 *\n",
      "*      176 *        ER * 26.120050 * 2.9894039 *\n",
      "*      177 *        ER * 31.108720 * 3.3174908 *\n",
      "*      178 *        ER * 6.3734178 * 3.1240172 *\n",
      "*      179 *        ER * 43.960567 * 3.2987008 *\n",
      "*      180 *        ER * 28.264724 * 3.2937927 *\n",
      "*      181 *        ER * 37.770469 * 3.2921557 *\n",
      "*      182 *        ER * 17.778976 * 3.1726789 *\n",
      "*      183 *        ER * 32.269798 * 3.1487453 *\n",
      "*      184 *        ER * 51.888118 * 3.2712936 *\n",
      "*      185 *        ER * 47.209522 * 3.3698484 *\n",
      "*      186 *        ER * 14.408092 * 3.0294625 *\n",
      "*      187 *        ER * 28.409082 * 3.3452746 *\n",
      "*      188 *        ER * 15.197205 * 3.1768553 *\n",
      "*      189 *        ER * 48.071296 * 3.3779332 *\n",
      "*      190 *        ER * 59.180049 * 3.4188556 *\n",
      "*      191 *        ER * 29.962026 * 3.1805825 *\n",
      "*      192 *        ER * 57.684024 * 3.3743073 *\n",
      "*      193 *        ER * 68.604667 * 3.2926435 *\n",
      "*      194 *        ER * 31.869663 * 3.4551460 *\n",
      "*      195 *        ER * 37.624591 * 3.3652784 *\n",
      "*      196 *        ER * 49.812381 * 3.2914631 *\n",
      "*      197 *        ER * 62.979763 * 3.4852411 *\n",
      "*      198 *        ER * 20.436357 * 3.1253397 *\n",
      "*      199 *        ER * 42.430843 * 3.3196961 *\n",
      "*      200 *        ER * 12.528225 * 3.1649396 *\n",
      "*      201 *        ER * 9.7096014 * 2.9693577 *\n",
      "*      202 *        ER * 56.827831 * 3.3866107 *\n",
      "*      203 *        ER * 39.689262 * 3.4162151 *\n",
      "*      204 *        ER * 66.717788 * 3.4896345 *\n",
      "*      205 *        ER * 46.798923 * 3.5090000 *\n",
      "*      206 *        ER * 47.682991 * 3.2958946 *\n",
      "*      207 *        ER * 38.336402 * 3.3588974 *\n",
      "*      208 *        ER * 57.865814 * 3.3725805 *\n",
      "*      209 *        ER * 11.378159 * 2.9579737 *\n",
      "*      210 *        ER * 22.247098 * 3.1679685 *\n",
      "*      211 *        ER * 7.0579872 * 3.1421861 *\n",
      "*      212 *        ER * 26.372499 * 3.2136700 *\n",
      "*      213 *        ER * 59.081264 * 3.4429705 *\n",
      "*      214 *        ER * 43.488838 * 3.1357376 *\n",
      "*      215 *        ER * 42.414848 * 3.2953705 *\n",
      "*      216 *        ER * 29.547729 * 3.1468431 *\n",
      "*      217 *        ER * 20.265295 * 3.1326000 *\n",
      "*      218 *        ER * 17.380472 * 3.2574830 *\n",
      "*      219 *        ER * 19.432909 * 3.0955498 *\n",
      "*      220 *        ER * 54.557151 * 3.5085914 *\n",
      "*      221 *        ER * 30.612436 * 3.2387468 *\n",
      "*      222 *        ER * 20.790838 * 3.2206342 *\n",
      "*      223 *        ER * 9.9966325 * 3.1838431 *\n",
      "*      224 *        ER * 47.419414 * 3.3324422 *\n",
      "*      225 *        ER * 3.1764652 * 2.8706090 *\n",
      "*      226 *        ER * 55.572322 * 3.2908456 *\n",
      "*      227 *        ER * 12.548065 * 3.0103371 *\n",
      "*      228 *        ER * 67.312751 * 3.5714283 *\n",
      "*      229 *        ER * 25.148115 * 3.3103637 *\n",
      "*      230 *        ER * 22.141582 * 3.3863780 *\n",
      "*      231 *        ER * 9.2308588 * 2.9846653 *\n",
      "*      232 *        ER * 8.7503671 * 3.0558400 *\n",
      "*      233 *        ER * 7.2222018 * 2.9827656 *\n",
      "*      234 *        ER * 59.139579 * 3.3971762 *\n",
      "*      235 *        ER * 44.115612 * 3.3482630 *\n",
      "*      236 *        ER * 51.283378 * 3.4091036 *\n",
      "*      237 *        ER * 30.357292 * 3.3536067 *\n",
      "*      238 *        ER * 40.339050 * 3.3880107 *\n",
      "*      239 *        ER * 31.982812 * 3.2948679 *\n",
      "*      240 *        ER * 68.576919 * 3.2809186 *\n",
      "*      241 *        ER * 15.298219 * 3.0905492 *\n",
      "*      242 *        ER * 33.345218 * 3.1617384 *\n",
      "*      243 *        ER * 38.581310 * 3.3378901 *\n",
      "*      244 *        ER * 22.482448 * 3.3064646 *\n",
      "*      245 *        ER * 53.839569 * 3.2356853 *\n",
      "*      246 *        ER * 47.645641 * 3.4348797 *\n",
      "*      247 *        ER * 10.518377 * 3.0150814 *\n",
      "*      248 *        ER * 43.452255 * 3.3394265 *\n",
      "*      249 *        ER * 36.628025 * 3.3224229 *\n",
      "*      250 *        ER * 24.897577 * 3.3183860 *\n",
      "*      251 *        ER * 65.731773 * 3.3077738 *\n",
      "*      252 *        ER * 23.558404 * 3.2594833 *\n",
      "*      253 *        ER * 5.0687460 * 2.9274280 *\n",
      "*      254 *        ER * 25.910539 * 3.1923594 *\n",
      "*      255 *        ER * 62.772426 * 3.3759896 *\n",
      "*      256 *        ER * 9.4087152 * 3.0989503 *\n",
      "*      257 *        ER * 12.678954 * 3.1707456 *\n",
      "*      258 *        ER * 5.2653913 * 3.0378069 *\n",
      "*      259 *        ER * 39.261383 * 3.3014478 *\n",
      "*      260 *        ER *  54.39748 * 3.4127967 *\n",
      "*      261 *        ER * 49.857959 * 3.2470378 *\n",
      "*      262 *        ER * 19.981704 * 2.9313342 *\n",
      "*      263 *        ER * 23.800357 * 3.2118918 *\n",
      "*      264 *        ER * 22.531204 * 3.3528988 *\n",
      "*      265 *        ER * 45.237999 * 3.3914859 *\n",
      "*      266 *        ER * 54.009643 * 3.3569226 *\n",
      "*      267 *        ER * 62.323513 * 3.3649857 *\n",
      "*      268 *        ER * 60.328945 * 3.3051548 *\n",
      "*      269 *        ER * 49.219871 * 3.3719513 *\n",
      "*      270 *        ER * 58.520172 * 3.3421416 *\n",
      "*      271 *        ER * 5.1936516 * 3.2122919 *\n",
      "*      272 *        ER * 24.493400 * 3.2849237 *\n",
      "*      273 *        ER * 10.626176 * 2.9379706 *\n",
      "*      274 *        ER * 17.304012 * 3.1342554 *\n",
      "*      275 *        ER * 23.591556 * 3.2119901 *\n",
      "*      276 *        ER * 17.132503 * 3.1728663 *\n",
      "*      277 *        ER * 38.667511 * 3.4190127 *\n",
      "*      278 *        ER * 42.904670 * 3.3071186 *\n",
      "*      279 *        ER * 37.808082 * 3.3130049 *\n",
      "*      280 *        ER * 16.189012 * 3.0051906 *\n",
      "*      281 *        ER * 18.656501 * 3.0519077 *\n",
      "*      282 *        ER * 45.077301 * 3.4127547 *\n",
      "*      283 *        ER * 8.6469326 * 3.0939397 *\n",
      "*      284 *        ER * 27.309385 * 3.1977903 *\n",
      "*      285 *        ER * 22.592861 * 3.3017823 *\n",
      "*      286 *        ER * 68.736778 * 3.4050846 *\n",
      "*      287 *        ER * 22.294729 * 3.3400900 *\n",
      "*      288 *        ER * 22.810840 * 3.2940385 *\n",
      "*      289 *        ER * 45.499939 * 3.4509415 *\n",
      "*      290 *        ER * 7.9264335 * 3.1082975 *\n",
      "*      291 *        ER * 25.461011 * 3.1663434 *\n",
      "*      292 *        ER * 58.201091 * 3.3056604 *\n",
      "*      293 *        ER * 6.8437724 * 2.9021623 *\n",
      "*      294 *        ER * 30.073055 * 3.2492241 *\n",
      "*      295 *        ER * 29.034610 * 3.1091439 *\n",
      "*      296 *        ER * 20.060323 * 3.1971993 *\n",
      "*      297 *        ER * 33.872898 * 3.2594988 *\n",
      "*      298 *        ER * 63.333953 * 3.4280030 *\n",
      "*      299 *        ER * 62.056583 * 3.4392626 *\n",
      "*      300 *        ER * 40.307220 * 3.4351985 *\n",
      "*      301 *        ER * 38.795105 * 3.2904293 *\n",
      "*      302 *        ER * 57.299766 * 3.4119887 *\n",
      "*      303 *        ER * 67.678657 * 3.4276759 *\n",
      "*      304 *        ER * 67.921432 * 3.5727021 *\n",
      "*      305 *        ER * 22.373954 * 3.1862759 *\n",
      "*      306 *        ER * 22.522337 * 3.3887298 *\n",
      "*      307 *        ER * 15.693443 * 2.9832818 *\n",
      "*      308 *        ER * 46.242244 * 3.3984630 *\n",
      "*      309 *        ER * 47.010627 * 3.1659927 *\n",
      "*      310 *        ER * 55.339740 * 3.3556036 *\n",
      "*      311 *        ER * 31.110326 * 3.3107416 *\n",
      "*      312 *        ER * 40.592517 * 3.2705047 *\n",
      "*      313 *        ER * 10.037803 * 3.2676289 *\n",
      "*      314 *        ER * 19.121248 * 3.1208362 *\n",
      "*      315 *        ER * 5.0123004 * 2.7554569 *\n",
      "*      316 *        ER * 45.790977 * 3.2133376 *\n",
      "*      317 *        ER * 21.567390 * 3.1940569 *\n",
      "*      318 *        ER * 64.414840 * 3.4402928 *\n",
      "*      319 *        ER * 11.820120 * 2.9880263 *\n",
      "*      320 *        ER * 45.992702 * 3.3949804 *\n",
      "*      321 *        ER * 56.463176 * 3.4013061 *\n",
      "*      322 *        ER * 5.7169323 * 2.9660103 *\n",
      "*      323 *        ER * 49.507888 * 3.3129572 *\n",
      "*      324 *        ER * 11.310199 * 3.1115264 *\n",
      "*      325 *        ER * 21.516271 * 3.1129791 *\n",
      "*      326 *        ER * 61.559349 * 3.4899833 *\n",
      "*      327 *        ER * 10.976906 * 3.0391955 *\n",
      "*      328 *        ER * 50.555667 * 3.3653805 *\n",
      "*      329 *        ER * 9.9118309 * 3.1400733 *\n",
      "*      330 *   wimp_50 * 14.268588 * 2.7904458 *\n",
      "*      331 *   wimp_50 * 5.9577245 * 2.6175782 *\n",
      "*      332 *   wimp_50 * 9.6778821 * 2.5650918 *\n",
      "*      333 *   wimp_50 * 8.9644136 * 2.7722764 *\n",
      "*      334 *   wimp_50 * 13.298295 * 2.7234599 *\n",
      "*      335 *   wimp_50 * 48.507362 * 3.0983471 *\n",
      "*      336 *   wimp_50 * 4.2993631 * 2.5388155 *\n",
      "************************************************\n",
      "(long long) 337\n"
     ]
    },
    {
     "name": "stderr",
     "output_type": "stream",
     "text": [
      "Type <CR> to continue or q to quit ==> Type <CR> to continue or q to quit ==> Type <CR> to continue or q to quit ==> Type <CR> to continue or q to quit ==> Type <CR> to continue or q to quit ==> Type <CR> to continue or q to quit ==> Type <CR> to continue or q to quit ==> Type <CR> to continue or q to quit ==> Type <CR> to continue or q to quit ==> Type <CR> to continue or q to quit ==> Type <CR> to continue or q to quit ==> Type <CR> to continue or q to quit ==> Type <CR> to continue or q to quit ==> "
     ]
    }
   ],
   "source": [
    "tree->Scan(\"type:cs1:cs2\")"
   ]
  },
  {
   "cell_type": "code",
   "execution_count": null,
   "metadata": {},
   "outputs": [],
   "source": []
  }
 ],
 "metadata": {
  "kernelspec": {
   "display_name": "ROOT C++",
   "language": "c++",
   "name": "root"
  },
  "language_info": {
   "codemirror_mode": "text/x-c++src",
   "file_extension": ".C",
   "mimetype": " text/x-c++src",
   "name": "c++"
  }
 },
 "nbformat": 4,
 "nbformat_minor": 2
}
