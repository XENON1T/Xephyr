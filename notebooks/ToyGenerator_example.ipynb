{
 "cells": [
  {
   "cell_type": "markdown",
   "metadata": {},
   "source": [
    "# Tutorial for Toy Generation  to be used for limit production"
   ]
  },
  {
   "cell_type": "markdown",
   "metadata": {},
   "source": [
    "#### Some intro here...  //FIXME TODO"
   ]
  },
  {
   "cell_type": "markdown",
   "metadata": {},
   "source": [
    "First of all I suggest you to produce a single compilable macro that contains the likelihood you want to use, you can find in other tutorial how to define the likelihood [here](https://xenon1t.github.io/Xephyr/docs/tutorials.html). The idea of this macro is to define a function that you can use to retrieve the likelihood, so that you have it defined in one place only. You can get inspiration on how to write this function from [here](https://github.com/XENON1T/SR1Results/blob/master/StatisticalAnalyses/xephyr_sr1_likelihood/src/likelihoodDef.cxx)"
   ]
  },
  {
   "cell_type": "code",
   "execution_count": 1,
   "metadata": {},
   "outputs": [
    {
     "name": "stderr",
     "output_type": "stream",
     "text": [
      "Info in <TUnixSystem::ACLiC>: creating shared library /home/pan/work/XEPHYR_PKG/Xephyr/notebooks/./../src/XeStat_cxx.so\n"
     ]
    },
    {
     "name": "stdout",
     "output_type": "stream",
     "text": [
      "(int) 0\n"
     ]
    }
   ],
   "source": [
    ".x loadXephyr.C"
   ]
  },
  {
   "cell_type": "code",
   "execution_count": 2,
   "metadata": {
    "collapsed": true
   },
   "outputs": [],
   "source": [
    "// add path to include files to ROOT (in the file I'm going to load there are some Xephyr includes) \n",
    "gInterpreter->AddIncludePath(\"../src\");  // in this case is just XEPHYR src from next dir.\n",
    "\n",
    "// now load the function to retrieve the likelihood"
   ]
  },
  {
   "cell_type": "code",
   "execution_count": 3,
   "metadata": {
    "collapsed": true
   },
   "outputs": [],
   "source": [
    ".L ../../SR1/StatisticalAnalyses/xephyr_sr1_likelihood/src/likelihoodDef.cxx"
   ]
  },
  {
   "cell_type": "code",
   "execution_count": 4,
   "metadata": {},
   "outputs": [
    {
     "name": "stdout",
     "output_type": "stream",
     "text": [
      "pdfLikelihood - INFO: bkg component named hband added to    SAFEGUARDED\n",
      "pdfLikelihood::initialize - INFO :  initialize..... \n",
      "\tLikelihood::addParameter - Info : Adding parameter Sigma  with ID -1  to PL xe1T\n",
      "INFO :  adding sys for BKG component hband\n",
      "\tLikelihood::addParameter - Info : Adding parameter ERscale  with ID 1  to PL xe1T\n",
      "\tLikelihood::addParameter - Info : Adding parameter _PY  with ID 2  to PL xe1T\n",
      "\tLikelihood::addParameter - Info : Adding parameter _RF  with ID 3  to PL xe1T\n",
      "INFO :  adding sys for SIGNAL component wimp_0050gev\n",
      "\tLikelihood::addParameter - Info : Adding parameter _gamma_  with ID 4  to PL xe1T\n",
      "\tLikelihood::addParameter - Info : Adding parameter _alpha_  with ID 5  to PL xe1T\n",
      "\tLikelihood::addParameter - Info : Adding parameter _eta_  with ID 6  to PL xe1T\n",
      "\tLikelihood::addParameter - Info : Adding parameter _acceptance_par_  with ID 7  to PL xe1T\n",
      "\n",
      "------ WARNING -------  Safeguard is turned OFF altough you have set components to be safeguarded this is ignored -----\n",
      "\n",
      "pdfLikelihood::initialize - INFO :  initialization SUCCESSFUL. \n"
     ]
    }
   ],
   "source": [
    "pdfLikelihood likeHood = getTheLikelihood(50.);  // 50. GeV mass"
   ]
  },
  {
   "cell_type": "code",
   "execution_count": 5,
   "metadata": {
    "collapsed": true
   },
   "outputs": [],
   "source": [
    "ToyGenerator toy(\"toy\",\"out_data\");  // (string 'name', string 'out dir')"
   ]
  },
  {
   "cell_type": "code",
   "execution_count": 6,
   "metadata": {
    "collapsed": true
   },
   "outputs": [],
   "source": [
    "toy.setLikelihood(&likeHood);"
   ]
  },
  {
   "cell_type": "code",
   "execution_count": 11,
   "metadata": {
    "collapsed": true
   },
   "outputs": [],
   "source": [
    "toy.setSeed(127);    // you should change the seed as a function of wimp mass and injected signal strenght"
   ]
  },
  {
   "cell_type": "code",
   "execution_count": 12,
   "metadata": {},
   "outputs": [
    {
     "name": "stdout",
     "output_type": "stream",
     "text": [
      "ToyGenerator::randomizeNuissanceParameter - INFO : Randomizing parameters:\n",
      "ToyGenerator:: - INFO : Skipping paramater: Sigma\n",
      "ToyGenerator:: - WARNING : Following parameter is FREE and will be extracted from uniform distro. ERscale\n",
      "ToyGenerator:: - INFO : Skipping paramater: _gamma_\n",
      "ToyGenerator:: - INFO : Skipping paramater: _eta_\n",
      " Id Name                 Type         Current Value               Uncertainty\n",
      " -1 Sigma                Of interest        0                 \n",
      "  1 ERscale              Free            0.24                 \n",
      "  2 _PY                  Nuisance           1                 \n",
      "  3 _RF                  Nuisance        -1.3                 \n",
      "  4 _gamma_              Fixed              0                 \n",
      "  5 _alpha_              Nuisance       -0.68                 \n",
      "  6 _eta_                Fixed              0                 \n",
      "  7 _acceptance_par_     Nuisance        0.38                 \n"
     ]
    }
   ],
   "source": [
    "toy.randomizeNuissanceParameter();"
   ]
  },
  {
   "cell_type": "code",
   "execution_count": null,
   "metadata": {
    "collapsed": true
   },
   "outputs": [],
   "source": []
  }
 ],
 "metadata": {
  "kernelspec": {
   "display_name": "ROOT C++",
   "language": "c++",
   "name": "root"
  },
  "language_info": {
   "codemirror_mode": "text/x-c++src",
   "file_extension": ".C",
   "mimetype": " text/x-c++src",
   "name": "c++"
  }
 },
 "nbformat": 4,
 "nbformat_minor": 2
}
