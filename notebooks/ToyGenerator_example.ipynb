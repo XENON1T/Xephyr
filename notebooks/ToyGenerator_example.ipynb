{
 "cells": [
  {
   "cell_type": "markdown",
   "metadata": {},
   "source": [
    "# Tutorial on Toy Generation  to be used for limit production"
   ]
  },
  {
   "cell_type": "markdown",
   "metadata": {},
   "source": [
    "# In a nutshell:  Neymann construction with likelihood ratio\n",
    "\n",
    "## Some definitions:\n",
    "- **mu** is our parameter of interest, the signal strenght, it can be considered as equal to the number of signal events. Altough there is a small difference (out of the scope of this tutorial).\n",
    "- **q_mu** is the test statistic, the likelihood ratio. This is a function of the \"tested\" value of **mu**.\n",
    "- **H_mu** is the signal hypothesis with a signal strenght **mu**.\n",
    "- **H_0** is the null hypothesis, background only.\n",
    "\n",
    "## General Idea\n",
    "Porduce limits with the Neymann construction method. Typically this means that one wants to reject the signal hypothesis **H_mu**  in favour of the null, **H_0**. The whole game is then to find the value of **mu** for which the **H_mu** is rejected at 90% CL. To do so one needs the distibution of the test statistic **q_{mu}** under signal hypothesis **H_mu** (assuming that **H_mu** is true).\n",
    "The whole procedure is quite involved, but can be divided in a few points:\n",
    "\n",
    "**Produce the 90% quantiles curve** \n",
    "- Produce several MC toy datasets related to a specific hypothesis **mu**.\n",
    "- **Fit** those datastes, meaning, compute the **q_mu**, testing the same exact **mu** for under which the toys are generated\n",
    "- Now you have many **q_mu** values for a given **mu** test and the related hypothesis. So you have the distro of **q_mu** under the hypothesis **H_mu**. So you can compute the 90% quantile of that distribution **q_mu_90**, or in other words the value of **q_mu** that correspond to a p-value of 10%.\n",
    "- Now you can repeat the procedure for a prefixed set of values of **mu** and obtain a set of **q_mu_90** points.\n",
    "- Interpolate the latter set of points and you'll have a curve describing the evolution of the 90% quantile of the test statistic **q_mu_90** as a function of the tested value of **mu**.\n",
    "- Now you can use that curve to compute the limits.\n",
    "\n",
    "**Compute the limits or the sensitivity**\n",
    "- Given a dataset, that can be real data (for real limit) or toy bkg only data (for sensitivity), one compute the value of **q_mu** for a given **mu**.\n",
    "- Check that value againts the **q_mu_90** curve to find if its p-value is larger than 10%, if yes that **mu** hypothesis is excluded.\n",
    "- Find the value of **mu** for which the likelihood ratio curve **q_mu** intersect the **q_mu_90** curve, that is the limit at 90% CL.\n",
    "- If you are computing the real limmit then you are done, if you are computing sensitivity then repeat these last 2 points for many toy datasets untill you'll get the distribution of limits under the **H_0**. Find the median and 1-2sigma of that distro."
   ]
  },
  {
   "cell_type": "markdown",
   "metadata": {},
   "source": [
    "# The focus of the tutorial\n",
    "This tutorial is devoted to show you how to use Xephyr classes to produce MC pseudo-datasets from background and signal models, so to generate toys under any of the **H_mu** hypothesis. We will show that it is very easy to do so once you have previously defined a likelihood.\n"
   ]
  },
  {
   "cell_type": "markdown",
   "metadata": {},
   "source": [
    "## The Setup \n",
    "First of all I suggest you to produce a single compilable macro that contains the likelihood you want to use, you can find in other tutorial how to define the likelihood [here](https://xenon1t.github.io/Xephyr/docs/tutorials.html). The idea of this macro is to define a function that you can use to retrieve the likelihood, so that you have it defined in one place only.You can get inspiration on how to write this function from [here](https://github.com/XENON1T/Xephyr/blob/master/examples/SR1Like/src/likelihoodDef.cxx).\n",
    "\n",
    "This tutorial depends on the likelihood definition of SR1,  so you need to download the SR1 repository.\n",
    "```bash\n",
    "cd XEPHYR_DIR\n",
    "git clone git@github.com:XENON1T/SR1Results.git SR1\n",
    "\n",
    "source Xephyr/pacman/installExample.sh  SR1Like      # Install Xephyr example in local dir\n",
    "```"
   ]
  },
  {
   "cell_type": "markdown",
   "metadata": {},
   "source": [
    "# Part 1) Retrieve the likelihood"
   ]
  },
  {
   "cell_type": "code",
   "execution_count": 1,
   "metadata": {
    "scrolled": false
   },
   "outputs": [
    {
     "name": "stdout",
     "output_type": "stream",
     "text": [
      "\n",
      "\n",
      "      =================== Welcome to Xephyr =====================\n",
      "       Version 6.0 dated 10-Oct-2017, compiled with ROOT 6.14/00\n",
      "      ===========================================================\n",
      "\n",
      "(int) 0\n"
     ]
    }
   ],
   "source": [
    ".x ../loadXephyr.C"
   ]
  },
  {
   "cell_type": "code",
   "execution_count": 2,
   "metadata": {},
   "outputs": [],
   "source": [
    " TString xeDir(gSystem->Getenv(\"XEPHYR_DIR\"));   // Xephyr work Directory "
   ]
  },
  {
   "cell_type": "code",
   "execution_count": 3,
   "metadata": {
    "scrolled": false
   },
   "outputs": [],
   "source": [
    "// add path to include files to ROOT (in the file I'm going to load there are some Xephyr includes) \n",
    "gInterpreter->AddIncludePath(xeDir + \"Xephyr/src\");  // in this case is just XEPHYR src from next dir."
   ]
  },
  {
   "cell_type": "markdown",
   "metadata": {},
   "source": [
    "Now we load the SR1 likelihood macro, where the definition of the likelihood is."
   ]
  },
  {
   "cell_type": "code",
   "execution_count": 4,
   "metadata": {
    "scrolled": false
   },
   "outputs": [],
   "source": [
    "gROOT->ProcessLine(\".L  \" + xeDir +\"xephyr_examples/SR1Like/src/likelihoodDef.cxx\");"
   ]
  },
  {
   "cell_type": "code",
   "execution_count": 5,
   "metadata": {
    "scrolled": true
   },
   "outputs": [
    {
     "name": "stdout",
     "output_type": "stream",
     "text": [
      "pdfComponent::Constructor - INFO : Reading file /home/pan/work/XEPHYR/SR1/StatisticalAnalyses/inputs_for_likelihood/lax_1.5.1_egg/sliced_2d_templates/ERBackgroundModel_Stitched_SR1_RunSourceCombinedFit180420.root\n",
      "pdfComponent::Constructor - INFO : Reading file /home/pan/work/XEPHYR/SR1/StatisticalAnalyses/inputs_for_likelihood/lax_1.5.1_egg/sliced_2d_templates/Background_wall_ac_templates_v6_inegg_bin_SR1_2018-04-30.root\n",
      "pdfComponent::Constructor - INFO : Reading file /home/pan/work/XEPHYR/SR1/StatisticalAnalyses/inputs_for_likelihood/lax_1.5.1_egg/sliced_2d_templates/Background_wall_ac_templates_v6_inegg_bin_SR1_2018-04-30.root\n",
      "pdfComponent::Constructor - INFO : Reading file /home/pan/work/XEPHYR/SR1/StatisticalAnalyses/inputs_for_likelihood/lax_1.5.1_egg/sliced_2d_templates/RadiogenicNRBackgroundModel_SR1_RunSourceCombined180420.root\n",
      "pdfComponent::Constructor - INFO : Reading file /home/pan/work/XEPHYR/SR1/StatisticalAnalyses/inputs_for_likelihood/lax_1.5.1_egg/sliced_2d_templates/RadiogenicNeutronXBackgroundModel_SR1_RunSourceCombined180420.root\n",
      "pdfComponent::Constructor - INFO : Reading file /home/pan/work/XEPHYR/SR1/StatisticalAnalyses/inputs_for_likelihood/lax_1.5.1_egg/sliced_2d_templates/CNNSBackgroundModel_SR1_RunSourceCombinedFit180420.root\n",
      "pdfComponent::Constructor - INFO : Reading file /home/pan/work/XEPHYR/xephyr_examples/SR1Like/data/SignalModel_SR1_50GeV_FromRunSourceCombinedFit180420.root\n",
      "pdfLikelihood - INFO: bkg component named CNNS added to    NOT SAFEGUARDED\n",
      "pdfLikelihood - INFO: bkg component named NeutronX added to    NOT SAFEGUARDED\n",
      "pdfLikelihood - INFO: bkg component named Neutrons added to    NOT SAFEGUARDED\n",
      "pdfLikelihood - INFO: bkg component named AC added to    NOT SAFEGUARDED\n",
      "pdfLikelihood - INFO: bkg component named Wall added to    NOT SAFEGUARDED\n",
      "pdfLikelihood - INFO: bkg component named ER added to    SAFEGUARDED\n",
      "pdfLikelihood::initialize - INFO :  initialize..... \n",
      "Stat::checkInputs - WARNING : no data are set. BETTER YOU KNOW WHAT YOU ARE DOING!\n",
      "\tLikelihood::addParameter - Info : Adding parameter Sigma  with ID -1  to PL L_SR1_V0\n",
      "INFO :  adding sys for BKG component CNNS\n",
      "\tLikelihood::addParameter - Info : Adding parameter CNNSscale0  with ID 1  to PL L_SR1_V0\n",
      "INFO :  adding sys for BKG component NeutronX\n",
      "\tLikelihood::addParameter - Info : Adding parameter RadioscaleNX0  with ID 2  to PL L_SR1_V0\n",
      "INFO :  adding sys for BKG component Neutrons\n",
      "\tLikelihood::addParameter - Info : Adding parameter Radioscale0  with ID 3  to PL L_SR1_V0\n",
      "INFO :  adding sys for BKG component AC\n",
      "\tLikelihood::addParameter - Info : Adding parameter ACscale0  with ID 4  to PL L_SR1_V0\n",
      "INFO :  adding sys for BKG component Wall\n",
      "\tLikelihood::addParameter - Info : Adding parameter Wallscale0  with ID 5  to PL L_SR1_V0\n",
      "INFO :  adding sys for BKG component ER\n",
      "\tLikelihood::addParameter - Info : Adding parameter ERscale0  with ID 6  to PL L_SR1_V0\n",
      "\tLikelihood::addParameter - Info : Adding parameter _py0_  with ID 7  to PL L_SR1_V0\n",
      "\tLikelihood::addParameter - Info : Adding parameter _rf0_  with ID 8  to PL L_SR1_V0\n",
      "INFO :  adding sys for SIGNAL component Wimp\n",
      "\tLikelihood::addParameter - Info : Adding parameter SignalScale0  with ID 9  to PL L_SR1_V0\n",
      "\n",
      "------ WARNING -------  Safeguard is turned OFF altough you have set components to be safeguarded this is ignored -----\n",
      "\n",
      "pdfLikelihood::initialize - INFO :  initialization SUCCESSFUL. \n"
     ]
    }
   ],
   "source": [
    "double mass = 50.; // GeV\n",
    "int likelihood_type = 0;  // [0=inner egg, 1= U volume, 2 = Wall volume]\n",
    "\n",
    "// The whole SR1 likelihood definition now is in this object here\n",
    "// There is a notebook about how to build the likelihood, check it out.\n",
    "pdfLikelihood *likeHood = getTheLikelihood_SR1( mass, likelihood_type ); \n",
    "\n",
    "// Initialize the likelihood, you always need to call this after you load all PDFs and nuisance parameters\n",
    "likeHood->initialize();\n",
    "\n",
    "// Set parameter of interest constrained positive (not default), because now we want to produce toys\n",
    "likeHood->getPOI()->setMinimum(0.);\n"
   ]
  },
  {
   "cell_type": "markdown",
   "metadata": {},
   "source": [
    "#### Explaination of printout above:\n",
    "ok, there is a lot of print out:\n",
    "- The first block tells you what file have been loaded as PDF\n",
    "- The second block list the loaded bkg component with their names (SR1 has stupid names) and it says if the bkg will have a safeguard uncertainty or not.\n",
    "- The third block tells you which nuissance parameters are added to the likelihood and to which component they belong"
   ]
  },
  {
   "cell_type": "markdown",
   "metadata": {},
   "source": [
    "## Part 2) the  ToyGenerator Class\n",
    "\n",
    "This class is used to generate toys from a [profileLikelihood](https://xenon1t.github.io/Xephyr/class_reference/classProfileLikelihood.html) object, which must be initialized with the models beforehand.\n",
    "\n",
    "[ToyGenerator](https://xenon1t.github.io/Xephyr/class_reference/classToyGenerator.html) generates an output file with a configurable number of MC toy Tree inside. These tree are generated by random extracting S1, S2, from the provided models (TH2F). The total number of events generated per model is Poisson extracted from the average expectation for that background, also defined in the likelihood. \n",
    "\n",
    "The typical flow is:\n",
    "- You generate a file containing many toy MC datasets, let's say 100 datasets per file. This we call a **GENERATION** of that specific background + signal hypothesis.\n",
    "- You repeat the generation process again and again, let's say 100 times, so that you have 100 files each containing 100 datasets that are all generated with same input conditions (signal strenght, bkg expectation, nuissance parameters).\n",
    "- Between each GENERATION you change the seed.\n",
    "- Each GENERATION should have a slightly different name\n",
    "- We produce that many GENERATIONS for the same inputs because then is easier to parallelize the Test statistic computation into many different jobs (the FIT stage). This is the topic of the next [tutorial](https://github.com/XENON1T/Xephyr/blob/master/notebooks/ToyFitter.ipynb). "
   ]
  },
  {
   "cell_type": "code",
   "execution_count": 6,
   "metadata": {
    "scrolled": false
   },
   "outputs": [],
   "source": [
    "TString treeName = \"test_mu5_V0_Gen1\";  // name of the output file and prefix of output toy trees\n",
    "// This can be any, but we reccomend to use this Pattern:  \n",
    "// name + injected signal strenght + Volume type + Generation\n",
    "// in the next we are going to generate toy data with average 5 injected signal events.\n",
    "\n",
    "TString outDir = xeDir ;            // path to output toy files directory, here set to $XEPHYR_DIR work dir\n",
    "ToyGenerator toy(treeName,outDir);  // create an instance"
   ]
  },
  {
   "cell_type": "code",
   "execution_count": 7,
   "metadata": {
    "scrolled": false
   },
   "outputs": [],
   "source": [
    "toy.setLikelihood(likeHood);        // set the likelihood"
   ]
  },
  {
   "cell_type": "code",
   "execution_count": 8,
   "metadata": {
    "scrolled": false
   },
   "outputs": [],
   "source": [
    "toy.setSeed(17);     // you should change the seed as a function of wimp mass and injected signal strenght"
   ]
  },
  {
   "cell_type": "code",
   "execution_count": 9,
   "metadata": {
    "scrolled": false
   },
   "outputs": [
    {
     "name": "stdout",
     "output_type": "stream",
     "text": [
      "ToyGenerator::randomizeNuissanceParameter - INFO : Randomizing parameters:\n",
      "ToyGenerator:: - INFO : Skipping paramater: Sigma\n",
      " Id Name                 Type         Current Value               Uncertainty\n",
      " -1 Sigma                Of interest        0                 \n",
      "  1 CNNSscale0           Nuisance        -1.4                 \n",
      "  2 RadioscaleNX0        Nuisance       -0.94                 \n",
      "  3 Radioscale0          Nuisance        0.36                 \n",
      "  4 ACscale0             Nuisance        0.78                 \n",
      "  5 Wallscale0           Nuisance         1.3                 \n",
      "  6 ERscale0             Free             0.2                 \n",
      "  7 _py0_                Free            0.12                 \n",
      "  8 _rf0_                Free             1.7                 \n",
      "  9 SignalScale0         Nuisance         1.9                 \n"
     ]
    }
   ],
   "source": [
    "// this function would randomize the nuissance parameter according to their definition\n",
    "// For an approximated (as we always do) Neymann construction is not really needed\n",
    "// but is there in case you want to use it for pull studies\n",
    "// /!\\ here we are using it for illustration purpose only, you can and should avoid it at the generation stage\n",
    "toy.randomizeNuissanceParameter();"
   ]
  },
  {
   "cell_type": "markdown",
   "metadata": {},
   "source": [
    "## Part 3) Generate your first toy data"
   ]
  },
  {
   "cell_type": "markdown",
   "metadata": {},
   "source": [
    "This is super easy, the toyGenerator class does everything from you based on the info stored in the likelihood.\n",
    "The only thing you need to do is to fire the function:\n",
    "\n",
    "```c++\n",
    "ToyGenerator::generateData(double mu, int N, bool randomizeNP = false)\n",
    "\n",
    "// mu = signal multiplier,  N = number of datasets\n",
    "// randomizeNP = flag to randomize or not the nuissance parameter. \n",
    "// you want to puth this to false (default is False).\n",
    "```\n",
    "\n",
    "**NOTE:** generateData will overwrite any file that has same name as \"treeName\" above. "
   ]
  },
  {
   "cell_type": "code",
   "execution_count": 10,
   "metadata": {
    "scrolled": false
   },
   "outputs": [
    {
     "name": "stdout",
     "output_type": "stream",
     "text": [
      "\n",
      "\n",
      "--------------Event Summary------------------\n",
      "PdfComponent Name \tEvents\n",
      "CNNS \t 0.0146\n",
      "NeutronX \t 0.0071\n",
      "Neutrons \t 0.2358\n",
      "AC \t 0.3629\n",
      "Wall \t 0.5447\n",
      "ER \t 314.8052\n",
      "Signal \t 78.4239\n"
     ]
    }
   ],
   "source": [
    "// first let's have a look at what are we generating, let's print the expectation for background and signal\n",
    "// note that signal number of events are for e-45 cm^2 cross section in this case, for you will be whatever \n",
    "//is in the histogram \n",
    "likeHood->printEventSummary();  "
   ]
  },
  {
   "cell_type": "code",
   "execution_count": 11,
   "metadata": {
    "scrolled": false
   },
   "outputs": [
    {
     "name": "stdout",
     "output_type": "stream",
     "text": [
      " Id Name                 Type         Current Value               Uncertainty\n",
      " -1 Sigma                Of interest        5                 \n",
      "  1 CNNSscale0           Nuisance        -1.4                 \n",
      "  2 RadioscaleNX0        Nuisance       -0.94                 \n",
      "  3 Radioscale0          Nuisance        0.36                 \n",
      "  4 ACscale0             Nuisance        0.78                 \n",
      "  5 Wallscale0           Nuisance         1.3                 \n",
      "  6 ERscale0             Free             0.2                 \n",
      "  7 _py0_                Free            0.12                 \n",
      "  8 _rf0_                Free             1.7                 \n",
      "  9 SignalScale0         Nuisance         1.9                 \n"
     ]
    }
   ],
   "source": [
    "double mu = 5;             // number of signal injected events\n",
    "int    N  = 10;           // number of toy datasets generated in the file ( I found that 100 is a nice number )\n",
    "int    Gen = 1;           \n",
    "\n",
    "toy.setGeneration( Gen );  // Optional, give a number to this GENERATION, this will be written in output tree\n",
    "toy.setLikeType( likelihood_type );  // Optional, write to the output tree the likelihood type (integer) info.\n",
    "\n",
    "toy.setPrintLevel( WARNING );       // to reduce a bit the printout\n",
    "\n",
    "toy.generateData( mu, N, false );   // generate fake dark matter data, this will create a file in $XEPHYR_DIR "
   ]
  },
  {
   "cell_type": "markdown",
   "metadata": {},
   "source": [
    "#### Generate Calibration:\n",
    "The calibration dataset is a special one because one generates it from fewer models, in this case ER + AC + wall.\n",
    "Also the AC and Wall model utilized here must be different than the one used for the nominal background model (for DM data generation).\n",
    "\n",
    "The **toyGenerator** class takes the info for the calibration dataset generation from:\n",
    "- All the models in the likelihood that are flagged **safeguarded**, the relative scale between them is preserved.\n",
    "- All other additional models that are specific for calibation (and appear only in calibration) but be set using the \n",
    "**setAdditionalSafeGuardComponent** of the likelihood.\n",
    "- Note: in case the safeguard parameter is != 0, then a safeguard component will be also injected in the calibration toys."
   ]
  },
  {
   "cell_type": "code",
   "execution_count": 12,
   "metadata": {
    "scrolled": true
   },
   "outputs": [],
   "source": [
    "int N_cal = 15000;                     // Average number of calibration events from which we Poisson extract.\n",
    "\n",
    "toy.setAverageCalibrationEvents(N_cal);\n",
    "\n",
    "// as above but now generate calibration data: generateCalibration(int N, bool randomizeNP = true);\n",
    "toy.generateCalibration( N, false);  // this will create a file in $XEPHYR_DIR \n",
    "// Note that N is the same as above, in fact each DM dataset must have a corresponding calibration dataset.  "
   ]
  },
  {
   "cell_type": "markdown",
   "metadata": {},
   "source": [
    "## Part 4)  Let's have a look at what we've created\n",
    "In the specified directory you'll get a file named with your specified \"TreeName\" with N trees inside.\n",
    "Each tree contains a TList of the parameter values that have been used for producing that tree and can be considered as the truth for that toy dataset. This info can be accessed with the TTree::GetUserInfo() method.\n",
    "\n",
    "The Trees contain 3 branches: cs1, cs2 and type. Type is a string that define the type of the specific event, and reports the name of the **pdfComponent** (background or signal model) from which has been extracted."
   ]
  },
  {
   "cell_type": "code",
   "execution_count": 13,
   "metadata": {
    "scrolled": true
   },
   "outputs": [
    {
     "name": "stdout",
     "output_type": "stream",
     "text": [
      "TFile**\t\t/home/pan/work/XEPHYR/test_mu5_V0_Gen1.root\t\n",
      " TFile*\t\t/home/pan/work/XEPHYR/test_mu5_V0_Gen1.root\t\n",
      "  KEY: TTree\ttest_mu5_V0_Gen1_0;1\tgenerated toy data\n",
      "  KEY: TTree\ttest_mu5_V0_Gen1_1;1\tgenerated toy data\n",
      "  KEY: TTree\ttest_mu5_V0_Gen1_2;1\tgenerated toy data\n",
      "  KEY: TTree\ttest_mu5_V0_Gen1_3;1\tgenerated toy data\n",
      "  KEY: TTree\ttest_mu5_V0_Gen1_4;1\tgenerated toy data\n",
      "  KEY: TTree\ttest_mu5_V0_Gen1_5;1\tgenerated toy data\n",
      "  KEY: TTree\ttest_mu5_V0_Gen1_6;1\tgenerated toy data\n",
      "  KEY: TTree\ttest_mu5_V0_Gen1_7;1\tgenerated toy data\n",
      "  KEY: TTree\ttest_mu5_V0_Gen1_8;1\tgenerated toy data\n",
      "  KEY: TTree\ttest_mu5_V0_Gen1_9;1\tgenerated toy data\n"
     ]
    }
   ],
   "source": [
    "// Opening and printing output file content:\n",
    "\n",
    "TFile *file = TFile::Open(outDir + treeName + \".root\");  // science data\n",
    "TFile *cal_file = TFile::Open(outDir + treeName + \"_Cal.root\");  // The calibration data by convention have the same name but suffix _Cal\n",
    "file->ls();"
   ]
  },
  {
   "cell_type": "code",
   "execution_count": 14,
   "metadata": {
    "scrolled": false
   },
   "outputs": [],
   "source": [
    "// Retrieve one of the toy trees\n",
    "\n",
    "TTree *tree = (TTree*)file->Get(treeName+\"_4\");         // science data\n",
    "TTree *tree_cal = (TTree*)file->Get(treeName+\"_Cal4\");  // calibration"
   ]
  },
  {
   "cell_type": "code",
   "execution_count": 15,
   "metadata": {
    "scrolled": false
   },
   "outputs": [
    {
     "name": "stdout",
     "output_type": "stream",
     "text": [
      "Collection name='UserInfo', class='TList', size=10\n",
      "  TParameter<double>\tSigma = 5\n",
      "  TParameter<double>\tCNNSscale0 = -1.36356\n",
      "  TParameter<double>\tRadioscaleNX0 = -0.939959\n",
      "  TParameter<double>\tRadioscale0 = 0.35626\n",
      "  TParameter<double>\tACscale0 = 0.77773\n",
      "  TParameter<double>\tWallscale0 = 1.25762\n",
      "  TParameter<double>\tERscale0 = 0.201644\n",
      "  TParameter<double>\t_py0_ = 0.119668\n",
      "  TParameter<double>\t_rf0_ = 1.68733\n",
      "  TParameter<double>\tSignalScale0 = 1.90761\n"
     ]
    }
   ],
   "source": [
    "// Print the value of the nuissance parameter (including parameter of interest) \n",
    "// with wich the toy has been generated and are stored as TParameter and in the tree,\n",
    "// they can be accessed with usual TList functions. \n",
    "\n",
    "TList *l = tree->GetUserInfo();  // this is a list stored in TTree\n",
    "l->Print();                      // let's print the params for one tree, they are stored in TParameter class type.\n",
    "\n",
    "// Note: sigma here is actually the averaged number of signal injected events  mu (pardon the inconsistency of naming conventions)"
   ]
  },
  {
   "cell_type": "code",
   "execution_count": 16,
   "metadata": {
    "scrolled": false
   },
   "outputs": [
    {
     "name": "stdout",
     "output_type": "stream",
     "text": [
      "******************************************************************************\n",
      "*Tree    :test_mu5_V0_Gen1_4: generated toy data                                     *\n",
      "*Entries :      337 : Total =           13580 bytes  File  Size =       5963 *\n",
      "*        :          : Tree compression factor =   2.04                       *\n",
      "******************************************************************************\n",
      "*Br    0 :cs1       : cs1/F                                                  *\n",
      "*Entries :      337 : Total  Size=       1909 bytes  File Size  =       1432 *\n",
      "*Baskets :        1 : Basket Size=      32000 bytes  Compression=   1.00     *\n",
      "*............................................................................*\n",
      "*Br    1 :cs2       : cs2/F                                                  *\n",
      "*Entries :      337 : Total  Size=       1909 bytes  File Size  =       1432 *\n",
      "*Baskets :        1 : Basket Size=      32000 bytes  Compression=   1.00     *\n",
      "*............................................................................*\n",
      "*Br    2 :type      : string                                                 *\n",
      "*Entries :      337 : Total  Size=       2953 bytes  File Size  =       1489 *\n",
      "*Baskets :        1 : Basket Size=      32000 bytes  Compression=   1.66     *\n",
      "*............................................................................*\n",
      "*Br    3 :generation : generation/I                                          *\n",
      "*Entries :      337 : Total  Size=       1944 bytes  File Size  =        127 *\n",
      "*Baskets :        1 : Basket Size=      32000 bytes  Compression=  11.33     *\n",
      "*............................................................................*\n",
      "*Br    4 :likelihoodType : likelihoodType/I                                  *\n",
      "*Entries :      337 : Total  Size=       1964 bytes  File Size  =        128 *\n",
      "*Baskets :        1 : Basket Size=      32000 bytes  Compression=  11.27     *\n",
      "*............................................................................*\n",
      "*Br    5 :toyItr    : toyItr/I                                               *\n",
      "*Entries :      337 : Total  Size=       1924 bytes  File Size  =        123 *\n",
      "*Baskets :        1 : Basket Size=      32000 bytes  Compression=  11.67     *\n",
      "*............................................................................*\n"
     ]
    }
   ],
   "source": [
    "// Show the branches stored in the tree\n",
    "\n",
    "tree->Print();\n",
    "\n",
    "// Note: \"generation\" is the GENERATION number assigned to this file and the \"toyItr\" is the number assigned to \n",
    "// this specific tree inside that generation file. \n",
    "// You may ask: WTF is that? Well, my young Padawan, this is to make your life easier. This info is in fact passed\n",
    "// to the Fit algorithm  and written in its output tree, those many output tree for each generation are then hadd \n",
    "// togheter, with this info you can keep track of which toy gave a specific set of post-fit values and later get \n",
    "// back to it. But you will see in the next tutorial.\n"
   ]
  },
  {
   "cell_type": "code",
   "execution_count": 17,
   "metadata": {
    "scrolled": false
   },
   "outputs": [
    {
     "data": {
      "image/png": "[encoded data removed]",
      "text/plain": [
       "<IPython.core.display.Image object>"
      ]
     },
     "metadata": {},
     "output_type": "display_data"
    }
   ],
   "source": [
    "// Show here the number of events for each generated model.\n",
    "\n",
    "TCanvas *c2 = new TCanvas();\n",
    "tree->Draw(\"type\");\n",
    "c2->Draw();"
   ]
  },
  {
   "cell_type": "code",
   "execution_count": 18,
   "metadata": {
    "scrolled": false
   },
   "outputs": [
    {
     "data": {
      "image/png": "[encoded data removed]",
      "text/plain": [
       "<IPython.core.display.Image object>"
      ]
     },
     "metadata": {},
     "output_type": "display_data"
    }
   ],
   "source": [
    "// A bit more fancy plotting ;)\n",
    "\n",
    "TCanvas *c4 = new TCanvas();\n",
    "gStyle->SetOptTitle(kFALSE);\n",
    "gStyle->SetOptStat(0);\n",
    "\n",
    "TH2F *h = new TH2F(\"h\",\"signal\",100,0,70,100,2,3.7);\n",
    "h->SetMarkerStyle(kOpenCircle);\n",
    "tree->Draw(\"cs2:cs1>>h\",\"type==\\\"Wimp\\\"\");  // this is actually log10(cs2)\n",
    "TH2F *h2 = new TH2F(\"h2\",\"ER bkg\",100,0,70,100,2,3.7);\n",
    "h2->SetMarkerStyle(kFullTriangleUp);\n",
    "tree->Draw(\"cs2:cs1>>h2\",\"type==\\\"ER\\\"\");\n",
    "h->Draw(\"P\");\n",
    "h2->Draw(\"SAME P\");\n",
    "gPad->BuildLegend();\n",
    "c4->Draw();"
   ]
  },
  {
   "cell_type": "markdown",
   "metadata": {
    "collapsed": true
   },
   "source": [
    "# That's it!\n",
    "\n",
    "### **A real life example** of how to play with this class and actually generate toys is in the SR1 [repository](https://github.com/XENON1T/SR1Results/tree/master/StatisticalAnalyses/xephyr_sr1_likelihood) and the file dedicated to toy generation is  [toy_gen_main.cxx](https://github.com/XENON1T/SR1Results/blob/master/StatisticalAnalyses/xephyr_sr1_likelihood/toy_gen_main.cxx)\n",
    "### **The next Tutorial:** computing the distribution of the test statistic from fit of the generated toy data. You find it [here](https://github.com/XENON1T/Xephyr/blob/master/notebooks/ToyFitter.ipynb)"
   ]
  },
  {
   "cell_type": "markdown",
   "metadata": {},
   "source": [
    "### Appendix: How to generate null hypothesis:\n",
    "\n",
    "using the already initialized toy generator above, you can do this simply specifying mu = 0"
   ]
  },
  {
   "cell_type": "code",
   "execution_count": 19,
   "metadata": {},
   "outputs": [
    {
     "name": "stdout",
     "output_type": "stream",
     "text": [
      " Id Name                 Type         Current Value               Uncertainty\n",
      " -1 Sigma                Of interest        0                 \n",
      "  1 CNNSscale0           Nuisance        -1.4                 \n",
      "  2 RadioscaleNX0        Nuisance       -0.94                 \n",
      "  3 Radioscale0          Nuisance        0.36                 \n",
      "  4 ACscale0             Nuisance        0.78                 \n",
      "  5 Wallscale0           Nuisance         1.3                 \n",
      "  6 ERscale0             Free             0.2                 \n",
      "  7 _py0_                Free            0.12                 \n",
      "  8 _rf0_                Free             1.7                 \n",
      "  9 SignalScale0         Nuisance         1.9                 \n"
     ]
    }
   ],
   "source": [
    "treeName = \"test_mu0_V0_Gen1\";      // remember to change the tree name ;)\n",
    "mu = 0;                             // and mu\n",
    "toy.setTreeName(treeName);\n",
    "toy.generateData( mu, N, false );   // generate fake dark matter data, this will create a file in $XEPHYR_DIR \n",
    "toy.generateCalibration( N, false); "
   ]
  },
  {
   "cell_type": "code",
   "execution_count": null,
   "metadata": {},
   "outputs": [],
   "source": []
  }
 ],
 "metadata": {
  "kernelspec": {
   "display_name": "ROOT C++ (Python 3)",
   "language": "c++",
   "name": "python3-jupyroot"
  },
  "language_info": {
   "codemirror_mode": "text/x-c++src",
   "file_extension": ".C",
   "mimetype": " text/x-c++src",
   "name": "c++"
  }
 },
 "nbformat": 4,
 "nbformat_minor": 2
}
