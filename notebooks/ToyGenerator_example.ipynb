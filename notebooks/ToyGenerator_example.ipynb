{
 "cells": [
  {
   "cell_type": "markdown",
   "metadata": {},
   "source": [
    "# Tutorial on Toy Generation  to be used for limit production"
   ]
  },
  {
   "cell_type": "markdown",
   "metadata": {},
   "source": [
    "# In a nutshell:  Neymann construction with likelihood ratio\n",
    "\n",
    "## Some definitions:\n",
    "- **mu** is our parameter of interest, the signal strenght, it can be considered as equal to the number of signal events. Altough there is a small difference (out of the scope of this tutorial).\n",
    "- **q_mu** is the test statistic, the likelihood ratio. This is a function of the \"tested\" value of **mu**.\n",
    "- **H_mu** is the signal hypothesis with a signal strenght **mu**.\n",
    "- **H_0** is the null hypothesis, background only.\n",
    "\n",
    "## General Idea\n",
    "Porduce limits with the Neymann construction method. Typically this means that one wants to reject the signal hypothesis **H_mu**  in favour of the null, **H_0**. The whole game is then to find the value of **mu** for which the **H_mu** is rejected at 90% CL. To do so one needs the distibution of the test statistic **q_{mu}** under signal hypothesis **H_mu** (assuming that **H_mu** is true).\n",
    "The whole procedure is quite involved, but can be divided in a few points:\n",
    "\n",
    "**Produce the 90% quantiles curve** \n",
    "- Produce several MC toy datasets related to a specific hypothesis **mu**.\n",
    "- **Fit** those datastes, meaning, compute the **q_mu**, testing the same exact **mu** for under which the toys are generated\n",
    "- Now you have many **q_mu** values for a given **mu** test and the related hypothesis. So you have the distro of **q_mu** under the hypothesis **H_mu**. So you can compute the 90% quantile of that distribution **q_mu_90**, or in other words the value of **q_mu** that correspond to a p-value of 10%.\n",
    "- Now you can repeat the procedure for a prefixed set of values of **mu** and obtain a set of **q_mu_90** points.\n",
    "- Interpolate the latter set of points and you'll have a curve describing the evolution of the 90% quantile of the test statistic **q_mu_90** as a function of the tested value of **mu**.\n",
    "- Now you can use that curve to compute the limits.\n",
    "\n",
    "**Compute the limits or the sensitivity**\n",
    "- Given a dataset, that can be real data (for real limit) or toy bkg only data (for sensitivity), one compute the value of **q_mu** for a given **mu**.\n",
    "- Check that value againts the **q_mu_90** curve to find if its p-value is larger than 10%, if yes that **mu** hypothesis is excluded.\n",
    "- Find the value of **mu** for which the likelihood ratio curve **q_mu** intersect the **q_mu_90** curve, that is the limit at 90% CL.\n",
    "- If you are computing the real limmit then you are done, if you are computing sensitivity then repeat these last 2 points for many toy datasets untill you'll get the distribution of limits under the **H_0**. Find the median and 1-2sigma of that distro."
   ]
  },
  {
   "cell_type": "markdown",
   "metadata": {},
   "source": [
    "# The focus of the tutorial\n",
    "This tutorial is devoted to show you how to use Xephyr classes to produce MC pseudo-datasets from background and signal models, so to generate toys under any of the **H_mu** hypothesis. We will show that it is very easy to do so once you have previously defined a likelihood.\n"
   ]
  },
  {
   "cell_type": "markdown",
   "metadata": {},
   "source": [
    "## The Setup \n",
    "First of all I suggest you to produce a single compilable macro that contains the likelihood you want to use, you can find in other tutorial how to define the likelihood [here](https://xenon1t.github.io/Xephyr/docs/tutorials.html). The idea of this macro is to define a function that you can use to retrieve the likelihood, so that you have it defined in one place only. You can get inspiration on how to write this function from [here](https://github.com/XENON1T/SR1Results/blob/master/StatisticalAnalyses/xephyr_sr1_likelihood/src/).\n",
    "\n",
    "\n",
    "This tutorial depends on the likelihood definition of SR1,  so you need to download the SR1 repository.\n",
    "```bash\n",
    "cd XEPHYR_DIR\n",
    "git clone git@github.com:XENON1T/SR1Results.git SR1\n",
    "```"
   ]
  },
  {
   "cell_type": "markdown",
   "metadata": {},
   "source": [
    "# Part 1) Intro"
   ]
  },
  {
   "cell_type": "code",
   "execution_count": 1,
   "metadata": {},
   "outputs": [
    {
     "name": "stdout",
     "output_type": "stream",
     "text": [
      "\n",
      "\n",
      "      =================== Welcome to Xephyr =====================\n",
      "       Version 6.0 dated 10-Oct-2017, compiled with ROOT 6.14/00\n",
      "      ===========================================================\n",
      "\n"
     ]
    },
    {
     "name": "stderr",
     "output_type": "stream",
     "text": [
      "Info in <TUnixSystem::ACLiC>: creating shared library /home/pan/work/XEPHYR/Xephyr/src/XeLikelihoods_cxx.so\n"
     ]
    },
    {
     "name": "stdout",
     "output_type": "stream",
     "text": [
      "(int) 0\n"
     ]
    }
   ],
   "source": [
    ".x ../loadXephyr.C"
   ]
  },
  {
   "cell_type": "code",
   "execution_count": 2,
   "metadata": {},
   "outputs": [],
   "source": [
    "// add path to include files to ROOT (in the file I'm going to load there are some Xephyr includes) \n",
    "gInterpreter->AddIncludePath(\"../src\");  // in this case is just XEPHYR src from next dir."
   ]
  },
  {
   "cell_type": "markdown",
   "metadata": {},
   "source": [
    "Now we load the SR1 likelihood macro, where the definition of the likelihood is."
   ]
  },
  {
   "cell_type": "code",
   "execution_count": 3,
   "metadata": {},
   "outputs": [],
   "source": [
    ".L ../../SR1/StatisticalAnalyses/xephyr_sr1_likelihood/src/likelihoodDef.cxx"
   ]
  },
  {
   "cell_type": "code",
   "execution_count": 4,
   "metadata": {
    "scrolled": true
   },
   "outputs": [
    {
     "name": "stdout",
     "output_type": "stream",
     "text": [
      "pdfComponent::Constructor - INFO : Reading file /home/pan/work/XEPHYR/SR1/StatisticalAnalyses/inputs_for_likelihood/lax_1.5.1_egg/sliced_2d_templates/ERBackgroundModel_Stitched_SR1_RunSourceCombinedFit180420.root\n",
      "pdfComponent::Constructor - INFO : Reading file /home/pan/work/XEPHYR/SR1/StatisticalAnalyses/inputs_for_likelihood/lax_1.5.1_egg/sliced_2d_templates/Background_wall_ac_templates_v6_inegg_bin_SR1_2018-04-30.root\n",
      "pdfComponent::Constructor - INFO : Reading file /home/pan/work/XEPHYR/SR1/StatisticalAnalyses/inputs_for_likelihood/lax_1.5.1_egg/sliced_2d_templates/Background_wall_ac_templates_v6_inegg_bin_SR1_2018-04-30.root\n",
      "pdfComponent::Constructor - INFO : Reading file /home/pan/work/XEPHYR/SR1/StatisticalAnalyses/inputs_for_likelihood/lax_1.5.1_egg/sliced_2d_templates/RadiogenicNRBackgroundModel_SR1_RunSourceCombined180420.root\n",
      "pdfComponent::Constructor - INFO : Reading file /home/pan/work/XEPHYR/SR1/StatisticalAnalyses/inputs_for_likelihood/lax_1.5.1_egg/sliced_2d_templates/RadiogenicNeutronXBackgroundModel_SR1_RunSourceCombined180420.root\n",
      "pdfComponent::Constructor - INFO : Reading file /home/pan/work/XEPHYR/SR1/StatisticalAnalyses/inputs_for_likelihood/lax_1.5.1_egg/sliced_2d_templates/CNNSBackgroundModel_SR1_RunSourceCombinedFit180420.root\n",
      "pdfComponent::Constructor - INFO : Reading file /home/pan/work/XEPHYR/SR1/StatisticalAnalyses/inputs_for_likelihood/lax_1.5.1_egg/sliced_2d_templates/SignalModel_SR1_50GeV_FromRunSourceCombinedFit180420.root\n",
      "scale Signal uncertainty: 0.0244569\n",
      "pdfLikelihood - INFO: bkg component named CNNS added to    NOT SAFEGUARDED\n",
      "pdfLikelihood - INFO: bkg component named RadiogenicNX added to    NOT SAFEGUARDED\n",
      "pdfLikelihood - INFO: bkg component named RadiogenicNR added to    NOT SAFEGUARDED\n",
      "pdfLikelihood - INFO: bkg component named AC added to    NOT SAFEGUARDED\n",
      "pdfLikelihood - INFO: bkg component named Wall added to    NOT SAFEGUARDED\n",
      "pdfLikelihood - INFO: bkg component named ER added to    SAFEGUARDED\n",
      "pdfLikelihood::initialize - INFO :  initialize..... \n",
      "Stat::checkInputs - WARNING : no data are set. BETTER YOU KNOW WHAT YOU ARE DOING!\n",
      "\tLikelihood::addParameter - Info : Adding parameter Sigma  with ID -1  to PL L_SR1_V0\n",
      "INFO :  adding sys for BKG component CNNS\n",
      "\tLikelihood::addParameter - Info : Adding parameter CNNSscale0  with ID 1  to PL L_SR1_V0\n",
      "INFO :  adding sys for BKG component RadiogenicNX\n",
      "\tLikelihood::addParameter - Info : Adding parameter RadioscaleNX0  with ID 2  to PL L_SR1_V0\n",
      "INFO :  adding sys for BKG component RadiogenicNR\n",
      "\tLikelihood::addParameter - Info : Adding parameter Radioscale0  with ID 3  to PL L_SR1_V0\n",
      "INFO :  adding sys for BKG component AC\n",
      "\tLikelihood::addParameter - Info : Adding parameter ACscale0  with ID 4  to PL L_SR1_V0\n",
      "INFO :  adding sys for BKG component Wall\n",
      "\tLikelihood::addParameter - Info : Adding parameter Wallscale0  with ID 5  to PL L_SR1_V0\n",
      "INFO :  adding sys for BKG component ER\n",
      "\tLikelihood::addParameter - Info : Adding parameter ERscale0  with ID 6  to PL L_SR1_V0\n",
      "\tLikelihood::addParameter - Info : Adding parameter _py0_  with ID 7  to PL L_SR1_V0\n",
      "\tLikelihood::addParameter - Info : Adding parameter _rf0_  with ID 8  to PL L_SR1_V0\n",
      "INFO :  adding sys for SIGNAL component wimp_50\n",
      "\tLikelihood::addParameter - Info : Adding parameter SignalScale0  with ID 9  to PL L_SR1_V0\n",
      "\n",
      "------ WARNING -------  Safeguard is turned OFF altough you have set components to be safeguarded this is ignored -----\n",
      "\n",
      "pdfLikelihood::initialize - INFO :  initialization SUCCESSFUL. \n"
     ]
    }
   ],
   "source": [
    "double mass = 50.; // GeV\n",
    "int likelihood_type = 0;  // [0=inner egg, 1= U volume, 2 = Wall volume]\n",
    "\n",
    "// The whole SR1 likelihood definition now is in this object \n",
    "pdfLikelihood *likeHood = getTheLikelihood_SR1( mass, likelihood_type ); \n",
    "\n",
    "// Initialize the likelihood, you always need to call this after you load all PDFs and nuisance parameters\n",
    "likeHood->initialize();\n",
    "\n",
    "// Set parameter of interest constrained positive (not default), because now we want to produce toys\n",
    "likeHood->getPOI()->setMinimum(0.);\n"
   ]
  },
  {
   "cell_type": "markdown",
   "metadata": {},
   "source": [
    "#### Explaination of printout above:\n",
    "ok, there is a lot of print out:\n",
    "- The first block tells you what file have been loaded as PDF\n",
    "- The second block list the loaded bkg component with their names (SR1 has stupid names) and it says if the bkg will have a safeguard uncertainty or not.\n",
    "- The third block tells you which nuissance parameters are added to the likelihood and to which component they belong"
   ]
  },
  {
   "cell_type": "code",
   "execution_count": 5,
   "metadata": {},
   "outputs": [],
   "source": [
    "TString treeName = \"treeName\";\n",
    "TString pathOfFile = \"./\";\n",
    "ToyGenerator toy(treeName,pathOfFile);  // (string 'name', string 'out dir')"
   ]
  },
  {
   "cell_type": "code",
   "execution_count": 6,
   "metadata": {},
   "outputs": [],
   "source": [
    "toy.setLikelihood(likeHood);"
   ]
  },
  {
   "cell_type": "code",
   "execution_count": 7,
   "metadata": {},
   "outputs": [],
   "source": [
    "toy.setSeed(127);    // you should change the seed as a function of wimp mass and injected signal strenght"
   ]
  },
  {
   "cell_type": "code",
   "execution_count": 8,
   "metadata": {},
   "outputs": [
    {
     "name": "stdout",
     "output_type": "stream",
     "text": [
      "ToyGenerator::randomizeNuissanceParameter - INFO : Randomizing parameters:\n",
      "ToyGenerator:: - INFO : Skipping paramater: Sigma\n",
      " Id Name                 Type         Current Value               Uncertainty\n",
      " -1 Sigma                Of interest        0                 \n",
      "  1 CNNSscale0           Nuisance       -0.97                 \n",
      "  2 RadioscaleNX0        Nuisance           1                 \n",
      "  3 Radioscale0          Nuisance        -1.3                 \n",
      "  4 ACscale0             Nuisance       -0.68                 \n",
      "  5 Wallscale0           Nuisance        0.38                 \n",
      "  6 ERscale0             Free           0.061                 \n",
      "  7 _py0_                Free            0.95                 \n",
      "  8 _rf0_                Free           -0.85                 \n",
      "  9 SignalScale0         Nuisance        -1.7                 \n"
     ]
    }
   ],
   "source": [
    "toy.randomizeNuissanceParameter();"
   ]
  },
  {
   "cell_type": "markdown",
   "metadata": {},
   "source": [
    "#### now we generate data:\n",
    "ToyGenerator::generateData(double mu, int N) ---> mu = signal multiplier,  N = number of datasets"
   ]
  },
  {
   "cell_type": "code",
   "execution_count": 9,
   "metadata": {},
   "outputs": [
    {
     "name": "stdout",
     "output_type": "stream",
     "text": [
      "ToyGenerator::randomizeNuissanceParameter - INFO : Randomizing parameters:\n",
      "ToyGenerator:: - INFO : Skipping paramater: Sigma\n",
      " Id Name                 Type         Current Value               Uncertainty\n",
      " -1 Sigma                Of interest        0                 \n",
      "  1 CNNSscale0           Nuisance         1.6                 \n",
      "  2 RadioscaleNX0        Nuisance       -0.12                 \n",
      "  3 Radioscale0          Nuisance         1.6                 \n",
      "  4 ACscale0             Nuisance       -0.51                 \n",
      "  5 Wallscale0           Nuisance        0.61                 \n",
      "  6 ERscale0             Free           0.015                 \n",
      "  7 _py0_                Free           -0.43                 \n",
      "  8 _rf0_                Free             1.6                 \n",
      "  9 SignalScale0         Nuisance         2.3                 \n",
      "ToyGenerator::randomizeNuissanceParameter - INFO : Randomizing parameters:\n",
      "ToyGenerator:: - INFO : Skipping paramater: Sigma\n",
      " Id Name                 Type         Current Value               Uncertainty\n",
      " -1 Sigma                Of interest        5                 \n",
      "  1 CNNSscale0           Nuisance       -0.59                 \n",
      "  2 RadioscaleNX0        Nuisance        0.98                 \n",
      "  3 Radioscale0          Nuisance           1                 \n",
      "  4 ACscale0             Nuisance         0.2                 \n",
      "  5 Wallscale0           Nuisance       -0.36                 \n",
      "  6 ERscale0             Free            0.35                 \n",
      "  7 _py0_                Free            -0.8                 \n",
      "  8 _rf0_                Free            -1.9                 \n",
      "  9 SignalScale0         Nuisance        -1.1                 \n",
      "ToyGenerator::randomizeNuissanceParameter - INFO : Randomizing parameters:\n",
      "ToyGenerator:: - INFO : Skipping paramater: Sigma\n",
      " Id Name                 Type         Current Value               Uncertainty\n",
      " -1 Sigma                Of interest        5                 \n",
      "  1 CNNSscale0           Nuisance       -0.83                 \n",
      "  2 RadioscaleNX0        Nuisance       -0.52                 \n",
      "  3 Radioscale0          Nuisance       -0.46                 \n",
      "  4 ACscale0             Nuisance        0.53                 \n",
      "  5 Wallscale0           Nuisance         1.3                 \n",
      "  6 ERscale0             Free           -0.33                 \n",
      "  7 _py0_                Free           -0.22                 \n",
      "  8 _rf0_                Free           -0.69                 \n",
      "  9 SignalScale0         Nuisance       -0.52                 \n",
      "ToyGenerator::randomizeNuissanceParameter - INFO : Randomizing parameters:\n",
      "ToyGenerator:: - INFO : Skipping paramater: Sigma\n",
      " Id Name                 Type         Current Value               Uncertainty\n",
      " -1 Sigma                Of interest        5                 \n",
      "  1 CNNSscale0           Nuisance        -0.4                 \n",
      "  2 RadioscaleNX0        Nuisance        0.94                 \n",
      "  3 Radioscale0          Nuisance       -0.17                 \n",
      "  4 ACscale0             Nuisance        0.65                 \n",
      "  5 Wallscale0           Nuisance         1.5                 \n",
      "  6 ERscale0             Free            0.21                 \n",
      "  7 _py0_                Free           -0.23                 \n",
      "  8 _rf0_                Free            -1.4                 \n",
      "  9 SignalScale0         Nuisance       -0.59                 \n",
      "ToyGenerator::randomizeNuissanceParameter - INFO : Randomizing parameters:\n",
      "ToyGenerator:: - INFO : Skipping paramater: Sigma\n",
      " Id Name                 Type         Current Value               Uncertainty\n",
      " -1 Sigma                Of interest        5                 \n",
      "  1 CNNSscale0           Nuisance       -0.42                 \n",
      "  2 RadioscaleNX0        Nuisance        -1.2                 \n",
      "  3 Radioscale0          Nuisance       -0.21                 \n",
      "  4 ACscale0             Nuisance       -0.82                 \n",
      "  5 Wallscale0           Nuisance        0.54                 \n",
      "  6 ERscale0             Free          -0.085                 \n",
      "  7 _py0_                Free            0.49                 \n",
      "  8 _rf0_                Free           -0.12                 \n",
      "  9 SignalScale0         Nuisance       -0.63                 \n",
      "ToyGenerator::randomizeNuissanceParameter - INFO : Randomizing parameters:\n",
      "ToyGenerator:: - INFO : Skipping paramater: Sigma\n",
      " Id Name                 Type         Current Value               Uncertainty\n",
      " -1 Sigma                Of interest        5                 \n",
      "  1 CNNSscale0           Nuisance        0.94                 \n",
      "  2 RadioscaleNX0        Nuisance       -0.85                 \n",
      "  3 Radioscale0          Nuisance        -1.4                 \n",
      "  4 ACscale0             Nuisance       -0.67                 \n",
      "  5 Wallscale0           Nuisance        0.67                 \n",
      "  6 ERscale0             Free           -0.29                 \n",
      "  7 _py0_                Free            0.39                 \n",
      "  8 _rf0_                Free           -0.59                 \n",
      "  9 SignalScale0         Nuisance       -0.45                 \n",
      "ToyGenerator::randomizeNuissanceParameter - INFO : Randomizing parameters:\n",
      "ToyGenerator:: - INFO : Skipping paramater: Sigma\n",
      " Id Name                 Type         Current Value               Uncertainty\n",
      " -1 Sigma                Of interest        5                 \n",
      "  1 CNNSscale0           Nuisance        0.75                 \n",
      "  2 RadioscaleNX0        Nuisance        0.14                 \n",
      "  3 Radioscale0          Nuisance        0.61                 \n",
      "  4 ACscale0             Nuisance        -1.3                 \n",
      "  5 Wallscale0           Nuisance       -0.61                 \n",
      "  6 ERscale0             Free            0.36                 \n",
      "  7 _py0_                Free            0.39                 \n",
      "  8 _rf0_                Free             1.6                 \n",
      "  9 SignalScale0         Nuisance        0.89                 \n",
      "ToyGenerator::randomizeNuissanceParameter - INFO : Randomizing parameters:\n",
      "ToyGenerator:: - INFO : Skipping paramater: Sigma\n",
      " Id Name                 Type         Current Value               Uncertainty\n",
      " -1 Sigma                Of interest        5                 \n",
      "  1 CNNSscale0           Nuisance        0.18                 \n",
      "  2 RadioscaleNX0        Nuisance         1.4                 \n",
      "  3 Radioscale0          Nuisance           1                 \n",
      "  4 ACscale0             Nuisance       -0.24                 \n",
      "  5 Wallscale0           Nuisance        0.36                 \n",
      "  6 ERscale0             Free             0.3                 \n",
      "  7 _py0_                Free           -0.44                 \n",
      "  8 _rf0_                Free               1                 \n",
      "  9 SignalScale0         Nuisance       -0.98                 \n",
      "ToyGenerator::randomizeNuissanceParameter - INFO : Randomizing parameters:\n",
      "ToyGenerator:: - INFO : Skipping paramater: Sigma\n",
      " Id Name                 Type         Current Value               Uncertainty\n",
      " -1 Sigma                Of interest        5                 \n",
      "  1 CNNSscale0           Nuisance        -1.6                 \n",
      "  2 RadioscaleNX0        Nuisance        -1.7                 \n",
      "  3 Radioscale0          Nuisance       -0.23                 \n",
      "  4 ACscale0             Nuisance       -0.11                 \n",
      "  5 Wallscale0           Nuisance         1.1                 \n",
      "  6 ERscale0             Free            0.17                 \n",
      "  7 _py0_                Free          -0.012                 \n",
      "  8 _rf0_                Free           -0.74                 \n",
      "  9 SignalScale0         Nuisance      -0.058                 \n",
      "ToyGenerator::randomizeNuissanceParameter - INFO : Randomizing parameters:\n",
      "ToyGenerator:: - INFO : Skipping paramater: Sigma\n",
      " Id Name                 Type         Current Value               Uncertainty\n",
      " -1 Sigma                Of interest        5                 \n",
      "  1 CNNSscale0           Nuisance         1.1                 \n",
      "  2 RadioscaleNX0        Nuisance         1.2                 \n",
      "  3 Radioscale0          Nuisance        -0.2                 \n",
      "  4 ACscale0             Nuisance        -0.1                 \n",
      "  5 Wallscale0           Nuisance       -0.91                 \n",
      "  6 ERscale0             Free            0.23                 \n",
      "  7 _py0_                Free           -0.34                 \n",
      "  8 _rf0_                Free             1.1                 \n",
      "  9 SignalScale0         Nuisance        0.84                 \n",
      " Id Name                 Type         Current Value               Uncertainty\n",
      " -1 Sigma                Of interest        5                 \n",
      "  1 CNNSscale0           Nuisance         1.1                 \n",
      "  2 RadioscaleNX0        Nuisance         1.2                 \n",
      "  3 Radioscale0          Nuisance        -0.2                 \n",
      "  4 ACscale0             Nuisance        -0.1                 \n",
      "  5 Wallscale0           Nuisance       -0.91                 \n",
      "  6 ERscale0             Free            0.23                 \n",
      "  7 _py0_                Free           -0.34                 \n",
      "  8 _rf0_                Free             1.1                 \n",
      "  9 SignalScale0         Nuisance        0.84                 \n"
     ]
    }
   ],
   "source": [
    "toy.generateData(5,10);           // generated science data: generateData(double mu, int N, bool randomizeNP = true);\n",
    "\n",
    "toy.setAverageCalibrationEvents(10000);\n",
    "//toy.generateCalibration(10);      // generate calibration data: generateCalibration(int N, bool randomizeNP = true);"
   ]
  },
  {
   "cell_type": "markdown",
   "metadata": {},
   "source": [
    "### Let's have a look at what we've created\n",
    "In the specified directory you'll get a file named with your specified \"TreeName\" with N trees inside.\n",
    "Each tree contains a TList of the parameter values that have been extracted and considered as the truth for that toy dataset and can be accessed with TTree::GetUserInfo() method.\n",
    "\n",
    "The Trees contain 3 branches: cs1, cs2 and type. Type is a string that define the type of the specific event, and reports the name of the histogram from which has been extracted."
   ]
  },
  {
   "cell_type": "code",
   "execution_count": 10,
   "metadata": {},
   "outputs": [
    {
     "name": "stdout",
     "output_type": "stream",
     "text": [
      "TFile**\t\t./treeName.root\t\n",
      " TFile*\t\t./treeName.root\t\n",
      "  KEY: TTree\ttreeName_0;1\tgenerated toy data\n",
      "  KEY: TTree\ttreeName_1;1\tgenerated toy data\n",
      "  KEY: TTree\ttreeName_2;1\tgenerated toy data\n",
      "  KEY: TTree\ttreeName_3;1\tgenerated toy data\n",
      "  KEY: TTree\ttreeName_4;1\tgenerated toy data\n",
      "  KEY: TTree\ttreeName_5;1\tgenerated toy data\n",
      "  KEY: TTree\ttreeName_6;1\tgenerated toy data\n",
      "  KEY: TTree\ttreeName_7;1\tgenerated toy data\n",
      "  KEY: TTree\ttreeName_8;1\tgenerated toy data\n",
      "  KEY: TTree\ttreeName_9;1\tgenerated toy data\n"
     ]
    }
   ],
   "source": [
    "TFile *file = TFile::Open(pathOfFile + treeName + \".root\");  // science data\n",
    "//TFile *file = TFile::Open(pathOfFile + treeName + \"_Cal.root\");  // calibration data\n",
    "file->ls();"
   ]
  },
  {
   "cell_type": "code",
   "execution_count": 11,
   "metadata": {},
   "outputs": [],
   "source": [
    "TTree *tree = (TTree*)file->Get(treeName+\"_1\"); // science data\n",
    "//TTree *tree = (TTree*)file->Get(treeName+\"_Cal1\");  // calibration"
   ]
  },
  {
   "cell_type": "code",
   "execution_count": 12,
   "metadata": {},
   "outputs": [
    {
     "name": "stdout",
     "output_type": "stream",
     "text": [
      "Collection name='UserInfo', class='TList', size=10\n",
      "  TParameter<double>\tSigma = 5\n",
      "  TParameter<double>\tCNNSscale0 = -0.592597\n",
      "  TParameter<double>\tRadioscaleNX0 = 0.977446\n",
      "  TParameter<double>\tRadioscale0 = 1.04343\n",
      "  TParameter<double>\tACscale0 = 0.195928\n",
      "  TParameter<double>\tWallscale0 = -0.359168\n",
      "  TParameter<double>\tERscale0 = 0.352575\n",
      "  TParameter<double>\t_py0_ = -0.797018\n",
      "  TParameter<double>\t_rf0_ = -1.92662\n",
      "  TParameter<double>\tSignalScale0 = -1.09144\n"
     ]
    }
   ],
   "source": [
    "TList *l = tree->GetUserInfo();  // this is a list stored in TTree\n",
    "l->Print();                      // let's print the params for one tree, they are stored in TParameter class type."
   ]
  },
  {
   "cell_type": "code",
   "execution_count": 13,
   "metadata": {},
   "outputs": [
    {
     "name": "stdout",
     "output_type": "stream",
     "text": [
      "******************************************************************************\n",
      "*Tree    :treeName_1: generated toy data                                     *\n",
      "*Entries :      380 : Total =           14676 bytes  File  Size =       6407 *\n",
      "*        :          : Tree compression factor =   2.07                       *\n",
      "******************************************************************************\n",
      "*Br    0 :cs1       : cs1/F                                                  *\n",
      "*Entries :      380 : Total  Size=       2073 bytes  File Size  =       1596 *\n",
      "*Baskets :        1 : Basket Size=      32000 bytes  Compression=   1.00     *\n",
      "*............................................................................*\n",
      "*Br    1 :cs2       : cs2/F                                                  *\n",
      "*Entries :      380 : Total  Size=       2073 bytes  File Size  =       1596 *\n",
      "*Baskets :        1 : Basket Size=      32000 bytes  Compression=   1.00     *\n",
      "*............................................................................*\n",
      "*Br    2 :type      : string                                                 *\n",
      "*Entries :      380 : Total  Size=       3245 bytes  File Size  =       1651 *\n",
      "*Baskets :        1 : Basket Size=      32000 bytes  Compression=   1.67     *\n",
      "*............................................................................*\n",
      "*Br    3 :generation : generation/I                                          *\n",
      "*Entries :      380 : Total  Size=       2108 bytes  File Size  =        116 *\n",
      "*Baskets :        1 : Basket Size=      32000 bytes  Compression=  13.82     *\n",
      "*............................................................................*\n",
      "*Br    4 :likelihoodType : likelihoodType/I                                  *\n",
      "*Entries :      380 : Total  Size=       2128 bytes  File Size  =        120 *\n",
      "*Baskets :        1 : Basket Size=      32000 bytes  Compression=  13.39     *\n",
      "*............................................................................*\n",
      "*Br    5 :toyItr    : toyItr/I                                               *\n",
      "*Entries :      380 : Total  Size=       2088 bytes  File Size  =        115 *\n",
      "*Baskets :        1 : Basket Size=      32000 bytes  Compression=  13.90     *\n",
      "*............................................................................*\n"
     ]
    }
   ],
   "source": [
    "tree->Print();"
   ]
  },
  {
   "cell_type": "code",
   "execution_count": 14,
   "metadata": {},
   "outputs": [
    {
     "data": {
      "image/png": "[encoded data removed]",
      "text/plain": [
       "<IPython.core.display.Image object>"
      ]
     },
     "metadata": {},
     "output_type": "display_data"
    }
   ],
   "source": [
    "TCanvas *c2 = new TCanvas();\n",
    "tree->Draw(\"type\");\n",
    "c2->Draw();"
   ]
  },
  {
   "cell_type": "code",
   "execution_count": 15,
   "metadata": {},
   "outputs": [
    {
     "data": {
      "image/png": "[encoded data removed]",
      "text/plain": [
       "<IPython.core.display.Image object>"
      ]
     },
     "metadata": {},
     "output_type": "display_data"
    }
   ],
   "source": [
    "TCanvas *c4 = new TCanvas();\n",
    "gStyle->SetOptTitle(kFALSE);\n",
    "gStyle->SetOptStat(0);\n",
    "\n",
    "TH2F *h = new TH2F(\"h\",\"signal\",100,0,70,100,2,3.7);\n",
    "h->SetMarkerStyle(kOpenCircle);\n",
    "tree->Draw(\"cs2:cs1>>h\",\"type==\\\"wimp_50\\\"\");  // this is actually log10(cs2)\n",
    "TH2F *h2 = new TH2F(\"h2\",\"ER bkg\",100,0,70,100,2,3.7);\n",
    "h2->SetMarkerStyle(kFullTriangleUp);\n",
    "tree->Draw(\"cs2:cs1>>h2\",\"type==\\\"ER\\\"\");  // \"hband\" is the unfortunate name of the ER bkg component, but hey that's the name of the histo...\n",
    "h->Draw(\"P\");\n",
    "h2->Draw(\"SAME P\");\n",
    "//gPad->BuildLegend();\n",
    "c4->Draw();"
   ]
  },
  {
   "cell_type": "code",
   "execution_count": 17,
   "metadata": {},
   "outputs": [
    {
     "name": "stdout",
     "output_type": "stream",
     "text": [
      "\n",
      "\n",
      "--------------Event Summary------------------\n",
      "PdfComponent Name \tEvents\n",
      "CNNS \t 0.0330\n",
      "RadiogenicNX \t 0.0213\n",
      "RadiogenicNR \t 0.1800\n",
      "AC \t 0.3075\n",
      "Wall \t 0.0219\n",
      "ER \t 323.1444\n",
      "Signal \t 76.4627\n"
     ]
    }
   ],
   "source": [
    "likeHood->printEventSummary();"
   ]
  },
  {
   "cell_type": "code",
   "execution_count": null,
   "metadata": {
    "collapsed": true
   },
   "outputs": [],
   "source": []
  }
 ],
 "metadata": {
  "kernelspec": {
   "display_name": "ROOT C++",
   "language": "c++",
   "name": "root"
  },
  "language_info": {
   "codemirror_mode": "text/x-c++src",
   "file_extension": ".C",
   "mimetype": " text/x-c++src",
   "name": "c++"
  }
 },
 "nbformat": 4,
 "nbformat_minor": 2
}
