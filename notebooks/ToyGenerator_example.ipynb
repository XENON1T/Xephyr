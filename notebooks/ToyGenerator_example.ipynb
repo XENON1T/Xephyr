{
 "cells": [
  {
   "cell_type": "markdown",
   "metadata": {},
   "source": [
    "# Tutorial on Toy Generation  to be used for limit production"
   ]
  },
  {
   "cell_type": "markdown",
   "metadata": {},
   "source": [
    "# In a nutshell:  Neymann construction with likelihood ratio\n",
    "\n",
    "## Some definitions:\n",
    "- **mu** is our parameter of interest, the signal strenght, it can be considered as equal to the number of signal events. Altough there is a small difference (out of the scope of this tutorial).\n",
    "- **q_mu** is the test statistic, the likelihood ratio. This is a function of the \"tested\" value of **mu**.\n",
    "- **H_mu** is the signal hypothesis with a signal strenght **mu**.\n",
    "- **H_0** is the null hypothesis, background only.\n",
    "\n",
    "## General Idea\n",
    "Porduce limits with the Neymann construction method. Typically this means that one wants to reject the signal hypothesis **H_mu**  in favour of the null, **H_0**. The whole game is then to find the value of **mu** for which the **H_mu** is rejected at 90% CL. To do so one needs the distibution of the test statistic **q_{mu}** under signal hypothesis **H_mu** (assuming that **H_mu** is true).\n",
    "The whole procedure is quite involved, but can be divided in a few points:\n",
    "\n",
    "**Produce the 90% quantiles curve** \n",
    "- Produce several MC toy datasets related to a specific hypothesis **mu**.\n",
    "- **Fit** those datastes, meaning, compute the **q_mu**, testing the same exact **mu** for under which the toys are generated\n",
    "- Now you have many **q_mu** values for a given **mu** test and the related hypothesis. So you have the distro of **q_mu** under the hypothesis **H_mu**. So you can compute the 90% quantile of that distribution **q_mu_90**, or in other words the value of **q_mu** that correspond to a p-value of 10%.\n",
    "- Now you can repeat the procedure for a prefixed set of values of **mu** and obtain a set of **q_mu_90** points.\n",
    "- Interpolate the latter set of points and you'll have a curve describing the evolution of the 90% quantile of the test statistic **q_mu_90** as a function of the tested value of **mu**.\n",
    "- Now you can use that curve to compute the limits.\n",
    "\n",
    "**Compute the limits or the sensitivity**\n",
    "- Given a dataset, that can be real data (for real limit) or toy bkg only data (for sensitivity), one compute the value of **q_mu** for a given **mu**.\n",
    "- Check that value againts the **q_mu_90** curve to find if its p-value is larger than 10%, if yes that **mu** hypothesis is excluded.\n",
    "- Find the value of **mu** for which the likelihood ratio curve **q_mu** intersect the **q_mu_90** curve, that is the limit at 90% CL.\n",
    "- If you are computing the real limmit then you are done, if you are computing sensitivity then repeat these last 2 points for many toy datasets untill you'll get the distribution of limits under the **H_0**. Find the median and 1-2sigma of that distro."
   ]
  },
  {
   "cell_type": "markdown",
   "metadata": {},
   "source": [
    "# The focus of the tutorial\n",
    "This tutorial is devoted to show you how to use Xephyr classes to produce MC pseudo-datasets from background and signal models, so to generate toys under any of the **H_mu** hypothesis. We will show that it is very easy to do so once you have previously defined a likelihood.\n"
   ]
  },
  {
   "cell_type": "markdown",
   "metadata": {},
   "source": [
    "## The Setup \n",
    "First of all I suggest you to produce a single compilable macro that contains the likelihood you want to use, you can find in other tutorial how to define the likelihood [here](https://xenon1t.github.io/Xephyr/docs/tutorials.html). The idea of this macro is to define a function that you can use to retrieve the likelihood, so that you have it defined in one place only. You can get inspiration on how to write this function from [here](https://github.com/XENON1T/SR1Results/blob/master/StatisticalAnalyses/xephyr_sr1_likelihood/src/).\n",
    "\n",
    "\n",
    "This tutorial depends on the likelihood definition of SR1,  so you need to download the SR1 repository.\n",
    "```bash\n",
    "cd XEPHYR_DIR\n",
    "git clone git@github.com:XENON1T/SR1Results.git SR1\n",
    "```"
   ]
  },
  {
   "cell_type": "markdown",
   "metadata": {},
   "source": [
    "# Part 1) Intro"
   ]
  },
  {
   "cell_type": "code",
   "execution_count": 1,
   "metadata": {},
   "outputs": [
    {
     "name": "stdout",
     "output_type": "stream",
     "text": [
      "\n",
      "\n",
      "      =================== Welcome to Xephyr =====================\n",
      "       Version 6.0 dated 10-Oct-2017, compiled with ROOT 6.14/00\n",
      "      ===========================================================\n",
      "\n",
      "(int) 0\n"
     ]
    }
   ],
   "source": [
    ".x ../loadXephyr.C"
   ]
  },
  {
   "cell_type": "code",
   "execution_count": 2,
   "metadata": {},
   "outputs": [],
   "source": [
    "// add path to include files to ROOT (in the file I'm going to load there are some Xephyr includes) \n",
    "gInterpreter->AddIncludePath(\"../src\");  // in this case is just XEPHYR src from next dir."
   ]
  },
  {
   "cell_type": "markdown",
   "metadata": {},
   "source": [
    "Now we load the SR1 likelihood macro, where the definition of the likelihood is."
   ]
  },
  {
   "cell_type": "code",
   "execution_count": 3,
   "metadata": {},
   "outputs": [],
   "source": [
    ".L ../../SR1/StatisticalAnalyses/xephyr_sr1_likelihood/src/likelihoodDef.cxx"
   ]
  },
  {
   "cell_type": "code",
   "execution_count": 4,
   "metadata": {
    "scrolled": true
   },
   "outputs": [
    {
     "name": "stdout",
     "output_type": "stream",
     "text": [
      "pdfComponent::Constructor - INFO : Reading file /home/pan/work/XEPHYR/SR1/StatisticalAnalyses/inputs_for_likelihood/lax_1.5.1_egg/sliced_2d_templates/ERBackgroundModel_Stitched_SR1_RunSourceCombinedFit180420.root\n",
      "pdfComponent::Constructor - INFO : Reading file /home/pan/work/XEPHYR/SR1/StatisticalAnalyses/inputs_for_likelihood/lax_1.5.1_egg/sliced_2d_templates/Background_wall_ac_templates_v6_inegg_bin_SR1_2018-04-30.root\n",
      "pdfComponent::Constructor - INFO : Reading file /home/pan/work/XEPHYR/SR1/StatisticalAnalyses/inputs_for_likelihood/lax_1.5.1_egg/sliced_2d_templates/Background_wall_ac_templates_v6_inegg_bin_SR1_2018-04-30.root\n",
      "pdfComponent::Constructor - INFO : Reading file /home/pan/work/XEPHYR/SR1/StatisticalAnalyses/inputs_for_likelihood/lax_1.5.1_egg/sliced_2d_templates/RadiogenicNRBackgroundModel_SR1_RunSourceCombined180420.root\n",
      "pdfComponent::Constructor - INFO : Reading file /home/pan/work/XEPHYR/SR1/StatisticalAnalyses/inputs_for_likelihood/lax_1.5.1_egg/sliced_2d_templates/RadiogenicNeutronXBackgroundModel_SR1_RunSourceCombined180420.root\n",
      "pdfComponent::Constructor - INFO : Reading file /home/pan/work/XEPHYR/SR1/StatisticalAnalyses/inputs_for_likelihood/lax_1.5.1_egg/sliced_2d_templates/CNNSBackgroundModel_SR1_RunSourceCombinedFit180420.root\n",
      "pdfComponent::Constructor - INFO : Reading file /home/pan/work/XEPHYR/SR1/StatisticalAnalyses/inputs_for_likelihood/lax_1.5.1_egg/sliced_2d_templates/SignalModel_SR1_50GeV_FromRunSourceCombinedFit180420.root\n",
      "scale Signal uncertainty: 0.0244569\n",
      "pdfLikelihood - INFO: bkg component named hmc_extruded_yx_r0_f added to    NOT SAFEGUARDED\n",
      "pdfLikelihood - INFO: bkg component named hnrbkg_yx_r0_f added to    NOT SAFEGUARDED\n",
      "pdfLikelihood - INFO: bkg component named hnrbkg_yx_r0_f added to    NOT SAFEGUARDED\n",
      "pdfLikelihood - INFO: bkg component named acbg_yx_r0_f added to    NOT SAFEGUARDED\n",
      "pdfLikelihood - INFO: bkg component named wallbg_0.00_yx_r0_f added to    NOT SAFEGUARDED\n",
      "pdfLikelihood - INFO: bkg component named hbkg added to    SAFEGUARDED\n",
      "Can't find parameter -1\n"
     ]
    },
    {
     "name": "stderr",
     "output_type": "stream",
     "text": [
      "\n",
      "Thread 9 (Thread 0x7f9115ffb700 (LWP 27856)):\n",
      "#0  0x00007f91371dd6c2 in __GI___waitpid (pid=27859, stat_loc=stat_loc\n",
      "entry=0x7f9115ff7598, options=options\n",
      "entry=0) at ../sysdeps/unix/sysv/linux/waitpid.c:30\n",
      "#1  0x00007f9137148067 in do_system (line=<optimized out>) at ../sysdeps/posix/system.c:149\n",
      "#2  0x00007f912d17c80b in TUnixSystem::Exec (shellcmd=<optimized out>, this=0x561367c7e090) at /home/pan/root-6.14.00/core/unix/src/TUnixSystem.cxx:2119\n",
      "#3  TUnixSystem::StackTrace (this=0x561367c7e090) at /home/pan/root-6.14.00/core/unix/src/TUnixSystem.cxx:2413\n",
      "#4  0x00007f9127f88a35 in cling::MultiplexInterpreterCallbacks::PrintStackTrace() () from /home/pan/root-6.14.00/build/lib/libCling.so\n",
      "#5  0x00007f9127f884bb in cling_runtime_internal_throwIfInvalidPointer () from /home/pan/root-6.14.00/build/lib/libCling.so\n",
      "#6  0x00007f91377aa0f2 in ?? ()\n",
      "#7  0x0000000000000015 in ?? ()\n",
      "#8  0x00005613685d09a0 in ?? ()\n",
      "#9  0x0000561367a072c0 in ?? ()\n",
      "#10 0x0000561367a072c0 in ?? ()\n",
      "#11 0x00007f90feb9e980 in ?? ()\n",
      "#12 0x00007f9127f88470 in ?? () from /home/pan/root-6.14.00/build/lib/libCling.so\n",
      "#13 0x00007f9137925888 in ?? ()\n",
      "#14 0x00007f9115ff9e40 in ?? ()\n",
      "#15 0x00007f9115ff9a70 in ?? ()\n",
      "#16 0x00007f9127f8d457 in cling::Interpreter::RunFunction(clang::FunctionDecl const*, cling::Value*) [clone .part.303] () from /home/pan/root-6.14.00/build/lib/libCling.so\n",
      "#17 0x00007f9127f8d8af in cling::Interpreter::EvaluateInternal(std::__cxx11::basic_string<char, std::char_traits<char>, std::allocator<char> > const&, cling::CompilationOptions, cling::Value*, cling::Transaction**, unsigned long) () from /home/pan/root-6.14.00/build/lib/libCling.so\n",
      "#18 0x00007f9127f8e097 in cling::Interpreter::process(std::__cxx11::basic_string<char, std::char_traits<char>, std::allocator<char> > const&, cling::Value*, cling::Transaction**, bool) () from /home/pan/root-6.14.00/build/lib/libCling.so\n",
      "#19 0x00007f912803e76d in cling::MetaProcessor::process(llvm::StringRef, cling::Interpreter::CompilationResult&, cling::Value*, bool) () from /home/pan/root-6.14.00/build/lib/libCling.so\n",
      "#20 0x00007f9127ee28ee in HandleInterpreterException (metaProcessor=0x5613686140d0, input_line=<optimized out>, compRes=\n",
      "0x7f9115ff9e2c: cling::Interpreter::kSuccess, result=result\n",
      "entry=0x7f9115ff9e40) at /home/pan/root-6.14.00/core/metacling/src/TCling.cxx:2060\n",
      "#21 0x00007f9127ef829d in TCling::ProcessLine (this=0x561367de43f0, line=<optimized out>, error=0x7f9115ffa1e4) at /home/pan/root-6.14.00/core/metacling/src/TCling.cxx:2218\n",
      "#22 0x00007f911f5ae8f9 in JupyROOTExecutorImpl (code=0x7f911c3763f0 \"double mass = 50.; // GeV\\nint likelihood_type = 0;  // [0=inner egg, 1= U volume, 2 = Wall volume]\\n\\n// The whole SR1 likelihood definition now is in this object \\npdfLikelihood *likeHood = getTheLikeli\"...) at /home/pan/root-6.14.00/bindings/pyroot/JupyROOT/src/IOHandler.cxx:139\n",
      "#23 0x00007f911f5ae9a9 in JupyROOTExecutor (code=<optimized out>) at /home/pan/root-6.14.00/bindings/pyroot/JupyROOT/src/IOHandler.cxx:171\n",
      "#24 0x00007f9131171ec0 in ffi_call_unix64 () from /home/pan/anaconda3/lib/python3.6/lib-dynload/../../libffi.so.6\n",
      "#25 0x00007f913117187d in ffi_call () from /home/pan/anaconda3/lib/python3.6/lib-dynload/../../libffi.so.6\n",
      "#26 0x00007f9131386dee in _ctypes_callproc () from /home/pan/anaconda3/lib/python3.6/lib-dynload/_ctypes.cpython-36m-x86_64-linux-gnu.so\n",
      "#27 0x00007f9131387825 in PyCFuncPtr_call () from /home/pan/anaconda3/lib/python3.6/lib-dynload/_ctypes.cpython-36m-x86_64-linux-gnu.so\n",
      "#28 0x000056136583c1bb in _PyObject_FastCallDict ()\n",
      "#29 0x00005613658c9d3e in call_function ()\n",
      "#30 0x00005613658ee19a in _PyEval_EvalFrameDefault ()\n",
      "#31 0x00005613658c3e4b in _PyFunction_FastCallDict ()\n",
      "#32 0x000056136583c39f in _PyObject_FastCallDict ()\n",
      "#33 0x0000561365840ff3 in _PyObject_Call_Prepend ()\n",
      "#34 0x000056136583bdde in PyObject_Call ()\n",
      "#35 0x00005613658ef994 in _PyEval_EvalFrameDefault ()\n",
      "#36 0x00005613658c37db in fast_function ()\n",
      "#37 0x00005613658c9cc5 in call_function ()\n",
      "#38 0x00005613658ee19a in _PyEval_EvalFrameDefault ()\n",
      "#39 0x00005613658c37db in fast_function ()\n",
      "#40 0x00005613658c9cc5 in call_function ()\n",
      "#41 0x00005613658ee19a in _PyEval_EvalFrameDefault ()\n",
      "#42 0x00005613658c3e4b in _PyFunction_FastCallDict ()\n",
      "#43 0x000056136583c39f in _PyObject_FastCallDict ()\n",
      "#44 0x0000561365840ff3 in _PyObject_Call_Prepend ()\n",
      "#45 0x000056136583bdde in PyObject_Call ()\n",
      "#46 0x000056136593b426 in t_bootstrap ()\n",
      "#47 0x00007f91374f16db in start_thread (arg=0x7f9115ffb700) at pthread_create.c:463\n",
      "#48 0x00007f913721a88f in clone () at ../sysdeps/unix/sysv/linux/x86_64/clone.S:95\n",
      "\n",
      "Thread 8 (Thread 0x7f91167fc700 (LWP 27849)):\n",
      "#0  0x00007f913721003f in __GI___select (nfds=0, readfds=0x0, writefds=0x0, exceptfds=0x0, timeout=0x7f91167fb790) at ../sysdeps/unix/sysv/linux/select.c:41\n",
      "#1  0x000056136591cb81 in time_sleep ()\n",
      "#2  0x000056136583bf95 in _PyCFunction_FastCallDict ()\n",
      "#3  0x00005613658c9bec in call_function ()\n",
      "#4  0x00005613658ee19a in _PyEval_EvalFrameDefault ()\n",
      "#5  0x00005613658c37db in fast_function ()\n",
      "#6  0x00005613658c9cc5 in call_function ()\n",
      "#7  0x00005613658ee19a in _PyEval_EvalFrameDefault ()\n",
      "#8  0x00005613658c37db in fast_function ()\n",
      "#9  0x00005613658c9cc5 in call_function ()\n",
      "#10 0x00005613658ee19a in _PyEval_EvalFrameDefault ()\n",
      "#11 0x00005613658c3e4b in _PyFunction_FastCallDict ()\n",
      "#12 0x000056136583c39f in _PyObject_FastCallDict ()\n",
      "#13 0x0000561365840ff3 in _PyObject_Call_Prepend ()\n",
      "#14 0x000056136583bdde in PyObject_Call ()\n",
      "#15 0x000056136593b426 in t_bootstrap ()\n",
      "#16 0x00007f91374f16db in start_thread (arg=0x7f91167fc700) at pthread_create.c:463\n",
      "#17 0x00007f913721a88f in clone () at ../sysdeps/unix/sysv/linux/x86_64/clone.S:95\n",
      "\n",
      "Thread 7 (Thread 0x7f9116ffd700 (LWP 27632)):\n",
      "#0  0x00007f913721abb7 in epoll_wait (epfd=30, events=0x7f9116ffc1f0, maxevents=256, timeout=-1) at ../sysdeps/unix/sysv/linux/epoll_wait.c:30\n",
      "#1  0x00007f911eee9474 in zmq::epoll_t::loop() () from /home/pan/anaconda3/lib/python3.6/site-packages/zmq/backend/cython/../../../../../libzmq.so.5.1.2\n",
      "#2  0x00007f911ef245ce in thread_routine () from /home/pan/anaconda3/lib/python3.6/site-packages/zmq/backend/cython/../../../../../libzmq.so.5.1.2\n",
      "#3  0x00007f91374f16db in start_thread (arg=0x7f9116ffd700) at pthread_create.c:463\n",
      "#4  0x00007f913721a88f in clone () at ../sysdeps/unix/sysv/linux/x86_64/clone.S:95\n",
      "\n",
      "Thread 6 (Thread 0x7f91177fe700 (LWP 27631)):\n",
      "#0  0x00007f913721abb7 in epoll_wait (epfd=28, events=0x7f91177fd1f0, maxevents=256, timeout=-1) at ../sysdeps/unix/sysv/linux/epoll_wait.c:30\n",
      "#1  0x00007f911eee9474 in zmq::epoll_t::loop() () from /home/pan/anaconda3/lib/python3.6/site-packages/zmq/backend/cython/../../../../../libzmq.so.5.1.2\n",
      "#2  0x00007f911ef245ce in thread_routine () from /home/pan/anaconda3/lib/python3.6/site-packages/zmq/backend/cython/../../../../../libzmq.so.5.1.2\n",
      "#3  0x00007f91374f16db in start_thread (arg=0x7f91177fe700) at pthread_create.c:463\n",
      "#4  0x00007f913721a88f in clone () at ../sysdeps/unix/sysv/linux/x86_64/clone.S:95\n",
      "\n",
      "Thread 5 (Thread 0x7f9117fff700 (LWP 27630)):\n",
      "#0  0x00007f913720dbf9 in __GI___poll (fds=0x7f910c006c40, nfds=1, timeout=-1) at ../sysdeps/unix/sysv/linux/poll.c:29\n",
      "#1  0x00007f911ef2da36 in zmq::socket_poller_t::wait(zmq::socket_poller_t::event_t*, int, long) () from /home/pan/anaconda3/lib/python3.6/site-packages/zmq/backend/cython/../../../../../libzmq.so.5.1.2\n",
      "#2  0x00007f911ef2c439 in zmq_poll () from /home/pan/anaconda3/lib/python3.6/site-packages/zmq/backend/cython/../../../../../libzmq.so.5.1.2\n",
      "#3  0x00007f911ef01e64 in zmq::proxy(zmq::socket_base_t*, zmq::socket_base_t*, zmq::socket_base_t*, zmq::socket_base_t*) () from /home/pan/anaconda3/lib/python3.6/site-packages/zmq/backend/cython/../../../../../libzmq.so.5.1.2\n",
      "#4  0x00007f911e01563a in __pyx_pw_3zmq_7backend_6cython_7_device_3proxy () from /home/pan/anaconda3/lib/python3.6/site-packages/zmq/backend/cython/_device.cpython-36m-x86_64-linux-gnu.so\n",
      "#5  0x00007f911e0179ca in __pyx_pw_3zmq_7backend_6cython_7_device_1device () from /home/pan/anaconda3/lib/python3.6/site-packages/zmq/backend/cython/_device.cpython-36m-x86_64-linux-gnu.so\n",
      "#6  0x000056136583c1bb in _PyObject_FastCallDict ()\n",
      "#7  0x00005613658c9d3e in call_function ()\n",
      "#8  0x00005613658ee19a in _PyEval_EvalFrameDefault ()\n",
      "#9  0x00005613658c37db in fast_function ()\n",
      "#10 0x00005613658c9cc5 in call_function ()\n",
      "#11 0x00005613658ee19a in _PyEval_EvalFrameDefault ()\n",
      "#12 0x00005613658c37db in fast_function ()\n",
      "#13 0x00005613658c9cc5 in call_function ()\n",
      "#14 0x00005613658ee19a in _PyEval_EvalFrameDefault ()\n",
      "#15 0x00005613658c3e4b in _PyFunction_FastCallDict ()\n",
      "#16 0x000056136583c39f in _PyObject_FastCallDict ()\n",
      "#17 0x0000561365840ff3 in _PyObject_Call_Prepend ()\n",
      "#18 0x000056136583bdde in PyObject_Call ()\n",
      "#19 0x000056136593b426 in t_bootstrap ()\n",
      "#20 0x00007f91374f16db in start_thread (arg=0x7f9117fff700) at pthread_create.c:463\n",
      "#21 0x00007f913721a88f in clone () at ../sysdeps/unix/sysv/linux/x86_64/clone.S:95\n",
      "\n",
      "Thread 4 (Thread 0x7f911cbb8700 (LWP 27629)):\n",
      "#0  0x00007f913720dbf9 in __GI___poll (fds=0x7f91100030f0, nfds=3, timeout=3600000) at ../sysdeps/unix/sysv/linux/poll.c:29\n",
      "#1  0x00007f911ef2da36 in zmq::socket_poller_t::wait(zmq::socket_poller_t::event_t*, int, long) () from /home/pan/anaconda3/lib/python3.6/site-packages/zmq/backend/cython/../../../../../libzmq.so.5.1.2\n",
      "#2  0x00007f911ef2c439 in zmq_poll () from /home/pan/anaconda3/lib/python3.6/site-packages/zmq/backend/cython/../../../../../libzmq.so.5.1.2\n",
      "#3  0x00007f911e42c26f in __pyx_pf_3zmq_7backend_6cython_5_poll_zmq_poll.isra.18 () from /home/pan/anaconda3/lib/python3.6/site-packages/zmq/backend/cython/_poll.cpython-36m-x86_64-linux-gnu.so\n",
      "#4  0x00007f911e42e328 in __pyx_pw_3zmq_7backend_6cython_5_poll_1zmq_poll () from /home/pan/anaconda3/lib/python3.6/site-packages/zmq/backend/cython/_poll.cpython-36m-x86_64-linux-gnu.so\n",
      "#5  0x000056136583c1bb in _PyObject_FastCallDict ()\n",
      "#6  0x00005613658c3cfa in _PyObject_FastCallKeywords ()\n",
      "#7  0x00005613658c9d3e in call_function ()\n",
      "#8  0x00005613658eeeb1 in _PyEval_EvalFrameDefault ()\n",
      "#9  0x00005613658c29a6 in _PyEval_EvalCodeWithName ()\n",
      "#10 0x00005613658c3a11 in fast_function ()\n",
      "#11 0x00005613658c9cc5 in call_function ()\n",
      "#12 0x00005613658ee19a in _PyEval_EvalFrameDefault ()\n",
      "#13 0x00005613658c2dfe in _PyEval_EvalCodeWithName ()\n",
      "#14 0x00005613658c3a11 in fast_function ()\n",
      "#15 0x00005613658c9cc5 in call_function ()\n",
      "#16 0x00005613658ee19a in _PyEval_EvalFrameDefault ()\n",
      "#17 0x00005613658c37db in fast_function ()\n",
      "#18 0x00005613658c9cc5 in call_function ()\n",
      "#19 0x00005613658ee19a in _PyEval_EvalFrameDefault ()\n",
      "#20 0x00005613658c2c76 in _PyEval_EvalCodeWithName ()\n",
      "#21 0x00005613658c3a11 in fast_function ()\n",
      "#22 0x00005613658c9cc5 in call_function ()\n",
      "#23 0x00005613658ee19a in _PyEval_EvalFrameDefault ()\n",
      "#24 0x00005613658c3e4b in _PyFunction_FastCallDict ()\n",
      "#25 0x000056136583c39f in _PyObject_FastCallDict ()\n",
      "#26 0x0000561365840ff3 in _PyObject_Call_Prepend ()\n",
      "#27 0x000056136583bdde in PyObject_Call ()\n",
      "#28 0x00005613658ef994 in _PyEval_EvalFrameDefault ()\n",
      "#29 0x00005613658c37db in fast_function ()\n",
      "#30 0x00005613658c9cc5 in call_function ()\n",
      "#31 0x00005613658ee19a in _PyEval_EvalFrameDefault ()\n",
      "#32 0x00005613658c37db in fast_function ()\n",
      "#33 0x00005613658c9cc5 in call_function ()\n",
      "#34 0x00005613658ee19a in _PyEval_EvalFrameDefault ()\n",
      "#35 0x00005613658c3e4b in _PyFunction_FastCallDict ()\n",
      "#36 0x000056136583c39f in _PyObject_FastCallDict ()\n",
      "#37 0x0000561365840ff3 in _PyObject_Call_Prepend ()\n",
      "#38 0x000056136583bdde in PyObject_Call ()\n",
      "#39 0x000056136593b426 in t_bootstrap ()\n",
      "#40 0x00007f91374f16db in start_thread (arg=0x7f911cbb8700) at pthread_create.c:463\n",
      "#41 0x00007f913721a88f in clone () at ../sysdeps/unix/sysv/linux/x86_64/clone.S:95\n",
      "\n",
      "Thread 3 (Thread 0x7f911d3b9700 (LWP 27628)):\n",
      "#0  0x00007f913721abb7 in epoll_wait (epfd=11, events=0x7f911d3b81f0, maxevents=256, timeout=-1) at ../sysdeps/unix/sysv/linux/epoll_wait.c:30\n",
      "#1  0x00007f911eee9474 in zmq::epoll_t::loop() () from /home/pan/anaconda3/lib/python3.6/site-packages/zmq/backend/cython/../../../../../libzmq.so.5.1.2\n",
      "#2  0x00007f911ef245ce in thread_routine () from /home/pan/anaconda3/lib/python3.6/site-packages/zmq/backend/cython/../../../../../libzmq.so.5.1.2\n",
      "#3  0x00007f91374f16db in start_thread (arg=0x7f911d3b9700) at pthread_create.c:463\n",
      "#4  0x00007f913721a88f in clone () at ../sysdeps/unix/sysv/linux/x86_64/clone.S:95\n",
      "\n",
      "Thread 2 (Thread 0x7f911dbba700 (LWP 27627)):\n",
      "#0  0x00007f913721abb7 in epoll_wait (epfd=9, events=0x7f911dbb91f0, maxevents=256, timeout=-1) at ../sysdeps/unix/sysv/linux/epoll_wait.c:30\n",
      "#1  0x00007f911eee9474 in zmq::epoll_t::loop() () from /home/pan/anaconda3/lib/python3.6/site-packages/zmq/backend/cython/../../../../../libzmq.so.5.1.2\n",
      "#2  0x00007f911ef245ce in thread_routine () from /home/pan/anaconda3/lib/python3.6/site-packages/zmq/backend/cython/../../../../../libzmq.so.5.1.2\n",
      "#3  0x00007f91374f16db in start_thread (arg=0x7f911dbba700) at pthread_create.c:463\n",
      "#4  0x00007f913721a88f in clone () at ../sysdeps/unix/sysv/linux/x86_64/clone.S:95\n",
      "\n",
      "Thread 1 (Thread 0x7f9137909740 (LWP 27597)):\n",
      "#0  0x00007f913721003f in __GI___select (nfds=0, readfds=0x0, writefds=0x0, exceptfds=0x0, timeout=0x7ffcc32762a0) at ../sysdeps/unix/sysv/linux/select.c:41\n",
      "#1  0x000056136591cb81 in time_sleep ()\n",
      "#2  0x000056136583bf95 in _PyCFunction_FastCallDict ()\n",
      "#3  0x00005613658c9bec in call_function ()\n",
      "#4  0x00005613658ee19a in _PyEval_EvalFrameDefault ()\n",
      "#5  0x00005613658c29a6 in _PyEval_EvalCodeWithName ()\n",
      "#6  0x00005613658c3a11 in fast_function ()\n",
      "#7  0x00005613658c9cc5 in call_function ()\n",
      "#8  0x00005613658ee19a in _PyEval_EvalFrameDefault ()\n",
      "#9  0x00005613658c29a6 in _PyEval_EvalCodeWithName ()\n",
      "#10 0x00005613658c3a11 in fast_function ()\n",
      "#11 0x00005613658c9cc5 in call_function ()\n",
      "#12 0x00005613658ee19a in _PyEval_EvalFrameDefault ()\n",
      "#13 0x00005613658c29a6 in _PyEval_EvalCodeWithName ()\n",
      "#14 0x00005613658c3a11 in fast_function ()\n",
      "#15 0x00005613658c9cc5 in call_function ()\n",
      "#16 0x00005613658ee19a in _PyEval_EvalFrameDefault ()\n",
      "#17 0x00005613658c37db in fast_function ()\n",
      "#18 0x00005613658c9cc5 in call_function ()\n",
      "#19 0x00005613658ee19a in _PyEval_EvalFrameDefault ()\n",
      "#20 0x00005613658c37db in fast_function ()\n",
      "#21 0x00005613658c9cc5 in call_function ()\n",
      "#22 0x00005613658ee19a in _PyEval_EvalFrameDefault ()\n",
      "#23 0x00005613658c4b6e in PyEval_EvalCodeEx ()\n",
      "#24 0x00005613658c5456 in function_call ()\n",
      "#25 0x000056136583bdde in PyObject_Call ()\n",
      "#26 0x00005613658ef994 in _PyEval_EvalFrameDefault ()\n",
      "#27 0x00005613658c4b6e in PyEval_EvalCodeEx ()\n",
      "#28 0x00005613658c5456 in function_call ()\n",
      "#29 0x000056136583bdde in PyObject_Call ()\n",
      "#30 0x00005613658ef994 in _PyEval_EvalFrameDefault ()\n",
      "#31 0x00005613658c29a6 in _PyEval_EvalCodeWithName ()\n",
      "#32 0x00005613658c3a11 in fast_function ()\n",
      "#33 0x00005613658c9cc5 in call_function ()\n",
      "#34 0x00005613658ee19a in _PyEval_EvalFrameDefault ()\n",
      "#35 0x00005613658c37db in fast_function ()\n",
      "#36 0x00005613658c9cc5 in call_function ()\n",
      "#37 0x00005613658ee19a in _PyEval_EvalFrameDefault ()\n",
      "#38 0x00005613658c3e4b in _PyFunction_FastCallDict ()\n",
      "#39 0x000056136583c39f in _PyObject_FastCallDict ()\n",
      "#40 0x0000561365840ff3 in _PyObject_Call_Prepend ()\n",
      "#41 0x000056136583bdde in PyObject_Call ()\n",
      "#42 0x00005613658ef994 in _PyEval_EvalFrameDefault ()\n",
      "#43 0x00005613658c2dfe in _PyEval_EvalCodeWithName ()\n",
      "#44 0x00005613658c3a11 in fast_function ()\n",
      "#45 0x00005613658c9cc5 in call_function ()\n",
      "#46 0x00005613658ee19a in _PyEval_EvalFrameDefault ()\n",
      "#47 0x00005613658c37db in fast_function ()\n",
      "#48 0x00005613658c9cc5 in call_function ()\n",
      "#49 0x00005613658ee19a in _PyEval_EvalFrameDefault ()\n",
      "#50 0x00005613658c2c76 in _PyEval_EvalCodeWithName ()\n",
      "#51 0x00005613658c3a11 in fast_function ()\n",
      "#52 0x00005613658c9cc5 in call_function ()\n",
      "#53 0x00005613658ee19a in _PyEval_EvalFrameDefault ()\n",
      "#54 0x00005613658c37db in fast_function ()\n",
      "#55 0x00005613658c9cc5 in call_function ()\n",
      "#56 0x00005613658ee19a in _PyEval_EvalFrameDefault ()\n",
      "#57 0x00005613658c29a6 in _PyEval_EvalCodeWithName ()\n",
      "#58 0x00005613658c3a11 in fast_function ()\n",
      "#59 0x00005613658c9cc5 in call_function ()\n",
      "#60 0x00005613658eeeb1 in _PyEval_EvalFrameDefault ()\n",
      "#61 0x00005613658c37db in fast_function ()\n",
      "#62 0x00005613658c9cc5 in call_function ()\n",
      "#63 0x00005613658ee19a in _PyEval_EvalFrameDefault ()\n",
      "#64 0x00005613658c4529 in PyEval_EvalCodeEx ()\n",
      "#65 0x00005613658c52cc in PyEval_EvalCode ()\n",
      "#66 0x00005613658ebb9b in builtin_exec ()\n",
      "#67 0x000056136583bf11 in _PyCFunction_FastCallDict ()\n",
      "#68 0x00005613658c9bec in call_function ()\n",
      "#69 0x00005613658ee19a in _PyEval_EvalFrameDefault ()\n",
      "#70 0x00005613658c29a6 in _PyEval_EvalCodeWithName ()\n",
      "#71 0x00005613658c3a11 in fast_function ()\n",
      "#72 0x00005613658c9cc5 in call_function ()\n",
      "#73 0x00005613658ee19a in _PyEval_EvalFrameDefault ()\n",
      "#74 0x00005613658c4529 in PyEval_EvalCodeEx ()\n",
      "#75 0x00005613658c53b9 in function_call ()\n",
      "#76 0x000056136583bdde in PyObject_Call ()\n",
      "#77 0x000056136593b1f7 in RunModule ()\n",
      "#78 0x0000561365945918 in Py_Main ()\n",
      "#79 0x000056136580d71e in main ()\n",
      "Error in <HandleInterpreterException>: Trying to dereference null pointer or trying to call routine taking non-null arguments.\n",
      "Execution of your code was aborted.\n",
      "\u001b[1minput_line_70:9:1: \u001b[0m\u001b[0;1;35mwarning: \u001b[0m\u001b[1mnull passed to a callee that requires a non-null argument [-Wnonnull]\u001b[0m\n",
      "likeHood->getPOI()->setMinimum(0.);\n",
      "\u001b[0;1;32m^~~~~~~~~~~~~~~~~~\n",
      "\u001b[0m"
     ]
    }
   ],
   "source": [
    "double mass = 50.; // GeV\n",
    "int likelihood_type = 0;  // [0=inner egg, 1= U volume, 2 = Wall volume]\n",
    "\n",
    "// The whole SR1 likelihood definition now is in this object \n",
    "pdfLikelihood *likeHood = getTheLikelihood_SR1( mass, likelihood_type ); \n",
    "\n",
    "// Set parameter of interest constrained positive (not default), because now we want to produce toys\n",
    "likeHood->getPOI()->setMinimum(0.);\n",
    "\n",
    "// Initialize the likelihood\n",
    "likeHood->initialize();\n"
   ]
  },
  {
   "cell_type": "code",
   "execution_count": 5,
   "metadata": {},
   "outputs": [],
   "source": [
    "TString treeName = \"treeName\";\n",
    "TString pathOfFile = \"./\";\n",
    "ToyGenerator toy(treeName,pathOfFile);  // (string 'name', string 'out dir')"
   ]
  },
  {
   "cell_type": "code",
   "execution_count": 7,
   "metadata": {},
   "outputs": [],
   "source": [
    "toy.setLikelihood(likeHood);"
   ]
  },
  {
   "cell_type": "code",
   "execution_count": 8,
   "metadata": {},
   "outputs": [],
   "source": [
    "toy.setSeed(127);    // you should change the seed as a function of wimp mass and injected signal strenght"
   ]
  },
  {
   "cell_type": "code",
   "execution_count": 9,
   "metadata": {},
   "outputs": [
    {
     "name": "stdout",
     "output_type": "stream",
     "text": [
      "ToyGenerator::randomizeNuissanceParameter - INFO : Randomizing parameters:\n",
      " Id Name                 Type         Current Value               Uncertainty\n"
     ]
    }
   ],
   "source": [
    "toy.randomizeNuissanceParameter();"
   ]
  },
  {
   "cell_type": "markdown",
   "metadata": {},
   "source": [
    "#### now we generate data:\n",
    "ToyGenerator::generateData(double mu, int N) ---> mu = signal multiplier,  N = number of datasets"
   ]
  },
  {
   "cell_type": "code",
   "execution_count": null,
   "metadata": {},
   "outputs": [
    {
     "name": "stdout",
     "output_type": "stream",
     "text": [
      "ToyGenerator::randomizeNuissanceParameter - INFO : Randomizing parameters:\n",
      " Id Name                 Type         Current Value               Uncertainty\n",
      "Can't find parameter -1\n"
     ]
    },
    {
     "name": "stderr",
     "output_type": "stream",
     "text": [
      "\n",
      " *** Break *** segmentation violation\n"
     ]
    }
   ],
   "source": [
    "toy.generateData(5,10);           // generated science data: generateData(double mu, int N, bool randomizeNP = true);\n",
    "\n",
    "toy.setAverageCalibrationEvents(10000);\n",
    "//toy.generateCalibration(10);      // generate calibration data: generateCalibration(int N, bool randomizeNP = true);"
   ]
  },
  {
   "cell_type": "markdown",
   "metadata": {},
   "source": [
    "### Let's have a look at what we've created\n",
    "In the specified directory you'll get a file named with your specified \"TreeName\" with N trees inside.\n",
    "Each tree contains a TList of the parameter values that have been extracted and considered as the truth for that toy dataset and can be accessed with TTree::GetUserInfo() method.\n",
    "\n",
    "The Trees contain 3 branches: cs1, cs2 and type. Type is a string that define the type of the specific event, and reports the name of the histogram from which has been extracted."
   ]
  },
  {
   "cell_type": "code",
   "execution_count": 10,
   "metadata": {},
   "outputs": [
    {
     "name": "stdout",
     "output_type": "stream",
     "text": [
      "TFile**\t\t./treeName.root\t\n",
      " TFile*\t\t./treeName.root\t\n",
      "  KEY: TTree\ttreeName0;1\tgenerated toy data\n",
      "  KEY: TTree\ttreeName1;1\tgenerated toy data\n",
      "  KEY: TTree\ttreeName2;1\tgenerated toy data\n",
      "  KEY: TTree\ttreeName3;1\tgenerated toy data\n",
      "  KEY: TTree\ttreeName4;1\tgenerated toy data\n",
      "  KEY: TTree\ttreeName5;1\tgenerated toy data\n",
      "  KEY: TTree\ttreeName6;1\tgenerated toy data\n",
      "  KEY: TTree\ttreeName7;1\tgenerated toy data\n",
      "  KEY: TTree\ttreeName8;1\tgenerated toy data\n",
      "  KEY: TTree\ttreeName9;1\tgenerated toy data\n"
     ]
    }
   ],
   "source": [
    "TFile *file = TFile::Open(pathOfFile + treeName + \".root\");  // science data\n",
    "//TFile *file = TFile::Open(pathOfFile + treeName + \"_Cal.root\");  // calibration data\n",
    "file->ls();"
   ]
  },
  {
   "cell_type": "code",
   "execution_count": 11,
   "metadata": {
    "collapsed": true
   },
   "outputs": [],
   "source": [
    "TTree *tree = (TTree*)file->Get(treeName+\"1\"); // science data\n",
    "//TTree *tree = (TTree*)file->Get(treeName+\"_Cal1\");  // calibration"
   ]
  },
  {
   "cell_type": "code",
   "execution_count": 12,
   "metadata": {},
   "outputs": [
    {
     "name": "stdout",
     "output_type": "stream",
     "text": [
      "Collection name='UserInfo', class='TList', size=8\n",
      "  TParameter<double>\tSigma = 5\n",
      "  TParameter<double>\tERscale = 2.72791\n",
      "  TParameter<double>\t_PY = 0.949941\n",
      "  TParameter<double>\t_RF = -0.850848\n",
      "  TParameter<double>\t_gamma_ = 0\n",
      "  TParameter<double>\t_alpha_ = -0.11721\n",
      "  TParameter<double>\t_eta_ = 0\n",
      "  TParameter<double>\t_acceptance_par_ = -0.512817\n"
     ]
    }
   ],
   "source": [
    "TList *l = tree->GetUserInfo();  // this is a list stored in TTree\n",
    "l->Print();                      // let's print the params for one tree, they are stored in TParameter class type."
   ]
  },
  {
   "cell_type": "code",
   "execution_count": 13,
   "metadata": {},
   "outputs": [
    {
     "name": "stdout",
     "output_type": "stream",
     "text": [
      "******************************************************************************\n",
      "*Tree    :treeName1 : generated toy data                                     *\n",
      "*Entries :       93 : Total =            4180 bytes  File  Size =       2007 *\n",
      "*        :          : Tree compression factor =   1.61                       *\n",
      "******************************************************************************\n",
      "*Br    0 :cs1       : cs1/F                                                  *\n",
      "*Entries :       93 : Total  Size=        913 bytes  File Size  =        447 *\n",
      "*Baskets :        1 : Basket Size=      32000 bytes  Compression=   1.00     *\n",
      "*............................................................................*\n",
      "*Br    1 :cs2       : cs2/F                                                  *\n",
      "*Entries :       93 : Total  Size=        913 bytes  File Size  =        447 *\n",
      "*Baskets :        1 : Basket Size=      32000 bytes  Compression=   1.00     *\n",
      "*............................................................................*\n",
      "*Br    2 :type      : string                                                 *\n",
      "*Entries :       93 : Total  Size=       1530 bytes  File Size  =        320 *\n",
      "*Baskets :        1 : Basket Size=      32000 bytes  Compression=   3.30     *\n",
      "*............................................................................*\n"
     ]
    }
   ],
   "source": [
    "tree->Print();"
   ]
  },
  {
   "cell_type": "code",
   "execution_count": 14,
   "metadata": {},
   "outputs": [
    {
     "data": {
      "image/png": "[encoded data removed]",
      "text/plain": [
       "<IPython.core.display.Image object>"
      ]
     },
     "metadata": {},
     "output_type": "display_data"
    }
   ],
   "source": [
    "TCanvas *c2 = new TCanvas();\n",
    "tree->Draw(\"type\");\n",
    "c2->Draw();"
   ]
  },
  {
   "cell_type": "code",
   "execution_count": 15,
   "metadata": {},
   "outputs": [
    {
     "data": {
      "image/png": "[encoded data removed]",
      "text/plain": [
       "<IPython.core.display.Image object>"
      ]
     },
     "metadata": {},
     "output_type": "display_data"
    }
   ],
   "source": [
    "TCanvas *c4 = new TCanvas();\n",
    "gStyle->SetOptTitle(kFALSE);\n",
    "gStyle->SetOptStat(0);\n",
    "\n",
    "TH2F *h = new TH2F(\"h\",\"signal\",100,0,70,100,2,3.7);\n",
    "h->SetMarkerStyle(kOpenCircle);\n",
    "tree->Draw(\"cs2:cs1>>h\",\"type==\\\"wimp_0050gev\\\"\");  // this is actually log10(cs2)\n",
    "TH2F *h2 = new TH2F(\"h2\",\"ER bkg\",100,0,70,100,2,3.7);\n",
    "h2->SetMarkerStyle(kFullTriangleUp);\n",
    "tree->Draw(\"cs2:cs1>>h2\",\"type==\\\"hband\\\"\");  // \"hband\" is the unfortunate name of the ER bkg component, but hey that's the name of the histo...\n",
    "h->Draw(\"P\");\n",
    "h2->Draw(\"SAME P\");\n",
    "//gPad->BuildLegend();\n",
    "c4->Draw();"
   ]
  },
  {
   "cell_type": "code",
   "execution_count": null,
   "metadata": {
    "collapsed": true
   },
   "outputs": [],
   "source": []
  }
 ],
 "metadata": {
  "kernelspec": {
   "display_name": "ROOT C++",
   "language": "c++",
   "name": "root"
  },
  "language_info": {
   "codemirror_mode": "text/x-c++src",
   "file_extension": ".C",
   "mimetype": " text/x-c++src",
   "name": "c++"
  }
 },
 "nbformat": 4,
 "nbformat_minor": 2
}
