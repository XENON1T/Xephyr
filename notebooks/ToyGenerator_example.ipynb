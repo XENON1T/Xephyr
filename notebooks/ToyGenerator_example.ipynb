{
 "cells": [
  {
   "cell_type": "markdown",
   "metadata": {},
   "source": [
    "# Tutorial on Toy Generation  to be used for limit production"
   ]
  },
  {
   "cell_type": "markdown",
   "metadata": {},
   "source": [
    "#### Some intro here...  //FIXME TODO"
   ]
  },
  {
   "cell_type": "markdown",
   "metadata": {},
   "source": [
    "First of all I suggest you to produce a single compilable macro that contains the likelihood you want to use, you can find in other tutorial how to define the likelihood [here](https://xenon1t.github.io/Xephyr/docs/tutorials.html). The idea of this macro is to define a function that you can use to retrieve the likelihood, so that you have it defined in one place only. You can get inspiration on how to write this function from [here](https://github.com/XENON1T/SR1Results/blob/master/StatisticalAnalyses/xephyr_sr1_likelihood/src/likelihoodDef.cxx)"
   ]
  },
  {
   "cell_type": "code",
   "execution_count": 1,
   "metadata": {},
   "outputs": [
    {
     "name": "stderr",
     "output_type": "stream",
     "text": [
      "Info in <TUnixSystem::ACLiC>: creating shared library /home/pan/work/XEPHYR_PKG/Xephyr/notebooks/./../src/ToyGenerator_cxx.so\n"
     ]
    },
    {
     "name": "stdout",
     "output_type": "stream",
     "text": [
      "(int) 0\n"
     ]
    }
   ],
   "source": [
    ".x loadXephyr.C"
   ]
  },
  {
   "cell_type": "code",
   "execution_count": 2,
   "metadata": {
    "collapsed": true
   },
   "outputs": [],
   "source": [
    "// add path to include files to ROOT (in the file I'm going to load there are some Xephyr includes) \n",
    "gInterpreter->AddIncludePath(\"../src\");  // in this case is just XEPHYR src from next dir.\n",
    "\n",
    "// now load the function to retrieve the likelihood"
   ]
  },
  {
   "cell_type": "code",
   "execution_count": 3,
   "metadata": {
    "collapsed": true
   },
   "outputs": [],
   "source": [
    ".L ../../SR1/StatisticalAnalyses/xephyr_sr1_likelihood/src/likelihoodDef.cxx"
   ]
  },
  {
   "cell_type": "code",
   "execution_count": 4,
   "metadata": {
    "scrolled": true
   },
   "outputs": [
    {
     "name": "stdout",
     "output_type": "stream",
     "text": [
      "pdfLikelihood - INFO: bkg component named hband added to    SAFEGUARDED\n",
      "pdfLikelihood::initialize - INFO :  initialize..... \n",
      "\tLikelihood::addParameter - Info : Adding parameter Sigma  with ID -1  to PL xe1T\n",
      "INFO :  adding sys for BKG component hband\n",
      "\tLikelihood::addParameter - Info : Adding parameter ERscale  with ID 1  to PL xe1T\n",
      "\tLikelihood::addParameter - Info : Adding parameter _PY  with ID 2  to PL xe1T\n",
      "\tLikelihood::addParameter - Info : Adding parameter _RF  with ID 3  to PL xe1T\n",
      "INFO :  adding sys for SIGNAL component wimp_0050gev\n",
      "\tLikelihood::addParameter - Info : Adding parameter _gamma_  with ID 4  to PL xe1T\n",
      "\tLikelihood::addParameter - Info : Adding parameter _alpha_  with ID 5  to PL xe1T\n",
      "\tLikelihood::addParameter - Info : Adding parameter _eta_  with ID 6  to PL xe1T\n",
      "\tLikelihood::addParameter - Info : Adding parameter _acceptance_par_  with ID 7  to PL xe1T\n",
      "\n",
      "------ WARNING -------  Safeguard is turned OFF altough you have set components to be safeguarded this is ignored -----\n",
      "\n",
      "pdfLikelihood::initialize - INFO :  initialization SUCCESSFUL. \n"
     ]
    }
   ],
   "source": [
    "pdfLikelihood likeHood = getTheLikelihood(50.);  // 50. GeV mass"
   ]
  },
  {
   "cell_type": "code",
   "execution_count": 5,
   "metadata": {
    "collapsed": true
   },
   "outputs": [],
   "source": [
    "TString treeName = \"treeName\";\n",
    "TString pathOfFile = \"./\";\n",
    "ToyGenerator toy(treeName,pathOfFile);  // (string 'name', string 'out dir')"
   ]
  },
  {
   "cell_type": "code",
   "execution_count": 6,
   "metadata": {
    "collapsed": true
   },
   "outputs": [],
   "source": [
    "toy.setLikelihood(&likeHood);"
   ]
  },
  {
   "cell_type": "code",
   "execution_count": 7,
   "metadata": {
    "collapsed": true
   },
   "outputs": [],
   "source": [
    "toy.setSeed(127);    // you should change the seed as a function of wimp mass and injected signal strenght"
   ]
  },
  {
   "cell_type": "code",
   "execution_count": 8,
   "metadata": {},
   "outputs": [
    {
     "name": "stdout",
     "output_type": "stream",
     "text": [
      "ToyGenerator::randomizeNuissanceParameter - INFO : Randomizing parameters:\n",
      "ToyGenerator:: - INFO : Skipping paramater: Sigma\n",
      "ToyGenerator:: - WARNING : Following parameter is FREE and will be extracted from uniform distro. ERscale\n",
      "ToyGenerator:: - INFO : Skipping paramater: _gamma_\n",
      "ToyGenerator:: - INFO : Skipping paramater: _eta_\n",
      " Id Name                 Type         Current Value               Uncertainty\n",
      " -1 Sigma                Of interest        0                 \n",
      "  1 ERscale              Free            0.24                 \n",
      "  2 _PY                  Nuisance           1                 \n",
      "  3 _RF                  Nuisance        -1.3                 \n",
      "  4 _gamma_              Fixed              0                 \n",
      "  5 _alpha_              Nuisance       -0.68                 \n",
      "  6 _eta_                Fixed              0                 \n",
      "  7 _acceptance_par_     Nuisance        0.38                 \n"
     ]
    }
   ],
   "source": [
    "toy.randomizeNuissanceParameter();"
   ]
  },
  {
   "cell_type": "markdown",
   "metadata": {},
   "source": [
    "#### now we generate data:\n",
    "ToyGenerator::generateData(double mu, int N) ---> mu = signal multiplier,  N = number of datasets"
   ]
  },
  {
   "cell_type": "code",
   "execution_count": 9,
   "metadata": {},
   "outputs": [
    {
     "name": "stdout",
     "output_type": "stream",
     "text": [
      "ToyGenerator::randomizeNuissanceParameter - INFO : Randomizing parameters:\n",
      "ToyGenerator:: - INFO : Skipping paramater: Sigma\n",
      "ToyGenerator:: - WARNING : Following parameter is FREE and will be extracted from uniform distro. ERscale\n",
      "ToyGenerator:: - INFO : Skipping paramater: _gamma_\n",
      "ToyGenerator:: - INFO : Skipping paramater: _eta_\n",
      " Id Name                 Type         Current Value               Uncertainty\n",
      " -1 Sigma                Of interest        0                 \n",
      "  1 ERscale              Free             2.7                 \n",
      "  2 _PY                  Nuisance        0.95                 \n",
      "  3 _RF                  Nuisance       -0.85                 \n",
      "  4 _gamma_              Fixed              0                 \n",
      "  5 _alpha_              Nuisance       -0.12                 \n",
      "  6 _eta_                Fixed              0                 \n",
      "  7 _acceptance_par_     Nuisance       -0.51                 \n"
     ]
    }
   ],
   "source": [
    "toy.generateData(5,10);           // generated science data: generateData(double mu, int N, bool randomizeNP = true);\n",
    "\n",
    "toy.setAverageCalibrationEvents(10000);\n",
    "//toy.generateCalibration(10);      // generate calibration data: generateCalibration(int N, bool randomizeNP = true);"
   ]
  },
  {
   "cell_type": "markdown",
   "metadata": {},
   "source": [
    "### Let's have a look at what we've created\n",
    "In the specified directory you'll get a file named with your specified \"TreeName\" with N trees inside.\n",
    "Each tree contains a TList of the parameter values that have been extracted and considered as the truth for that toy dataset and can be accessed with TTree::GetUserInfo() method.\n",
    "\n",
    "The Trees contain 3 branches: cs1, cs2 and type. Type is a string that define the type of the specific event, and reports the name of the histogram from which has been extracted."
   ]
  },
  {
   "cell_type": "code",
   "execution_count": 10,
   "metadata": {},
   "outputs": [
    {
     "name": "stdout",
     "output_type": "stream",
     "text": [
      "TFile**\t\t./treeName.root\t\n",
      " TFile*\t\t./treeName.root\t\n",
      "  KEY: TTree\ttreeName0;1\tgenerated toy data\n",
      "  KEY: TTree\ttreeName1;1\tgenerated toy data\n",
      "  KEY: TTree\ttreeName2;1\tgenerated toy data\n",
      "  KEY: TTree\ttreeName3;1\tgenerated toy data\n",
      "  KEY: TTree\ttreeName4;1\tgenerated toy data\n",
      "  KEY: TTree\ttreeName5;1\tgenerated toy data\n",
      "  KEY: TTree\ttreeName6;1\tgenerated toy data\n",
      "  KEY: TTree\ttreeName7;1\tgenerated toy data\n",
      "  KEY: TTree\ttreeName8;1\tgenerated toy data\n",
      "  KEY: TTree\ttreeName9;1\tgenerated toy data\n"
     ]
    }
   ],
   "source": [
    "TFile *file = TFile::Open(pathOfFile + treeName + \".root\");  // science data\n",
    "//TFile *file = TFile::Open(pathOfFile + treeName + \"_Cal.root\");  // calibration data\n",
    "file->ls();"
   ]
  },
  {
   "cell_type": "code",
   "execution_count": 11,
   "metadata": {
    "collapsed": true
   },
   "outputs": [],
   "source": [
    "TTree *tree = (TTree*)file->Get(treeName+\"1\"); // science data\n",
    "//TTree *tree = (TTree*)file->Get(treeName+\"_Cal1\");  // calibration"
   ]
  },
  {
   "cell_type": "code",
   "execution_count": 12,
   "metadata": {},
   "outputs": [
    {
     "name": "stdout",
     "output_type": "stream",
     "text": [
      "Collection name='UserInfo', class='TList', size=8\n",
      "  TParameter<double>\tSigma = 5\n",
      "  TParameter<double>\tERscale = 2.72791\n",
      "  TParameter<double>\t_PY = 0.949941\n",
      "  TParameter<double>\t_RF = -0.850848\n",
      "  TParameter<double>\t_gamma_ = 0\n",
      "  TParameter<double>\t_alpha_ = -0.11721\n",
      "  TParameter<double>\t_eta_ = 0\n",
      "  TParameter<double>\t_acceptance_par_ = -0.512817\n"
     ]
    }
   ],
   "source": [
    "TList *l = tree->GetUserInfo();  // this is a list stored in TTree\n",
    "l->Print();                      // let's print the params for one tree, they are stored in TParameter class type."
   ]
  },
  {
   "cell_type": "code",
   "execution_count": 13,
   "metadata": {},
   "outputs": [
    {
     "name": "stdout",
     "output_type": "stream",
     "text": [
      "******************************************************************************\n",
      "*Tree    :treeName1 : generated toy data                                     *\n",
      "*Entries :       93 : Total =            4180 bytes  File  Size =       2007 *\n",
      "*        :          : Tree compression factor =   1.61                       *\n",
      "******************************************************************************\n",
      "*Br    0 :cs1       : cs1/F                                                  *\n",
      "*Entries :       93 : Total  Size=        913 bytes  File Size  =        447 *\n",
      "*Baskets :        1 : Basket Size=      32000 bytes  Compression=   1.00     *\n",
      "*............................................................................*\n",
      "*Br    1 :cs2       : cs2/F                                                  *\n",
      "*Entries :       93 : Total  Size=        913 bytes  File Size  =        447 *\n",
      "*Baskets :        1 : Basket Size=      32000 bytes  Compression=   1.00     *\n",
      "*............................................................................*\n",
      "*Br    2 :type      : string                                                 *\n",
      "*Entries :       93 : Total  Size=       1530 bytes  File Size  =        320 *\n",
      "*Baskets :        1 : Basket Size=      32000 bytes  Compression=   3.30     *\n",
      "*............................................................................*\n"
     ]
    }
   ],
   "source": [
    "tree->Print();"
   ]
  },
  {
   "cell_type": "code",
   "execution_count": 14,
   "metadata": {},
   "outputs": [
    {
     "data": {
      "image/png": "[encoded data removed]",
      "text/plain": [
       "<IPython.core.display.Image object>"
      ]
     },
     "metadata": {},
     "output_type": "display_data"
    }
   ],
   "source": [
    "TCanvas *c2 = new TCanvas();\n",
    "tree->Draw(\"type\");\n",
    "c2->Draw();"
   ]
  },
  {
   "cell_type": "code",
   "execution_count": 15,
   "metadata": {},
   "outputs": [
    {
     "data": {
      "image/png": "[encoded data removed]",
      "text/plain": [
       "<IPython.core.display.Image object>"
      ]
     },
     "metadata": {},
     "output_type": "display_data"
    }
   ],
   "source": [
    "TCanvas *c4 = new TCanvas();\n",
    "gStyle->SetOptTitle(kFALSE);\n",
    "gStyle->SetOptStat(0);\n",
    "\n",
    "TH2F *h = new TH2F(\"h\",\"signal\",100,0,70,100,2,3.7);\n",
    "h->SetMarkerStyle(kOpenCircle);\n",
    "tree->Draw(\"cs2:cs1>>h\",\"type==\\\"wimp_0050gev\\\"\");  // this is actually log10(cs2)\n",
    "TH2F *h2 = new TH2F(\"h2\",\"ER bkg\",100,0,70,100,2,3.7);\n",
    "h2->SetMarkerStyle(kFullTriangleUp);\n",
    "tree->Draw(\"cs2:cs1>>h2\",\"type==\\\"hband\\\"\");  // \"hband\" is the unfortunate name of the ER bkg component, but hey that's the name of the histo...\n",
    "h->Draw(\"P\");\n",
    "h2->Draw(\"SAME P\");\n",
    "//gPad->BuildLegend();\n",
    "c4->Draw();"
   ]
  },
  {
   "cell_type": "code",
   "execution_count": null,
   "metadata": {
    "collapsed": true
   },
   "outputs": [],
   "source": []
  }
 ],
 "metadata": {
  "kernelspec": {
   "display_name": "ROOT C++",
   "language": "c++",
   "name": "root"
  },
  "language_info": {
   "codemirror_mode": "text/x-c++src",
   "file_extension": ".C",
   "mimetype": " text/x-c++src",
   "name": "c++"
  }
 },
 "nbformat": 4,
 "nbformat_minor": 2
}
