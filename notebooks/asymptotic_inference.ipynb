{
 "cells": [
  {
   "cell_type": "markdown",
   "metadata": {},
   "source": [
    "# Load Xephyr"
   ]
  },
  {
   "cell_type": "markdown",
   "metadata": {},
   "source": [
    "As usual first we need to load the Xephyr libraries and any other shared libraries we may want use"
   ]
  },
  {
   "cell_type": "code",
   "execution_count": null,
   "metadata": {},
   "outputs": [],
   "source": [
    "gROOT->ProcessLine(\".x ../loadXephyr.C\");"
   ]
  },
  {
   "cell_type": "markdown",
   "metadata": {},
   "source": [
    "Check that Xephyr was compiled with the ROOT version you are currently running. If not you need to make sure jupyter is running the right kernel. "
   ]
  },
  {
   "cell_type": "code",
   "execution_count": null,
   "metadata": {},
   "outputs": [],
   "source": [
    "cout<<\"Kernel version:  \"<<gROOT->GetVersion();"
   ]
  },
  {
   "cell_type": "markdown",
   "metadata": {},
   "source": [
    "Great, now we can get to work!\n",
    "# Set up the profile likelihood\n",
    "For a more detailed example of setting up the likelihood see the likelihood_setup_example notebook."
   ]
  },
  {
   "cell_type": "markdown",
   "metadata": {},
   "source": [
    "#### Create one or more background components"
   ]
  },
  {
   "cell_type": "markdown",
   "metadata": {},
   "source": [
    "Create a pdfComponent Object as follows:\n",
    "``` cpp\n",
    "    pdfComponent *comp = new pdfComponent(TString component_name, TString histogram_name, TString root_file_path);\n",
    "```\n",
    "\n",
    "\n",
    "The histogram name Xephyr will look for in the file will be the given name then each shape systematic followed by their values in the following format:\n",
    "```bash\n",
    "<hist_name><shape_sys_1_name><shape_sys_1_value><shape_sys_2_name><shape_sys_2_value>...<shape_sys_N_name><shape_sys_N_value>[<optional_suffix>].root\n",
    "```\n",
    "\n",
    "You can add an optional suffix by executing the following line:\n",
    "``` cpp\n",
    "    pdf_component->suffix = \"<suffix>\";\n",
    "```"
   ]
  },
  {
   "cell_type": "markdown",
   "metadata": {},
   "source": [
    "The ER backgorund file we will use for this example contains model histograms with the following naming format:\n",
    "``` bash\n",
    "    hbkg_py0_<py0_value>_rf0_<rf0_value>\n",
    "```\n",
    "\n",
    "First, when creating the pdfComponent, we pass the prefix common to all histogram names as the histogram_name parameter. In this case \"hbkg\""
   ]
  },
  {
   "cell_type": "code",
   "execution_count": null,
   "metadata": {},
   "outputs": [],
   "source": [
    "pdfComponent *ER = new pdfComponent(\"ER\", \"hbkg\", \"./data_examples/ERBackgroundModel_SR1_From_Combined180104Fit.root\");"
   ]
  },
  {
   "cell_type": "markdown",
   "metadata": {},
   "source": [
    "Add a scale systematic by creating a new scaleSys object:\n",
    "```cpp\n",
    "    scaleSys *scale_sys = new scaleSys(TString name, float value);\n",
    "```\n",
    "and set the minimum and maximum values it can take:\n",
    "```cpp\n",
    "    scale_sys->setMinimum(-0.5);\n",
    "    scale_sys->setMaximum(0.5);\n",
    "```\n",
    "as well as its type:\n",
    "```cpp\n",
    "    scale_sys->setType(FREE_PARAMETER);\n",
    "```\n",
    "the type can be one of the following\n",
    "```bash\n",
    "    PARAMETER_OF_INTEREST , NUISANCE_PARAMETER , FIXED_PARAMETER , FROZEN_PARAMETER\n",
    "```\n",
    "\n",
    "finally you can set the value of any parameter by just calling:\n",
    "```cpp\n",
    "parameter_pointer->setCurrentValue( double some_value)\n",
    "```\n"
   ]
  },
  {
   "cell_type": "code",
   "execution_count": null,
   "metadata": {},
   "outputs": [],
   "source": [
    "scaleSys *s1 = new scaleSys(\"ERscale\",1.);\n",
    "s1->setMinimum(-0.5);\n",
    "s1->setMaximum(0.5);\n",
    "s1->setType(FREE_PARAMETER);"
   ]
  },
  {
   "cell_type": "markdown",
   "metadata": {},
   "source": [
    "Then add the scale systematic to the model using the addScaleSys method.\n",
    "```cpp\n",
    "    pdf_component->addScaleSys(scaleSys scale_sys);\n",
    "```"
   ]
  },
  {
   "cell_type": "code",
   "execution_count": null,
   "metadata": {},
   "outputs": [],
   "source": [
    "ER->addScaleSys(s1);"
   ]
  },
  {
   "cell_type": "markdown",
   "metadata": {},
   "source": [
    "Add shape uncertainty parameters by creating a shapeSys object for each uncertainty as follows:\n",
    "```cpp\n",
    "    shapeSys *shape_sys = new shapeSys(TString parameter_name);\n",
    "```\n",
    "<span style=\"color:red;font-weight:bold\">IMPORTANT</span>   parameter_name must match the name used in the histogram keys in the file being used.\n",
    "\n",
    "\n",
    "Then set the minimum, maximum and step between values the file has histograms for:\n",
    "```cpp\n",
    "    shape_sys->setMinimum(float parameter_min);\n",
    "    shape_sys->setMaximum(float parameter_max);\n",
    "    shape_sys->setStep(float parameter_step);  \n",
    "```"
   ]
  },
  {
   "cell_type": "code",
   "execution_count": null,
   "metadata": {},
   "outputs": [],
   "source": [
    "shapeSys *PY = new shapeSys(\"_py0_\");\n",
    "PY->setStep(1.);        \n",
    "PY->setMinimum(-1.);\n",
    "PY->setMaximum(1.);\n",
    "PY->setType(FREE_PARAMETER);\n",
    "\n",
    "shapeSys *RF = new shapeSys(\"_rf0_\");\n",
    "RF->setStep(1.);                     \n",
    "RF->setMinimum(-2.);\n",
    "RF->setMaximum(2.);\n",
    "RF->setType(FREE_PARAMETER);\n"
   ]
  },
  {
   "cell_type": "markdown",
   "metadata": {},
   "source": [
    "And finally add the uncertainties in the order their parameter appears in the histogram names using the addShapeSys method:\n",
    "```cpp\n",
    "    pdf_component->addShapeSys(shape_sys);\n",
    "```"
   ]
  },
  {
   "cell_type": "code",
   "execution_count": null,
   "metadata": {},
   "outputs": [],
   "source": [
    "ER->addShapeSys(PY);\n",
    "ER->addShapeSys(RF);"
   ]
  },
  {
   "cell_type": "code",
   "execution_count": null,
   "metadata": {},
   "outputs": [],
   "source": [
    "ER->setEvents(60);  // my best guess for ER events, this will scale the histo to that number of events, no matter what."
   ]
  },
  {
   "cell_type": "markdown",
   "metadata": {},
   "source": [
    "#### Add the signal component"
   ]
  },
  {
   "cell_type": "markdown",
   "metadata": {},
   "source": [
    "The signal file we will use for this example has no shape uncertainty."
   ]
  },
  {
   "cell_type": "code",
   "execution_count": null,
   "metadata": {},
   "outputs": [],
   "source": [
    "pdfComponent *Signal = new pdfComponent( \"SIGNAL\" , \"signal_rescaled\", \"../examples/SR1Like/data/SignalModel_SR1_50GeV_FromRunSourceCombinedFit180420.root\");"
   ]
  },
  {
   "cell_type": "code",
   "execution_count": null,
   "metadata": {},
   "outputs": [],
   "source": []
  },
  {
   "cell_type": "code",
   "execution_count": null,
   "metadata": {},
   "outputs": [],
   "source": [
    "// this is a method that allows you to scale any pdfComponent to an arbitrary exposure (here set to dummy 1)\n",
    "// Remember: the histograms are in number of events\n",
    "Signal->setScaleFactor(1.);  "
   ]
  },
  {
   "cell_type": "code",
   "execution_count": null,
   "metadata": {},
   "outputs": [],
   "source": []
  },
  {
   "cell_type": "code",
   "execution_count": null,
   "metadata": {},
   "outputs": [],
   "source": [
    "scaleSys *s2 = new scaleSys(\"SignalScale\", 0.3);  // 30% relative scale uncertainty on signal\n",
    "Signal->addScaleSys(s2);\n"
   ]
  },
  {
   "cell_type": "markdown",
   "metadata": {},
   "source": [
    "#### Add the data:"
   ]
  },
  {
   "cell_type": "code",
   "execution_count": null,
   "metadata": {},
   "outputs": [],
   "source": [
    "dataHandler *data = new dataHandler(\"data_sr0\",\"./data_examples/xephyr_data_none_lowenergy_roi.root\", \"DMtree\");\n",
    "\n",
    "// Note: in this example we compare SR0 data to SR1 models (just because), that's why the fit might be horrific, \n",
    "// don't do it at home ;)"
   ]
  },
  {
   "cell_type": "markdown",
   "metadata": {},
   "source": [
    "Now we can set up a likelihood object as follows:\n",
    "\n",
    "   ```cpp\n",
    "    pdfLikelihood *pl = new pdfLikelihood(TString likelihood_Name, double  wimp_mass);\n",
    "```\n"
   ]
  },
  {
   "cell_type": "code",
   "execution_count": null,
   "metadata": {},
   "outputs": [],
   "source": [
    "pdfLikelihood *pl = new pdfLikelihood(\"simple_pl\", 100);"
   ]
  },
  {
   "cell_type": "markdown",
   "metadata": {},
   "source": [
    "Then add the pdf components we created (signal and background) to it"
   ]
  },
  {
   "cell_type": "code",
   "execution_count": null,
   "metadata": {},
   "outputs": [],
   "source": [
    "pl->setExperiment(1);  // Set the experiment number (useful in case you want to combine multiple experiments)\n",
    "\n",
    "pl->addBkgPdfComponent(ER, true); // Add the background components, \n",
    "                                  // the argument true or false mean if this bkg is considered in the safeguard fit or not\n",
    "\n",
    "// pl->addBkgPdfComponent(Another component, false); // you can add as many component background component you like\n",
    "\n",
    "pl->setSignalPdf(Signal); // Add a signal component\n",
    "\n",
    "pl->setDataHandler(data); // Add the data handler we created.\n",
    "\n",
    "pl->setSignalDefaultNorm(1.E-45); // Set the cross section normalization that corresponds to the default signal model.\n",
    "\n",
    "pl->setWithSafeGuard(false); // Enable/Disable safeguard\n"
   ]
  },
  {
   "cell_type": "code",
   "execution_count": null,
   "metadata": {},
   "outputs": [],
   "source": []
  },
  {
   "cell_type": "markdown",
   "metadata": {},
   "source": [
    "And finally, before we start to work with the likelihood we need to initialzie it."
   ]
  },
  {
   "cell_type": "code",
   "execution_count": null,
   "metadata": {},
   "outputs": [],
   "source": [
    "pl->initialize()"
   ]
  },
  {
   "cell_type": "markdown",
   "metadata": {},
   "source": [
    "<span style=\"color:red;font-weight:bold\">IMPORTANT</span>  \n",
    "Always initialize the likelihood before use. Go over the output and check that no errors occured and models were defined correctly and all model histograms were found.\n",
    "\n",
    "It is also useful at this point to print the event summary and check that the data has been imported correctly."
   ]
  },
  {
   "cell_type": "code",
   "execution_count": null,
   "metadata": {},
   "outputs": [],
   "source": [
    "pl->printEventSummary();"
   ]
  },
  {
   "cell_type": "markdown",
   "metadata": {},
   "source": [
    "# Maximize the likelihood\n",
    "This will scan the parameter $\\mu$ to find the one that maximizes the likelihood, for each value of $\\mu$ all the uncertainty variables are simultaneously fit.\n",
    "\n",
    "```cpp\n",
    "// the boolean argument tells if you want to make the fit with mu fixed to some predefined values\n",
    "pl->maximize( bool fixPOI)   \n",
    "```"
   ]
  },
  {
   "cell_type": "code",
   "execution_count": null,
   "metadata": {},
   "outputs": [],
   "source": [
    "pl->printCurrentParameters();"
   ]
  },
  {
   "cell_type": "code",
   "execution_count": null,
   "metadata": {},
   "outputs": [],
   "source": [
    "pl->maximize(false)"
   ]
  },
  {
   "cell_type": "code",
   "execution_count": null,
   "metadata": {},
   "outputs": [],
   "source": [
    "pl->printCurrentParameters(); "
   ]
  },
  {
   "cell_type": "markdown",
   "metadata": {},
   "source": [
    "You may notice that Sigma (the POI) has best fit at 3, now, no matter how you scale the histogram or rescale the signal PDF, the POI is always in absolute number of signal events (Xephyr re-scales it for you and keep track of the scale).\n",
    "So this means 3 signal events! Well, here we didn't have any other background than ER."
   ]
  },
  {
   "cell_type": "markdown",
   "metadata": {},
   "source": [
    "What we did above is called unconditional fit, meaning we find the global maximum. To compute the test statistic one need also anothe ingredient which is the **conditional fit**, basically finding the local maxima of all parameter fixing the parameter of interest to some value. Let's do it:\n"
   ]
  },
  {
   "cell_type": "code",
   "execution_count": null,
   "metadata": {},
   "outputs": [],
   "source": [
    "// Get a pointer to the parameter of interest (POI) and change its value \n",
    "pl->getPOI()->setCurrentValue(5.);\n",
    "\n",
    "// fit again, this time with conditional fit\n",
    "pl->maximize(true);   // notice is true now !!!\n",
    "\n",
    "// Also note below how the SignalScale paramter now assumes a negative value, \n",
    "// trying to compensate for the fixed large signal"
   ]
  },
  {
   "cell_type": "markdown",
   "metadata": {},
   "source": [
    "# Draw the likelihood curve\n",
    "The likelihood curve contain much information and it is highly recomended to plot it when doing sanity checks on results. Use the getGraphOfLogLikelihood method to calculate the likelihood on a span of cross sections:\n",
    "\n",
    "```cpp\n",
    "    TGraph *tgraph = profileLikelihood->getGraphOfLogLikelihood(int number_of_points);\n",
    "```\n",
    "\n",
    "<span style=\"color:orange;font-weight:bold\">WARNING</span>   This can take some time to calculate.\n"
   ]
  },
  {
   "cell_type": "code",
   "execution_count": null,
   "metadata": {},
   "outputs": [],
   "source": [
    "pl->getPOI()->setMinimum(0.);"
   ]
  },
  {
   "cell_type": "code",
   "execution_count": null,
   "metadata": {},
   "outputs": [],
   "source": [
    "pl->getPOI()->setMaximum(15.);"
   ]
  },
  {
   "cell_type": "code",
   "execution_count": null,
   "metadata": {},
   "outputs": [],
   "source": [
    "TGraph *pl_graph = pl->getGraphOfLogLikelihood(50);"
   ]
  },
  {
   "cell_type": "code",
   "execution_count": null,
   "metadata": {},
   "outputs": [],
   "source": [
    "TCanvas *pl_canvas = new TCanvas();"
   ]
  },
  {
   "cell_type": "code",
   "execution_count": null,
   "metadata": {},
   "outputs": [],
   "source": [
    "pl_graph->Draw();\n",
    "pl_canvas->Draw();"
   ]
  },
  {
   "cell_type": "markdown",
   "metadata": {},
   "source": [
    "# Set asymptotic limits\n",
    "Given a required confidence level $\\alpha$, it is possible to construct an estimator that will be larger than the parameter of interest in $1-\\alpha$ fraction of similar experiments. Using asymptotic formulae this is easy since the distribution of the test statistic is known. The class offers all the tools needed for setting such a limit for any confidence level. To set limits we will create a new object of this class and pass our likelihood and confidence level to its constructor.\n",
    "```cpp\n",
    "    asym_exclusion = new AsymptoticExclusion(ProfileLikelihood likelihood, float alpha);\n",
    "```\n"
   ]
  },
  {
   "cell_type": "code",
   "execution_count": null,
   "metadata": {},
   "outputs": [],
   "source": [
    "as = new AsymptoticExclusion(pl, 0.1);   // 0.1  --> means 90% CLs\n",
    "  "
   ]
  },
  {
   "cell_type": "markdown",
   "metadata": {},
   "source": [
    "Next we can set the number of points to scan when computing the limit and the min/max value of $\\mu$ to test."
   ]
  },
  {
   "cell_type": "code",
   "execution_count": null,
   "metadata": {},
   "outputs": [],
   "source": [
    "as->setNscanPoints(100);   // set the number of scan points for limit computation, the pvalues are computed in steps of the parameter of interest untill the CL is reached.\n",
    "as->setScanMax(30.);    // Set the range of the scan (default 3 sigma from expected sensitivity)\n",
    "as->setScanMin(0.);      // Set the range of the scan (default 0.) "
   ]
  },
  {
   "cell_type": "markdown",
   "metadata": {},
   "source": [
    "It is also possible to use the alternative test statistic $\\tilde{q}$ defined in Eilams paper [here](https://arxiv.org/abs/1007.1727)"
   ]
  },
  {
   "cell_type": "code",
   "execution_count": null,
   "metadata": {},
   "outputs": [],
   "source": [
    "as->setQTilde(true);"
   ]
  },
  {
   "cell_type": "markdown",
   "metadata": {},
   "source": [
    "Next we compute the sensitivity. This calculates the values of interest at the mean of the likelihood ratio."
   ]
  },
  {
   "cell_type": "code",
   "execution_count": null,
   "metadata": {},
   "outputs": [],
   "source": [
    "as->computeSensitivity();"
   ]
  },
  {
   "cell_type": "markdown",
   "metadata": {},
   "source": [
    "Finally we calculate limits. This will calculate values of interest at the percentile you selected when creating the AsymptoticExclusion object for the likelihood."
   ]
  },
  {
   "cell_type": "code",
   "execution_count": null,
   "metadata": {},
   "outputs": [],
   "source": [
    "as->computeLimits();"
   ]
  },
  {
   "cell_type": "markdown",
   "metadata": {},
   "source": [
    "Congradulations! You have a number.\n",
    "\n",
    "Now you just have to figure out whether you trust that number or not... \n"
   ]
  },
  {
   "cell_type": "markdown",
   "metadata": {},
   "source": [
    "# Estimate significance\n",
    "When working in discovary mode rather than setting a limit we are interested in estimating the significance of a result. Here we will estimate the P-value for getting our result under the backround only hypothesis."
   ]
  },
  {
   "cell_type": "markdown",
   "metadata": {},
   "source": [
    "First get the value of the likelihood ratio for the background only hypothesis ($\\mu=0$) which we will call $q_{0}$."
   ]
  },
  {
   "cell_type": "code",
   "execution_count": null,
   "metadata": {},
   "outputs": [],
   "source": [
    "double q0 =  pl_graph->Eval(0.)"
   ]
  },
  {
   "cell_type": "markdown",
   "metadata": {},
   "source": [
    "Then estimate the best fit value of the parameter of interest sigma where the likelihood is maximum. The maximum likelihood corresponds to a likelihood ratio of 1, therfore Q (log likelihood ratio) is zero at the point we are interested in."
   ]
  },
  {
   "cell_type": "code",
   "execution_count": null,
   "metadata": {},
   "outputs": [],
   "source": [
    "double sigma_min = pl->getSigmaAtQval(0.);"
   ]
  },
  {
   "cell_type": "markdown",
   "metadata": {},
   "source": [
    "According to the asymptotic formula, $Z_{0} = \\sqrt{q_{0}}$ where $Z_{0}$ follows the CDF of the normal distribution. So we simply need to lookup $Z_{0}$ in a normal distribution table to find the P-value. The AsymptoticExclusion class provides a utility method to calculate this value for you."
   ]
  },
  {
   "cell_type": "code",
   "execution_count": null,
   "metadata": {},
   "outputs": [],
   "source": [
    "double pval = as->compute_pval_b(q0, 0., sigma_min);\n",
    "cout<<\"P-value: \\n\"<<pval<<endl;"
   ]
  },
  {
   "cell_type": "markdown",
   "metadata": {},
   "source": [
    "# Inspect the models\n",
    "The profiled likelihood ratio used in Xephyr is a frequentist approach to statistical inference, this has strong implications regarding how model uncertainties are handled. All model parameters with uncertainties are fit to the data before we perform inference, meaning only their optimal (maximum likelihood) values are used. For this reason it can be informative to plot the models with their best-fit values together with the data (measurements)."
   ]
  },
  {
   "cell_type": "markdown",
   "metadata": {},
   "source": [
    "To get a background model by name use the profileLikelihood::getBkgComponent method and pass it the name of pdfComponent name.\n",
    "```cpp\n",
    "    pdfComponent *bkg_comp = likelihood->getBkgComponent(TString component_name);\n",
    "```\n",
    "\n",
    "Alternativly you can get the entire list of background components with the profileLikelihood::getBkgComponents method as follows:\n",
    "\n",
    "```cpp\n",
    "    vector<pdfComponent> *components = likelihood->getBkgComponents();\n",
    "```\n",
    "    \n",
    "    "
   ]
  },
  {
   "cell_type": "code",
   "execution_count": null,
   "metadata": {},
   "outputs": [],
   "source": [
    "pdfComponent *er = pl->getBkgComponent(\"ER\");"
   ]
  },
  {
   "cell_type": "markdown",
   "metadata": {},
   "source": [
    "The pdfComponent has a method to extract the interpolated histogram at the current values of the uncertainty parameters:\n",
    "\n",
    "```cpp\n",
    "    TH2F bkg_hist = pdf_component->getInterpolatedHisto();\n",
    "```\n"
   ]
  },
  {
   "cell_type": "code",
   "execution_count": null,
   "metadata": {},
   "outputs": [],
   "source": [
    "TH2F er_hist = er->getInterpolatedHisto();"
   ]
  },
  {
   "cell_type": "markdown",
   "metadata": {},
   "source": [
    "You can access the data handler from the public profileLikelihood::data property\n",
    "```cpp\n",
    "    dataHandler *data_handler = pl->data;\n",
    "```"
   ]
  },
  {
   "cell_type": "code",
   "execution_count": null,
   "metadata": {},
   "outputs": [],
   "source": [
    "dataHandler *dm_data = pl->data;"
   ]
  },
  {
   "cell_type": "markdown",
   "metadata": {},
   "source": [
    "Now, lets create a new canvas and draw the models and data."
   ]
  },
  {
   "cell_type": "code",
   "execution_count": null,
   "metadata": {},
   "outputs": [],
   "source": [
    "TCanvas *model_canvas = new TCanvas();"
   ]
  },
  {
   "cell_type": "code",
   "execution_count": null,
   "metadata": {},
   "outputs": [],
   "source": [
    "er_hist.Draw(\"colz\");\n",
    "data->drawS1S2(\"same*\");\n",
    "model_canvas->Draw();"
   ]
  },
  {
   "cell_type": "markdown",
   "metadata": {},
   "source": [
    "Next lets look at the signal model using the public signal_model property of the likelihood\n",
    "```cpp\n",
    "    pdfComponent *signal = likelihood->signal_component;\n",
    "```"
   ]
  },
  {
   "cell_type": "code",
   "execution_count": null,
   "metadata": {},
   "outputs": [],
   "source": [
    "pdfComponent *signal_comp = pl->signal_component;"
   ]
  },
  {
   "cell_type": "markdown",
   "metadata": {},
   "source": [
    "We can then repeat the last steps to inspect the model and data."
   ]
  },
  {
   "cell_type": "code",
   "execution_count": null,
   "metadata": {},
   "outputs": [],
   "source": [
    "TH2F signal_hist = signal_comp->getInterpolatedHisto();"
   ]
  },
  {
   "cell_type": "code",
   "execution_count": null,
   "metadata": {
    "scrolled": false
   },
   "outputs": [],
   "source": [
    "signal_hist.Draw(\"colz\");\n",
    "data->drawS1S2(\"same*\");\n",
    "model_canvas->Draw();"
   ]
  },
  {
   "cell_type": "code",
   "execution_count": null,
   "metadata": {},
   "outputs": [],
   "source": []
  },
  {
   "cell_type": "markdown",
   "metadata": {},
   "source": [
    "### Let's now do some more sophisticated plotting"
   ]
  },
  {
   "cell_type": "code",
   "execution_count": null,
   "metadata": {},
   "outputs": [],
   "source": [
    "TCanvas *compare_canvas = new TCanvas();"
   ]
  },
  {
   "cell_type": "code",
   "execution_count": null,
   "metadata": {},
   "outputs": [],
   "source": [
    "// class example to compare histograms in slices of S1 or S2\n",
    "p = pl->getModelCompare();\n",
    "//p.setNameofComponent(1,\"flat\");\n",
    "//p.setNameofComponent(1,\"AC\");\n",
    "p.setNameofComponent(1,\"ER\");\n",
    "p.setNameofComponent(2,\"WIMP 100 GeV\");\n",
    "p.rebinY = 1;        // Rebin\n",
    "p.rebinX = 3;\n",
    "p.doStack = true;    // put them on top of each other\n",
    "p.titleY=\"Entries/[PE]\";\n",
    "p.titleX=\"cS2 [PE]\";\n",
    "p.projectionMin = 1.8;  // min in log(cs2) slice\n",
    "p.projectionMax = 3.8;  // max in log(cs2) slice \n",
    "p.projectionX = true;      // Project on Xaxis the 2D histogram\n",
    "//p.compareWithRatio();\n",
    "p.compare();\n",
    "\n",
    "compare_canvas->Draw();"
   ]
  },
  {
   "cell_type": "code",
   "execution_count": null,
   "metadata": {},
   "outputs": [],
   "source": []
  },
  {
   "cell_type": "markdown",
   "metadata": {},
   "source": [
    "Congradulations! You are now a Xephyrian!"
   ]
  },
  {
   "cell_type": "code",
   "execution_count": null,
   "metadata": {},
   "outputs": [],
   "source": []
  }
 ],
 "metadata": {
  "kernelspec": {
   "display_name": "ROOT C++ (Python 3)",
   "language": "c++",
   "name": "python3-jupyroot"
  },
  "language_info": {
   "codemirror_mode": "text/x-c++src",
   "file_extension": ".C",
   "mimetype": " text/x-c++src",
   "name": "c++"
  }
 },
 "nbformat": 4,
 "nbformat_minor": 2
}
