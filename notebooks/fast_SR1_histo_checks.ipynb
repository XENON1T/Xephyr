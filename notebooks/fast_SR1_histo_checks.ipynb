{
 "cells": [
  {
   "cell_type": "markdown",
   "metadata": {},
   "source": [
    "# Xephyr library is loaded and you can use all classes and methods"
   ]
  },
  {
   "cell_type": "code",
   "execution_count": 1,
   "metadata": {
    "scrolled": false
   },
   "outputs": [
    {
     "name": "stdout",
     "output_type": "stream",
     "text": [
      "(int) 0\n"
     ]
    }
   ],
   "source": [
    ".x loadXephyr.C"
   ]
  },
  {
   "cell_type": "code",
   "execution_count": 2,
   "metadata": {
    "collapsed": true,
    "scrolled": true
   },
   "outputs": [],
   "source": [
    "errorHandler::globalPrintLevel = 1;  // print level 3 = Error only , 2 = Warning,  1= Info, 0 = Debug"
   ]
  },
  {
   "cell_type": "code",
   "execution_count": 3,
   "metadata": {
    "collapsed": true
   },
   "outputs": [],
   "source": [
    "// add path to include files to ROOT (in the file I'm going to load there are some Xephyr includes) \n",
    "gInterpreter->AddIncludePath(\"../src\");  // in this case is just XEPHYR src from next dir."
   ]
  },
  {
   "cell_type": "code",
   "execution_count": null,
   "metadata": {
    "collapsed": true
   },
   "outputs": [],
   "source": [
    ".L ../../SR1/StatisticalAnalyses/xephyr_sr1_likelihood/src/likelihoodDef.cxx"
   ]
  },
  {
   "cell_type": "code",
   "execution_count": null,
   "metadata": {},
   "outputs": [],
   "source": [
    "pdfLikelihood likeHood = getTheLikelihood(50.);  // 50. GeV mass"
   ]
  },
  {
   "cell_type": "code",
   "execution_count": null,
   "metadata": {
    "scrolled": true
   },
   "outputs": [],
   "source": [
    "TCanvas *c = new TCanvas();\n",
    "pdfComponent *ER = likeHood.bkg_components[0] ;\n",
    "TH2F h = ER->getInterpolatedHisto();  // ER\n",
    "h.Draw(\"colz\");\n",
    "c->Draw();"
   ]
  },
  {
   "cell_type": "markdown",
   "metadata": {},
   "source": [
    "Now you couold for example change the value of one of the nuissance parameter and get the relative histogram interpolated... Let's do that!"
   ]
  },
  {
   "cell_type": "code",
   "execution_count": null,
   "metadata": {
    "scrolled": true
   },
   "outputs": [],
   "source": [
    "TCanvas *c2 = new TCanvas();\n",
    "//scaleSys* S1 = (ER->myScaleUnc)[0];\n",
    "LKParameter* PY = likeHood.getParameter(2);\n",
    "LKParameter* RF = likeHood.getParameter(3);\n",
    "PY->setCurrentValue(-0.7);               // Setting the value of RF to -1.7 sigma from its standard value (rememer the value will be interpolated)\n",
    "RF->setCurrentValue(0.35);\n",
    "TH2F h2 = ER->getInterpolatedHisto();\n",
    "h2.Draw(\"colz\");\n",
    "c2->Draw();\n"
   ]
  },
  {
   "cell_type": "markdown",
   "metadata": {},
   "source": [
    "##### Now let's add a Signal PdfComponent"
   ]
  },
  {
   "cell_type": "code",
   "execution_count": null,
   "metadata": {
    "collapsed": true,
    "scrolled": true
   },
   "outputs": [],
   "source": [
    "pdfComponent *Signal = likeHood.signal_component;"
   ]
  },
  {
   "cell_type": "markdown",
   "metadata": {},
   "source": [
    "#### And let's draw it, just for fun..."
   ]
  },
  {
   "cell_type": "code",
   "execution_count": null,
   "metadata": {
    "scrolled": true
   },
   "outputs": [],
   "source": [
    "TCanvas *c3 = new TCanvas();\n",
    "TH2F h3 = Signal->getInterpolatedHisto();\n",
    "h3.Draw(\"colz\");\n",
    "c3->Draw();"
   ]
  },
  {
   "cell_type": "markdown",
   "metadata": {},
   "source": [
    "#### Now let's add some data"
   ]
  },
  {
   "cell_type": "code",
   "execution_count": null,
   "metadata": {
    "collapsed": true,
    "scrolled": true
   },
   "outputs": [],
   "source": [
    "dataHandler *data = likeHood.data;"
   ]
  },
  {
   "cell_type": "code",
   "execution_count": null,
   "metadata": {
    "scrolled": true
   },
   "outputs": [],
   "source": [
    "data->drawS1S2(\"same*\");\n",
    "c3->Draw();"
   ]
  },
  {
   "cell_type": "markdown",
   "metadata": {},
   "source": [
    "# Now it's time for some likelihood game"
   ]
  },
  {
   "cell_type": "code",
   "execution_count": null,
   "metadata": {
    "scrolled": true
   },
   "outputs": [],
   "source": [
    "//pl.maximize(false);             \n",
    "\n",
    "likeHood.POI->setCurrentValue(2.);\n",
    "likeHood.printCurrentParameters(); \n",
    "//pl.printInitialParameters();"
   ]
  },
  {
   "cell_type": "code",
   "execution_count": null,
   "metadata": {
    "scrolled": true
   },
   "outputs": [],
   "source": [
    "// class example to compare histograms\n",
    "histoCompare p = likeHood.getModelCompare();\n",
    "//p.setNameofComponent(1,\"flat\");\n",
    "//p.setNameofComponent(1,\"AC\");\n",
    "p.setNameofComponent(1,\"ER\");\n",
    "p.setNameofComponent(2,\"WIMP 50 GeV\");\n",
    "p.rebinY = 1;\n",
    "p.rebinX = 3;\n",
    "p.doStack = true;\n",
    "p.titleY=\"Entries/[PE]\";\n",
    "p.titleX=\"cS2 [PE]\";\n",
    "p.projectionMin = 3;\n",
    "p.projectionMax = 3.6;\n",
    "p.projectionX = true;\n",
    "//p.compareWithRatio();\n",
    "TCanvas *c4 = new TCanvas();\n",
    "p.compare();\n",
    "\n",
    "c4->Draw();"
   ]
  },
  {
   "cell_type": "code",
   "execution_count": null,
   "metadata": {
    "scrolled": true
   },
   "outputs": [],
   "source": [
    "double qts = likeHood.maximize(false);"
   ]
  },
  {
   "cell_type": "code",
   "execution_count": null,
   "metadata": {},
   "outputs": [],
   "source": [
    "likeHood.POI->setCurrentValue(2.);\n",
    "qts = likeHood.maximize(true);"
   ]
  },
  {
   "cell_type": "code",
   "execution_count": null,
   "metadata": {
    "collapsed": true
   },
   "outputs": [],
   "source": []
  }
 ],
 "metadata": {
  "kernelspec": {
   "display_name": "ROOT C++",
   "language": "c++",
   "name": "root"
  },
  "language_info": {
   "codemirror_mode": "text/x-c++src",
   "file_extension": ".C",
   "mimetype": " text/x-c++src",
   "name": "c++"
  }
 },
 "nbformat": 4,
 "nbformat_minor": 2
}
