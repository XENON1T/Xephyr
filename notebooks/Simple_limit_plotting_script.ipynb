{
 "cells": [
  {
   "cell_type": "markdown",
   "metadata": {},
   "source": [
    "# Simple limit plotting script\n",
    "\n",
    "To run this you need to have the output from a [previous tutorial](https://github.com/XENON1T/Xephyr/blob/master/notebooks/ToyFitter.ipynb) or just redirect the input files to your Xephyr generated limits"
   ]
  },
  {
   "cell_type": "code",
   "execution_count": 1,
   "metadata": {},
   "outputs": [],
   "source": [
    "// Loading some inputs \n",
    "\n",
    "TString xeDir(gSystem->Getenv(\"XEPHYR_DIR\"));   // Xephyr work Directory \n",
    "\n",
    "TFile *f_bands = TFile::Open(xeDir + \"/sensitivity.root\");                 // sensitivity file\n",
    "// TFile *f_obs_limit = TFile::Open(xeDir + \"/limits_test_mu0_V0_Gen1.root\"); // observed limit file, we don't have it ;)\n"
   ]
  },
  {
   "cell_type": "code",
   "execution_count": 2,
   "metadata": {},
   "outputs": [],
   "source": [
    "// retrieving the graphs \n",
    "\n",
    "TGraphAsymmErrors *Exp_limitsS1 = (TGraphAsymmErrors*) f_bands->Get(\"sensitivity_xsec_1s\");\n",
    "TGraphAsymmErrors *Exp_limitsS2 = (TGraphAsymmErrors*) f_bands->Get(\"sensitivity_xsec_2s\");\n",
    "TGraphAsymmErrors* Exp_limits = (TGraphAsymmErrors*)Exp_limitsS1->Clone(\"expectedMedian2\");"
   ]
  },
  {
   "cell_type": "code",
   "execution_count": 3,
   "metadata": {},
   "outputs": [],
   "source": [
    "// Plotting Style\n",
    "\n",
    "TCanvas *c1 = new TCanvas(\"limits\", \"limit\", 600, 600);\n",
    "\n",
    "Exp_limitsS1->SetFillColor(3);\n",
    "Exp_limitsS1->SetLineColor(3);\n",
    "Exp_limitsS1->SetMarkerColor(3);\n",
    "Exp_limitsS1->SetLineWidth(15);\n",
    "Exp_limitsS1->SetMarkerSize(0);\n",
    "\n",
    "Exp_limitsS2->SetFillColor(5);\n",
    "Exp_limitsS2->SetLineColor(5);\n",
    "Exp_limitsS2->SetLineWidth(15);\n",
    "Exp_limitsS2->SetMarkerColor(5);\n",
    "Exp_limitsS2->SetMarkerSize(0);\n",
    "\n",
    "Exp_limits->SetFillColor(0);\n",
    "Exp_limits->SetMarkerStyle(7);\n",
    "Exp_limits->SetMarkerSize(1);\n",
    "Exp_limits->SetLineStyle(4);\n",
    "Exp_limits->SetLineWidth(3);\n"
   ]
  },
  {
   "cell_type": "code",
   "execution_count": 4,
   "metadata": {},
   "outputs": [],
   "source": [
    "// Set axis titles and other\n",
    "\n",
    "Exp_limitsS2->SetTitle(\"\");\n",
    "Exp_limitsS2->GetYaxis()->SetTitle(\"#sigma [cm^{2}]\");\n",
    "\n",
    "Exp_limitsS2->GetXaxis()->SetTitle(\"M  [GeV]\");\n",
    "\n",
    "\n",
    "Exp_limitsS2->GetXaxis()->SetLimits(5.,20000.);\n",
    "Exp_limitsS2->GetYaxis()->SetRangeUser(1E-48,1E-43);\n",
    "\n",
    "Exp_limits->GetXaxis()->SetLimits(5.,20000.);\n",
    "//Exp_limits->GetYaxis()->SetRangeUser(1.,1E+15);\n",
    "Exp_limits->GetYaxis()->SetRangeUser(1E-48,1E-43);"
   ]
  },
  {
   "cell_type": "code",
   "execution_count": 5,
   "metadata": {},
   "outputs": [
    {
     "data": {
      "image/png": "[encoded data removed]",
      "text/plain": [
       "<IPython.core.display.Image object>"
      ]
     },
     "metadata": {},
     "output_type": "display_data"
    }
   ],
   "source": [
    "// Drawing + legend\n",
    "\n",
    "\n",
    "Exp_limitsS2->Draw(\"AP\");\n",
    "Exp_limitsS1->Draw(\"sameP\");\n",
    "Exp_limits->Draw(\"samePX\");\n",
    "\n",
    "\n",
    "TLegend* lego = new TLegend(0.2,0.9,0.5,0.7);\n",
    "  lego->SetTextSize(0.033);\n",
    "  lego->SetFillColor(0);\n",
    "  lego->SetBorderSize(0);\n",
    "  lego->AddEntry(Exp_limits, \"Expected 90\\% CL limit\");\n",
    "  lego->AddEntry(Exp_limitsS1,\"1 #sigma\",\"f\");\n",
    "  lego->AddEntry(Exp_limitsS2,\"2 #sigma\",\"f\");\n",
    "  lego->Draw();\n",
    "\n",
    "\n",
    "gPad->SetLogy();\n",
    "gPad->SetLogx();\n",
    "gPad->RedrawAxis(\"g\");\n",
    "\n",
    "c1->Draw();"
   ]
  },
  {
   "cell_type": "code",
   "execution_count": null,
   "metadata": {},
   "outputs": [],
   "source": []
  }
 ],
 "metadata": {
  "kernelspec": {
   "display_name": "ROOT C++",
   "language": "c++",
   "name": "root"
  },
  "language_info": {
   "codemirror_mode": "text/x-c++src",
   "file_extension": ".C",
   "mimetype": " text/x-c++src",
   "name": "c++"
  }
 },
 "nbformat": 4,
 "nbformat_minor": 2
}
