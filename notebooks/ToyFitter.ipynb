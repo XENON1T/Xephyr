{
 "cells": [
  {
   "cell_type": "markdown",
   "metadata": {},
   "source": [
    "# *TOY FITTER tutorial*"
   ]
  },
  {
   "cell_type": "markdown",
   "metadata": {},
   "source": [
    "# In a nutshell:  Neymann construction with likelihood ratio\n",
    "\n",
    "## Some definitions:\n",
    "- **mu** is our parameter of interest, the signal strenght, it can be considered as equal to the number of signal events. Altough there is a small difference (out of the scope of this tutorial).\n",
    "- **q_mu** is the test statistic, the likelihood ratio. This is a function of the \"tested\" value of **mu**.\n",
    "- **H_mu** is the signal hypothesis with a signal strenght **mu**.\n",
    "- **H_0** is the null hypothesis, background only.\n",
    "\n",
    "## General Idea\n",
    "Porduce limits with the Neymann construction method. Typically this means that one wants to reject the signal hypothesis **H_mu**  in favour of the null, **H_0**. The whole game is then to find the value of **mu** for which the **H_mu** is rejected at 90% CL. To do so one needs the distibution of the test statistic **q_{mu}** under signal hypothesis **H_mu** (assuming that **H_mu** is true).\n",
    "The whole procedure is quite involved, but can be divided in a few points:\n",
    "\n",
    "**Produce the 90% quantiles curve** \n",
    "- Produce several MC toy datasets related to a specific hypothesis **mu**.\n",
    "- **Fit** those datastes, meaning, compute the **q_mu**, testing the same exact **mu** for under which the toys are generated\n",
    "- Now you have many **q_mu** values for a given **mu** test and the related hypothesis. So you have the distro of **q_mu** under the hypothesis **H_mu**. So you can compute the 90% quantile of that distribution **q_mu_90**, or in other words the value of **q_mu** that correspond to a p-value of 10%.\n",
    "- Now you can repeat the procedure for a prefixed set of values of **mu** and obtain a set of **q_mu_90** points.\n",
    "- Interpolate the latter set of points and you'll have a curve describing the evolution of the 90% quantile of the test statistic **q_mu_90** as a function of the tested value of **mu**.\n",
    "- Now you can use that curve to compute the limits.\n",
    "\n",
    "**Compute the limits or the sensitivity**\n",
    "- Given a dataset, that can be real data (for real limit) or toy bkg only data (for sensitivity), one compute the value of **q_mu** for a given **mu**.\n",
    "- Check that value againts the **q_mu_90** curve to find if its p-value is larger than 10%, if yes that **mu** hypothesis is excluded.\n",
    "- Find the value of **mu** for which the likelihood ratio curve **q_mu** intersect the **q_mu_90** curve, that is the limit at 90% CL.\n",
    "- If you are computing the real limmit then you are done, if you are computing sensitivity then repeat these last 2 points for many toy datasets untill you'll get the distribution of limits under the **H_0**. Find the median and 1-2sigma of that distro."
   ]
  },
  {
   "cell_type": "markdown",
   "metadata": {},
   "source": [
    "# 1) The focus of this tutorial:\n",
    "\n",
    "If you came here first, you probably want to start from the tutorial on [generation of toys](https://github.com/XENON1T/Xephyr/blob/master/notebooks/ToyGenerator_example.ipynb) instead. \n",
    "\n",
    "We want to produce the \"alternate hypothesis\" test statistic distributions: **f(q_mu | H_mu)**, where: \n",
    "- mu is the parameter of interest\n",
    "- q_mu is the test statistic coputed for a value mu_test\n",
    "So that reads: the distro of the test statistic for mu_test = mu_true given that the true hipothesis for mu is mu = mu_true (so given data distributed with mu = mu_true).\n",
    "\n",
    "We compute  f(q_mu | H_mu) for many mu_test = mu_true values and extract their 90% quantile.\n",
    "\n",
    "We compute a TGraph of those quantile that we can evaluate at each point.\n",
    "\n",
    "To get the sensitivity we compute the limit of a set of toys for the hypothesis H_0 (no signal). This means we find for each of them the value of mu_test that gives **q_mu_H0 = 90_quantile( f(q_mu-test | H_mu-test) )**\n"
   ]
  },
  {
   "cell_type": "markdown",
   "metadata": {},
   "source": [
    "## 2) The Setup:\n",
    "First of all I suggest you to produce a single compilable macro that contains the likelihood you want to use, you can find in other tutorial how to define the likelihood [here](https://xenon1t.github.io/Xephyr/docs/tutorials.html). The idea of this macro is to define a function that you can use to retrieve the likelihood, so that you have it defined in one place only. You can get inspiration on how to write this function from [here](https://github.com/XENON1T/Xephyr/blob/master/examples/SR1Like/src/likelihoodDef.cxx).\n",
    "\n",
    "This tutorial depends on the Models of SR1 repository and on the likelihood definition and data stored in a xephyr example,  so you need to download the SR1 repository **WARNING::Huge file!**.\n",
    "\n",
    "```bash\n",
    "cd XEPHYR_DIR\n",
    "git clone git@github.com:XENON1T/SR1Results.git SR1  # SR1 official repository\n",
    "\n",
    "source Xephyr/pacman/installExample.sh  SR1Like      # Install Xephyr example in local dir\n",
    "```"
   ]
  },
  {
   "cell_type": "code",
   "execution_count": 1,
   "metadata": {
    "scrolled": false
   },
   "outputs": [
    {
     "name": "stdout",
     "output_type": "stream",
     "text": [
      "\n",
      "\n",
      "      =================== Welcome to Xephyr =====================\n",
      "       Version 6.0 dated 10-Oct-2017, compiled with ROOT 6.14/00\n",
      "      ===========================================================\n",
      "\n",
      "(int) 0\n"
     ]
    }
   ],
   "source": [
    ".x ../loadXephyr.C"
   ]
  },
  {
   "cell_type": "code",
   "execution_count": 2,
   "metadata": {
    "scrolled": true
   },
   "outputs": [],
   "source": [
    " TString xeDir(gSystem->Getenv(\"XEPHYR_DIR\"));   // Xephyr work Directory "
   ]
  },
  {
   "cell_type": "code",
   "execution_count": 3,
   "metadata": {
    "scrolled": true
   },
   "outputs": [],
   "source": [
    "// add path to include files to ROOT (in the file I'm going to load there are some Xephyr includes) \n",
    "gInterpreter->AddIncludePath(xeDir + \"Xephyr/src\");  // in this case is just XEPHYR src from next dir."
   ]
  },
  {
   "cell_type": "markdown",
   "metadata": {},
   "source": [
    "###### now load the function to retrieve the likelihood"
   ]
  },
  {
   "cell_type": "code",
   "execution_count": 4,
   "metadata": {
    "scrolled": true
   },
   "outputs": [],
   "source": [
    "gROOT->ProcessLine(\".L  \" + xeDir +\"xephyr_examples/SR1Like/src/likelihoodDef.cxx\");"
   ]
  },
  {
   "cell_type": "code",
   "execution_count": 5,
   "metadata": {
    "scrolled": false
   },
   "outputs": [
    {
     "name": "stdout",
     "output_type": "stream",
     "text": [
      "pdfComponent::Constructor - INFO : Reading file /home/pan/work/XEPHYR/SR1/StatisticalAnalyses/inputs_for_likelihood/lax_1.5.1_egg/sliced_2d_templates/ERBackgroundModel_Stitched_SR1_RunSourceCombinedFit180420.root\n",
      "pdfComponent::Constructor - INFO : Reading file /home/pan/work/XEPHYR/SR1/StatisticalAnalyses/inputs_for_likelihood/lax_1.5.1_egg/sliced_2d_templates/Background_wall_ac_templates_v6_inegg_bin_SR1_2018-04-30.root\n",
      "pdfComponent::Constructor - INFO : Reading file /home/pan/work/XEPHYR/SR1/StatisticalAnalyses/inputs_for_likelihood/lax_1.5.1_egg/sliced_2d_templates/Background_wall_ac_templates_v6_inegg_bin_SR1_2018-04-30.root\n",
      "pdfComponent::Constructor - INFO : Reading file /home/pan/work/XEPHYR/SR1/StatisticalAnalyses/inputs_for_likelihood/lax_1.5.1_egg/sliced_2d_templates/RadiogenicNRBackgroundModel_SR1_RunSourceCombined180420.root\n",
      "pdfComponent::Constructor - INFO : Reading file /home/pan/work/XEPHYR/SR1/StatisticalAnalyses/inputs_for_likelihood/lax_1.5.1_egg/sliced_2d_templates/RadiogenicNeutronXBackgroundModel_SR1_RunSourceCombined180420.root\n",
      "pdfComponent::Constructor - INFO : Reading file /home/pan/work/XEPHYR/SR1/StatisticalAnalyses/inputs_for_likelihood/lax_1.5.1_egg/sliced_2d_templates/CNNSBackgroundModel_SR1_RunSourceCombinedFit180420.root\n",
      "pdfComponent::Constructor - INFO : Reading file /home/pan/work/XEPHYR/xephyr_examples/SR1Like/data/SignalModel_SR1_50GeV_FromRunSourceCombinedFit180420.root\n",
      "pdfLikelihood - INFO: bkg component named CNNS added to    NOT SAFEGUARDED\n",
      "pdfLikelihood - INFO: bkg component named NeutronX added to    NOT SAFEGUARDED\n",
      "pdfLikelihood - INFO: bkg component named Neutrons added to    NOT SAFEGUARDED\n",
      "pdfLikelihood - INFO: bkg component named AC added to    NOT SAFEGUARDED\n",
      "pdfLikelihood - INFO: bkg component named Wall added to    NOT SAFEGUARDED\n",
      "pdfLikelihood - INFO: bkg component named ER added to    SAFEGUARDED\n",
      "pdfLikelihood::initialize - INFO :  initialize..... \n",
      "\tLikelihood::addParameter - Info : Adding parameter Sigma  with ID -1  to PL L_SR1_V0\n",
      "INFO :  adding sys for BKG component CNNS\n",
      "\tLikelihood::addParameter - Info : Adding parameter CNNSscale0  with ID 1  to PL L_SR1_V0\n",
      "INFO :  adding sys for BKG component NeutronX\n",
      "\tLikelihood::addParameter - Info : Adding parameter RadioscaleNX0  with ID 2  to PL L_SR1_V0\n",
      "INFO :  adding sys for BKG component Neutrons\n",
      "\tLikelihood::addParameter - Info : Adding parameter Radioscale0  with ID 3  to PL L_SR1_V0\n",
      "INFO :  adding sys for BKG component AC\n",
      "\tLikelihood::addParameter - Info : Adding parameter ACscale0  with ID 4  to PL L_SR1_V0\n",
      "INFO :  adding sys for BKG component Wall\n",
      "\tLikelihood::addParameter - Info : Adding parameter Wallscale0  with ID 5  to PL L_SR1_V0\n",
      "INFO :  adding sys for BKG component ER\n",
      "\tLikelihood::addParameter - Info : Adding parameter ERscale0  with ID 6  to PL L_SR1_V0\n",
      "\tLikelihood::addParameter - Info : Adding parameter _py0_  with ID 7  to PL L_SR1_V0\n",
      "\tLikelihood::addParameter - Info : Adding parameter _rf0_  with ID 8  to PL L_SR1_V0\n",
      "INFO :  adding sys for SIGNAL component Wimp\n",
      "\tLikelihood::addParameter - Info : Adding parameter SignalScale0  with ID 9  to PL L_SR1_V0\n",
      "\tLikelihood::addParameter - Info : Adding parameter L_SR1_V0_SG  with ID 10  to PL L_SR1_V0\n",
      "pdfLikelihood::initialize - INFO :  initialization SUCCESSFUL. \n"
     ]
    }
   ],
   "source": [
    "double mass = 50.; // GeV\n",
    "int likelihood_type = 0;  // [0=inner egg, 1= U volume, 2 = Wall volume]\n",
    "TString collection_name = \"test_mu5_V0_Gen1\";   // remember? this is the name of the toy collection we generated\n",
    "\n",
    "// The whole SR1 likelihood definition now is in this object here\n",
    "// There is a notebook about how to build the likelihood, check it out.\n",
    "// IMPORTANT NOTE:   /!\\ this function call is different from the previous tutorial\n",
    "// this will load the likelihood with data in it and already initialized\n",
    "pdfLikelihood *likeHood =  getTheLikelihoodToFit( xeDir, collection_name , mass, likelihood_type);\n",
    "// pdfLikelihood* getTheLikelihoodToFit(TString dir, TString name_of_file, double mass, int type, double other)\n"
   ]
  },
  {
   "cell_type": "code",
   "execution_count": 6,
   "metadata": {
    "scrolled": true
   },
   "outputs": [],
   "source": [
    "ToyFitterExclusion fitter(collection_name);"
   ]
  },
  {
   "cell_type": "code",
   "execution_count": 7,
   "metadata": {
    "scrolled": true
   },
   "outputs": [],
   "source": [
    "fitter.setTheLikelihood(likeHood);"
   ]
  },
  {
   "cell_type": "code",
   "execution_count": 8,
   "metadata": {},
   "outputs": [],
   "source": [
    "fitter.setSeed( 123 ) ;   // always remember to change the seed per mass, Generation. "
   ]
  },
  {
   "cell_type": "code",
   "execution_count": 9,
   "metadata": {
    "scrolled": true
   },
   "outputs": [
    {
     "name": "stdout",
     "output_type": "stream",
     "text": [
      "Finding maximum of L_SR1_V0\n",
      "Total of 11 active parameters, don't freeze parameters of interest, Minuit fits 11 param.\n",
      " Id Name                 Type         Current Value               Uncertainty\n",
      " -1 Sigma                Of interest        0                 \n",
      "  1 CNNSscale0           Nuisance           0                 \n",
      "  2 RadioscaleNX0        Nuisance           0                 \n",
      "  3 Radioscale0          Nuisance           0                 \n",
      "  4 ACscale0             Nuisance           0                 \n",
      "  5 Wallscale0           Nuisance           0                 \n",
      "  6 ERscale0             Free               0                 \n",
      "  7 _py0_                Free               0                 \n",
      "  8 _rf0_                Free               0                 \n",
      "  9 SignalScale0         Nuisance           0                 \n",
      " 10 L_SR1_V0_SG          Free               1                 \n",
      "ML -132094 achieved for \n",
      " Id Name                 Type         Current Value               Uncertainty\n",
      " -1 Sigma                Of interest      2.9 +- 3.7      \n",
      "  1 CNNSscale0           Nuisance     -0.0073 +- 1.3      \n",
      "  2 RadioscaleNX0        Nuisance    -0.00052 +- 1.3      \n",
      "  3 Radioscale0          Nuisance     -0.0045 +- 1.3      \n",
      "  4 ACscale0             Nuisance      -0.049 +- 1.3      \n",
      "  5 Wallscale0           Nuisance       -0.25 +- 1.2      \n",
      "  6 ERscale0             Free            0.16 +- 0.093    \n",
      "  7 _py0_                Free           0.091 +- 0.045    \n",
      "  8 _rf0_                Free             1.9 +- 0.24     \n",
      "  9 SignalScale0         Nuisance    -0.00029 +- 1.4      \n",
      " 10 L_SR1_V0_SG          Free           0.091 +- 0.68     \n",
      " Id Name                 Type         Current Value               Uncertainty\n",
      " -1 Sigma                Of interest      2.9                 \n",
      "  1 CNNSscale0           Nuisance     -0.0073                 \n",
      "  2 RadioscaleNX0        Nuisance    -0.00052                 \n",
      "  3 Radioscale0          Nuisance     -0.0045                 \n",
      "  4 ACscale0             Nuisance      -0.049                 \n",
      "  5 Wallscale0           Nuisance       -0.25                 \n",
      "  6 ERscale0             Free            0.16                 \n",
      "  7 _py0_                Free           0.091                 \n",
      "  8 _rf0_                Free             1.9                 \n",
      "  9 SignalScale0         Nuisance    -0.00029                 \n",
      " 10 L_SR1_V0_SG          Free           0.091                 \n",
      "Finding maximum of L_SR1_V0\n",
      "Total of 11 active parameters,  freeze parameters of interest, Minuit fits 10 param.\n",
      " Id Name                 Type         Current Value               Uncertainty\n",
      " -1 Sigma                Frozen           0.5                 \n",
      "  1 CNNSscale0           Nuisance     -0.0073                 \n",
      "  2 RadioscaleNX0        Nuisance    -0.00052                 \n",
      "  3 Radioscale0          Nuisance     -0.0045                 \n",
      "  4 ACscale0             Nuisance      -0.049                 \n",
      "  5 Wallscale0           Nuisance       -0.25                 \n",
      "  6 ERscale0             Free            0.16                 \n",
      "  7 _py0_                Free           0.091                 \n",
      "  8 _rf0_                Free             1.9                 \n",
      "  9 SignalScale0         Nuisance    -0.00029                 \n",
      " 10 L_SR1_V0_SG          Free           0.091                 \n"
     ]
    },
    {
     "name": "stderr",
     "output_type": "stream",
     "text": [
      "Info in <Minuit2>: Minuit2Minimizer::Minimize : Minimization did NOT converge, Edm is above max\n"
     ]
    },
    {
     "name": "stdout",
     "output_type": "stream",
     "text": [
      "ML -132095 achieved for \n",
      " Id Name                 Type         Current Value               Uncertainty\n",
      " -1 Sigma                Frozen           0.5                 \n",
      "  1 CNNSscale0           Nuisance     -0.0073 +- 1.3      \n",
      "  2 RadioscaleNX0        Nuisance      0.0055 +- 1.3      \n",
      "  3 Radioscale0          Nuisance       0.078 +- 1.3      \n",
      "  4 ACscale0             Nuisance      -0.044 +- 1.3      \n",
      "  5 Wallscale0           Nuisance       -0.25 +- 1.2      \n",
      "  6 ERscale0             Free            0.17 +- 0.093    \n",
      "  7 _py0_                Free           0.092 +- 0.045    \n",
      "  8 _rf0_                Free             1.9 +- 0.24     \n",
      "  9 SignalScale0         Nuisance       0.011 +- 1.4      \n",
      " 10 L_SR1_V0_SG          Free            0.14 +- 0.5      \n",
      " Id Name                 Type         Current Value               Uncertainty\n",
      " -1 Sigma                Frozen           0.5                 \n",
      "  1 CNNSscale0           Nuisance     -0.0073                 \n",
      "  2 RadioscaleNX0        Nuisance      0.0055                 \n",
      "  3 Radioscale0          Nuisance       0.078                 \n",
      "  4 ACscale0             Nuisance      -0.044                 \n",
      "  5 Wallscale0           Nuisance       -0.25                 \n",
      "  6 ERscale0             Free            0.17                 \n",
      "  7 _py0_                Free           0.092                 \n",
      "  8 _rf0_                Free             1.9                 \n",
      "  9 SignalScale0         Nuisance       0.011                 \n",
      " 10 L_SR1_V0_SG          Free            0.14                 \n"
     ]
    },
    {
     "name": "stderr",
     "output_type": "stream",
     "text": [
      "Info in <Minuit2>: Minuit2Minimizer::Minimize : Minimization did NOT converge, Edm is above max\n"
     ]
    }
   ],
   "source": [
    "double mu_test = 0.5;   // we are now testing the signal hypothesis of 0.5 events (but data are generated with average 5)\n",
    "double qstat = fitter.computeTS( mu_test );  // computing the test statistic with preset value of data in the likelihood\n",
    "\n",
    "// the line above will first maximize the likelihood and then compute the likelihood (conditional FIT) for mu = 0.5"
   ]
  },
  {
   "cell_type": "code",
   "execution_count": 10,
   "metadata": {},
   "outputs": [
    {
     "name": "stdout",
     "output_type": "stream",
     "text": [
      "th value of the test statistic for the test hypothesis mu = 0.5 on the toy data with index 0 is: 1.45191\n"
     ]
    }
   ],
   "source": [
    "cout << \"th value of the test statistic for the test hypothesis mu = 0.5 on the toy data with index 0 is: \" << qstat << endl;"
   ]
  },
  {
   "cell_type": "code",
   "execution_count": 11,
   "metadata": {
    "scrolled": true
   },
   "outputs": [],
   "source": [
    "fitter.setPrintLevel(WARNING);   //  suppressing output to only WARNING (other possibilities are INFO, ERROR, DEBUG)"
   ]
  },
  {
   "cell_type": "markdown",
   "metadata": {},
   "source": [
    "## 3) Fitting\n",
    "### Fitting the Toy Generated Ntuple Tree list\n",
    "\n",
    "Ok, let's recap a bit what was done above:\n",
    "- We defined a likelihood that load the toy data generated (have a look at [this tutorial](...) )\n",
    "- We fed this likelihood to a toy Fitter, this is just a class that helps with fitting the likelihood, meaning fixing the parameter of interest to some value and fitting the rest of the parameters (conditional fit)\n",
    "- We then computed the lkelihood ratio value for a specific dataset and a specific value of the parameter of interest q(mu=0.5 | data)\n",
    "\n",
    "Now, to produce the distribution of the test statistic q(mu | mu_true) for a given hypothesis mu_true we need to:\n",
    "- produce many dataset under the hypotesis mu_true (we did this in [this tutorial](https://github.com/XENON1T/Xephyr/blob/master/notebooks/ToyGenerator_example.ipynb) )\n",
    "- The hypothesis we choose was mu_true = 5\n",
    "- Now we need to compute the test statistic value for all these datasets testing that same hypothesis mu_test = 5.\n",
    "- Putting all the values togheter we have the expected distributions of the test statistc under hypothesis mu = 5.\n",
    "\n",
    "Let's do it:"
   ]
  },
  {
   "cell_type": "code",
   "execution_count": 12,
   "metadata": {
    "scrolled": true
   },
   "outputs": [],
   "source": [
    "// some settings\n",
    "fitter.setTreeName(collection_name);    // toy tree name prefix to fit in file (we already set that previosly, JUST TO SHOW)\n",
    "fitter.setRandomizeMeasure(true);       // if randomize or not the nuissance parameter measure (default to true)\n",
    "fitter.setOutputDir(xeDir) ;            // setting the dir where the output file is stored\n",
    "\n",
    "fitter.setSeed( 123 ) ;   // always remember to change the seed per mass and Generation. \n",
    "\n",
    "likeHood->setPrintLevel(WARNING);  // to kill a bit of the output (remove this line if you want to see it)\n"
   ]
  },
  {
   "cell_type": "code",
   "execution_count": 13,
   "metadata": {
    "scrolled": true
   },
   "outputs": [
    {
     "name": "stdout",
     "output_type": "stream",
     "text": [
      "dataHandler::setTreeIndex - DEBUG : setting new tree: test_mu5_V0_Gen1_0\n",
      "dataHandler::setTreeIndex - DEBUG : setting new tree: test_mu5_V0_Gen1_Cal_0\n",
      "dataHandler::setTreeIndex - DEBUG : setting new tree: test_mu5_V0_Gen1_1\n",
      "dataHandler::setTreeIndex - DEBUG : setting new tree: test_mu5_V0_Gen1_Cal_1\n"
     ]
    },
    {
     "name": "stderr",
     "output_type": "stream",
     "text": [
      "Info in <Minuit2>: Minuit2Minimizer::Minimize : Minimization did NOT converge, Edm is above max\n",
      "Info in <Minuit2>: Minuit2Minimizer::Minimize : Minimization did NOT converge, Edm is above max\n"
     ]
    },
    {
     "name": "stdout",
     "output_type": "stream",
     "text": [
      "dataHandler::setTreeIndex - DEBUG : setting new tree: test_mu5_V0_Gen1_2\n",
      "dataHandler::setTreeIndex - DEBUG : setting new tree: test_mu5_V0_Gen1_Cal_2\n"
     ]
    },
    {
     "name": "stderr",
     "output_type": "stream",
     "text": [
      "Info in <Minuit2>: Minuit2Minimizer::Minimize : Minimization did NOT converge, Edm is above max\n",
      "Info in <Minuit2>: Minuit2Minimizer::Minimize : Minimization did NOT converge, Edm is above max\n"
     ]
    },
    {
     "name": "stdout",
     "output_type": "stream",
     "text": [
      "dataHandler::setTreeIndex - DEBUG : setting new tree: test_mu5_V0_Gen1_3\n",
      "dataHandler::setTreeIndex - DEBUG : setting new tree: test_mu5_V0_Gen1_Cal_3\n"
     ]
    },
    {
     "name": "stderr",
     "output_type": "stream",
     "text": [
      "Info in <Minuit2>: Minuit2Minimizer::Minimize : Minimization did NOT converge, Edm is above max\n",
      "Info in <Minuit2>: MnGlobalCorrelationCoeff: inversion of matrix fails.\n",
      "Info in <Minuit2>: Minuit2Minimizer::Minimize : Minimization did NOT converge, Edm is above max\n"
     ]
    },
    {
     "name": "stdout",
     "output_type": "stream",
     "text": [
      "dataHandler::setTreeIndex - DEBUG : setting new tree: test_mu5_V0_Gen1_4\n",
      "dataHandler::setTreeIndex - DEBUG : setting new tree: test_mu5_V0_Gen1_Cal_4\n"
     ]
    },
    {
     "name": "stderr",
     "output_type": "stream",
     "text": [
      "Info in <Minuit2>: Minuit2Minimizer::Minimize : Minimization did NOT converge, Edm is above max\n",
      "Info in <Minuit2>: Minuit2Minimizer::Minimize : Minimization did NOT converge, Edm is above max\n"
     ]
    },
    {
     "name": "stdout",
     "output_type": "stream",
     "text": [
      "dataHandler::setTreeIndex - DEBUG : setting new tree: test_mu5_V0_Gen1_5\n",
      "dataHandler::setTreeIndex - DEBUG : setting new tree: test_mu5_V0_Gen1_Cal_5\n"
     ]
    },
    {
     "name": "stderr",
     "output_type": "stream",
     "text": [
      "Info in <Minuit2>: Minuit2Minimizer::Minimize : Minimization did NOT converge, Edm is above max\n",
      "Info in <Minuit2>: Minuit2Minimizer::Minimize : Minimization did NOT converge, Edm is above max\n"
     ]
    },
    {
     "name": "stdout",
     "output_type": "stream",
     "text": [
      "dataHandler::setTreeIndex - DEBUG : setting new tree: test_mu5_V0_Gen1_6\n",
      "dataHandler::setTreeIndex - DEBUG : setting new tree: test_mu5_V0_Gen1_Cal_6\n"
     ]
    },
    {
     "name": "stderr",
     "output_type": "stream",
     "text": [
      "Info in <Minuit2>: Minuit2Minimizer::Minimize : Minimization did NOT converge, Edm is above max\n",
      "Info in <Minuit2>: Minuit2Minimizer::Minimize : Minimization did NOT converge, Edm is above max\n"
     ]
    },
    {
     "name": "stdout",
     "output_type": "stream",
     "text": [
      "dataHandler::setTreeIndex - DEBUG : setting new tree: test_mu5_V0_Gen1_7\n",
      "dataHandler::setTreeIndex - DEBUG : setting new tree: test_mu5_V0_Gen1_Cal_7\n"
     ]
    },
    {
     "name": "stderr",
     "output_type": "stream",
     "text": [
      "Info in <Minuit2>: Minuit2Minimizer::Minimize : Minimization did NOT converge, Edm is above max\n"
     ]
    },
    {
     "name": "stdout",
     "output_type": "stream",
     "text": [
      "Stat::pdfLikelihood::computeTheLogLikelihood - WARNING : NsFs + NbFb < 0 \n",
      "Stat::pdfLikelihood::computeTheLogLikelihood - WARNING : NsFs + NbFb < 0 \n"
     ]
    },
    {
     "name": "stderr",
     "output_type": "stream",
     "text": [
      "Info in <Minuit2>: Minuit2Minimizer::Minimize : Minimization did NOT converge, Edm is above max\n"
     ]
    },
    {
     "name": "stdout",
     "output_type": "stream",
     "text": [
      "dataHandler::setTreeIndex - DEBUG : setting new tree: test_mu5_V0_Gen1_8\n",
      "dataHandler::setTreeIndex - DEBUG : setting new tree: test_mu5_V0_Gen1_Cal_8\n"
     ]
    },
    {
     "name": "stderr",
     "output_type": "stream",
     "text": [
      "Info in <Minuit2>: Minuit2Minimizer::Minimize : Minimization did NOT converge, Edm is above max\n"
     ]
    },
    {
     "name": "stdout",
     "output_type": "stream",
     "text": [
      "dataHandler::setTreeIndex - DEBUG : setting new tree: test_mu5_V0_Gen1_9\n",
      "dataHandler::setTreeIndex - DEBUG : setting new tree: test_mu5_V0_Gen1_Cal_9\n"
     ]
    },
    {
     "name": "stderr",
     "output_type": "stream",
     "text": [
      "Info in <Minuit2>: Minuit2Minimizer::Minimize : Minimization did NOT converge, Edm is above max\n",
      "Info in <Minuit2>: Minuit2Minimizer::Minimize : Minimization did NOT converge, Edm is above max\n"
     ]
    }
   ],
   "source": [
    "int number_of_dataset_to_fit = 10;      // we fit only 10 datasets, otherwise is too long ;)\n",
    "mu_test = 5. ;                   // in the generation of TS distributions mu_test must be equal to mu_true\n",
    "\n",
    "// void fit(double mu, int stopAt=-999)\n",
    "fitter.fit(mu_test, number_of_dataset_to_fit);   "
   ]
  },
  {
   "cell_type": "markdown",
   "metadata": {
    "collapsed": true
   },
   "source": [
    "## 4) Having a look at output fit file\n",
    "The line above produced a file in the previsly set \"outDir\" with prefix \"post_fit_XXXX\".\n",
    "This contains a tree, the tree has an entry for each input Toy tree. Each entry contains the original parameter values with which the toy was generated, then the post fit values for nuissance parameters, likelihood and test statistic. "
   ]
  },
  {
   "cell_type": "code",
   "execution_count": 6,
   "metadata": {
    "scrolled": true
   },
   "outputs": [],
   "source": [
    "TFile *fit_file = TFile::Open(xeDir + \"post_fit_\" + collection_name + \".root\");\n",
    "TTree *postFitTree  = (TTree*) fit_file->Get(\"post_fit_tree\");"
   ]
  },
  {
   "cell_type": "code",
   "execution_count": 7,
   "metadata": {
    "scrolled": true
   },
   "outputs": [
    {
     "name": "stdout",
     "output_type": "stream",
     "text": [
      "******************************************************************************\n",
      "*Tree    :post_fit_tree: output tree for a given mu, hadd me                    *\n",
      "*Entries :       10 : Total =           16297 bytes  File  Size =       6385 *\n",
      "*        :          : Tree compression factor =   1.69                       *\n",
      "******************************************************************************\n",
      "*Br    0 :mu_fit    : mu_fit/D                                               *\n",
      "*Entries :       10 : Total  Size=        659 bytes  File Size  =        115 *\n",
      "*Baskets :        1 : Basket Size=      32000 bytes  Compression=   1.41     *\n",
      "*............................................................................*\n",
      "*Br    1 :mass      : mass/D                                                 *\n",
      "*Entries :       10 : Total  Size=        649 bytes  File Size  =        113 *\n",
      "*Baskets :        1 : Basket Size=      32000 bytes  Compression=   1.42     *\n",
      "*............................................................................*\n",
      "*Br    2 :q_mu      : q_mu/D                                                 *\n",
      "*Entries :       10 : Total  Size=        649 bytes  File Size  =        160 *\n",
      "*Baskets :        1 : Basket Size=      32000 bytes  Compression=   1.00     *\n",
      "*............................................................................*\n",
      "*Br    3 :q_tilde   : q_tilde/D                                              *\n",
      "*Entries :       10 : Total  Size=        664 bytes  File Size  =        154 *\n",
      "*Baskets :        1 : Basket Size=      32000 bytes  Compression=   1.06     *\n",
      "*............................................................................*\n",
      "*Br    4 :n_params  : n_params/I                                             *\n",
      "*Entries :       10 : Total  Size=        621 bytes  File Size  =        115 *\n",
      "*Baskets :        1 : Basket Size=      32000 bytes  Compression=   1.08     *\n",
      "*............................................................................*\n",
      "*Br    5 :LL_cond   : LL_cond/D                                              *\n",
      "*Entries :       10 : Total  Size=        664 bytes  File Size  =        163 *\n",
      "*Baskets :        1 : Basket Size=      32000 bytes  Compression=   1.00     *\n",
      "*............................................................................*\n",
      "*Br    6 :LL_uncond : LL_uncond/D                                            *\n",
      "*Entries :       10 : Total  Size=        674 bytes  File Size  =        165 *\n",
      "*Baskets :        1 : Basket Size=      32000 bytes  Compression=   1.00     *\n",
      "*............................................................................*\n",
      "*Br    7 :true_params : true_params[n_params]/D                              *\n",
      "*Entries :       10 : Total  Size=       1635 bytes  File Size  =        244 *\n",
      "*Baskets :        1 : Basket Size=      32000 bytes  Compression=   4.16     *\n",
      "*............................................................................*\n",
      "*Br    8 :measured_params : measured_params[n_params]/D                      *\n",
      "*Entries :       10 : Total  Size=       1655 bytes  File Size  =        711 *\n",
      "*Baskets :        1 : Basket Size=      32000 bytes  Compression=   1.43     *\n",
      "*............................................................................*\n",
      "*Br    9 :uncond_params : uncond_params[n_params]/D                          *\n",
      "*Entries :       10 : Total  Size=       1645 bytes  File Size  =       1017 *\n",
      "*Baskets :        1 : Basket Size=      32000 bytes  Compression=   1.00     *\n",
      "*............................................................................*\n",
      "*Br   10 :cond_params : cond_params[n_params]/D                              *\n",
      "*Entries :       10 : Total  Size=       1635 bytes  File Size  =        984 *\n",
      "*Baskets :        1 : Basket Size=      32000 bytes  Compression=   1.03     *\n",
      "*............................................................................*\n",
      "*Br   11 :name_params : vector<string>                                       *\n",
      "*Entries :       10 : Total  Size=       1838 bytes  File Size  =        261 *\n",
      "*Baskets :        1 : Basket Size=      32000 bytes  Compression=   5.08     *\n",
      "*............................................................................*\n",
      "*Br   12 :name_true_params : vector<string>                                  *\n",
      "*Entries :       10 : Total  Size=       1743 bytes  File Size  =        254 *\n",
      "*Baskets :        1 : Basket Size=      32000 bytes  Compression=   4.76     *\n",
      "*............................................................................*\n",
      "*Br   13 :inputTreeIndex : inputTreeIndex/I                                  *\n",
      "*Entries :       10 : Total  Size=        651 bytes  File Size  =        130 *\n",
      "*Baskets :        1 : Basket Size=      32000 bytes  Compression=   1.00     *\n",
      "*............................................................................*\n",
      "*Br   14 :generation : generation/I                                          *\n",
      "*Entries :       10 : Total  Size=        631 bytes  File Size  =        117 *\n",
      "*Baskets :        1 : Basket Size=      32000 bytes  Compression=   1.08     *\n",
      "*............................................................................*\n"
     ]
    }
   ],
   "source": [
    "postFitTree->Print();"
   ]
  },
  {
   "cell_type": "markdown",
   "metadata": {},
   "source": [
    "As you can see there are only 10 entries, not so many to do any real statistical inference. I attached in the data folder a lighter version of the SR1 output from a similar script like above, so I can show some nice distro ;)\n",
    "\n",
    "The file added below has been produced hadding several Fitter output files, for wimp mass=50GeV and computed for several hypothesis:\n",
    "\n",
    "**mu_test = mu_true = { 0.5, 1, 2, 2.5, 3., 4. , 5., 10., 15}**. \n",
    "\n",
    "Maybe you noticed that the tree name in the file does not depend on anything, is always the same, this is crucial when hadding, so that one can send many jobs fitting many dataset in parallel (each with his corresponding GENERATION) and then **hadd** the output of all of them, obtaining a single tree with all the necessary information for almost any statistical study.\n",
    "\n",
    "Let's have a look more in detail at what we can do with it:"
   ]
  },
  {
   "cell_type": "code",
   "execution_count": 8,
   "metadata": {},
   "outputs": [],
   "source": [
    "// load the SR1 hadded output fit file\n",
    "TFile *SR1_fit_file = TFile::Open(xeDir + \"Xephyr/notebooks/data_examples/post_fit_apr_ER2_RG2_W2_M50_light.root\");\n",
    "TTree *SR1_postFitTree  = (TTree*) SR1_fit_file->Get(\"post_fit_tree\");"
   ]
  },
  {
   "cell_type": "markdown",
   "metadata": {},
   "source": [
    "#### We can now plot for example the distro of mu_hat for a certain value of Toy generated mu (true mu)\n",
    "mu_hat is the first parameter of the unconditional fit"
   ]
  },
  {
   "cell_type": "code",
   "execution_count": 9,
   "metadata": {
    "scrolled": true
   },
   "outputs": [
    {
     "data": {
      "image/png": "[encoded data removed]",
      "text/plain": [
       "<IPython.core.display.Image object>"
      ]
     },
     "metadata": {},
     "output_type": "display_data"
    }
   ],
   "source": [
    "TCanvas *can = new TCanvas();\n",
    "SR1_postFitTree->Draw(\"uncond_params[0]\",\"mu_fit == 5\");\n",
    "can->Draw();"
   ]
  },
  {
   "cell_type": "markdown",
   "metadata": {},
   "source": [
    "#### printout of all parameters"
   ]
  },
  {
   "cell_type": "code",
   "execution_count": 10,
   "metadata": {
    "scrolled": true
   },
   "outputs": [
    {
     "name": "stdout",
     "output_type": "stream",
     "text": [
      "***********************************************************************\n",
      "*    Row   * Instance * name_para * true_para * measured_ * uncond_pa *\n",
      "***********************************************************************\n",
      "*        0 *        0 *     Sigma *        10 *         0 * 12.434439 *\n",
      "*        0 *        1 * CORR_RF_S *         0 *         0 * -0.733046 *\n",
      "*        0 *        2 * CORR_PY_S *         0 *         0 * -0.053879 *\n",
      "*        0 *        3 * CORR_ER_S *         0 *         0 * -0.006641 *\n",
      "*        0 *        4 * CORR_CNNS *         0 * -0.288573 * -0.264157 *\n",
      "*        0 *        5 * CORR_SIGN *         0 * -0.368677 * -0.370088 *\n",
      "*        0 *        6 * Radioscal *         0 * 0.5974869 * 0.6004963 *\n",
      "*        0 *        7 * Radioscal *         0 * 1.1416984 * 1.1658182 *\n",
      "*        0 *        8 *  ACscale0 *         0 * 0.2935564 * 0.2789615 *\n",
      "*        0 *        9 * Wallscale *         0 * 0.6215094 * 0.4230446 *\n",
      "*        0 *       10 * L_SR1_V0_ *        10 *         1 * 1.000e-05 *\n",
      "*        0 *       11 * Radioscal *         0 * 0.0125180 * -0.027273 *\n",
      "*        0 *       12 * Radioscal *         0 * 1.2818081 * 1.2058414 *\n",
      "*        0 *       13 *  ACscale1 *         0 * 1.1695675 * 1.2280266 *\n",
      "*        0 *       14 * Wallscale *         0 * -0.831557 * -0.835225 *\n",
      "*        0 *       15 * L_SR1_V1_ *         0 *         1 * 1.003e-05 *\n",
      "*        0 *       16 * Radioscal *         0 * 0.2953266 * 0.2924645 *\n",
      "*        0 *       17 * Radioscal *         0 * 1.0695510 * 1.0526406 *\n",
      "*        0 *       18 *  ACscale2 *         0 * 1.1737361 * 1.1659936 *\n",
      "*        0 *       19 * Wallscale *         0 * 1.2621558 * 0.2826881 *\n",
      "*        0 *       20 * L_SR1_V2_ *        10 *         1 * 1.037e-05 *\n",
      "***********************************************************************\n"
     ]
    }
   ],
   "source": [
    "// true_params =  generated value of the parameter\n",
    "// measured_params = extracted value of parametr at fitting time (to simulate a repetition of the experiment)\n",
    "// uncond_params   = post fit value f the parameter UNCONDITIONAL = best fit overall (not fixing mu to a specific value)\n",
    "\n",
    "// NOTE: Sigma here means mu.\n",
    "\n",
    "SR1_postFitTree->Scan(\"name_params:true_params:measured_params:uncond_params\",\"\",\"\", 1);"
   ]
  },
  {
   "cell_type": "markdown",
   "metadata": {},
   "source": [
    "### example of unconditional pulls for ER scale (parameter 3)"
   ]
  },
  {
   "cell_type": "code",
   "execution_count": 11,
   "metadata": {
    "scrolled": true
   },
   "outputs": [
    {
     "data": {
      "image/png": "[encoded data removed]",
      "text/plain": [
       "<IPython.core.display.Image object>"
      ]
     },
     "metadata": {},
     "output_type": "display_data"
    }
   ],
   "source": [
    "SR1_postFitTree->Draw(\"uncond_params[3]\",\"mu_fit == 5\");\n",
    "can->Draw();"
   ]
  },
  {
   "cell_type": "markdown",
   "metadata": {},
   "source": [
    "#### Or test statistic distributions"
   ]
  },
  {
   "cell_type": "code",
   "execution_count": 12,
   "metadata": {
    "scrolled": true
   },
   "outputs": [
    {
     "data": {
      "image/png": "[encoded data removed]",
      "text/plain": [
       "<IPython.core.display.Image object>"
      ]
     },
     "metadata": {},
     "output_type": "display_data"
    }
   ],
   "source": [
    "SR1_postFitTree->Draw(\"q_mu\",\"mu_fit == 5 && q_mu > -0.01\");  // sometimes has slightly negative value, seems a numerical issue\n",
    "can->Draw();"
   ]
  },
  {
   "cell_type": "markdown",
   "metadata": {},
   "source": [
    "## 4) Generating the 90% quantiles curve needed for limits"
   ]
  },
  {
   "cell_type": "code",
   "execution_count": 15,
   "metadata": {
    "scrolled": true
   },
   "outputs": [
    {
     "name": "stderr",
     "output_type": "stream",
     "text": [
      "\u001b[1minput_line_147:2:12: \u001b[0m\u001b[0;1;31merror: \u001b[0m\u001b[1mredefinition of 'Nmu'\u001b[0m\n",
      " const int Nmu = 9;\n",
      "\u001b[0;1;32m           ^\n",
      "\u001b[0m\u001b[1minput_line_143:2:12: \u001b[0m\u001b[0;1;30mnote: \u001b[0mprevious definition is here\u001b[0m\n",
      " const int Nmu = 9;\n",
      "\u001b[0;1;32m           ^\n",
      "\u001b[0m"
     ]
    }
   ],
   "source": [
    "const int Nmu = 9;\n",
    "double mu_lista[Nmu]   =  { 0.5, 1, 2, 2.5, 3., 4. , 5., 10., 15};    // list of true mu hypothesis that we fitted (tested)\n",
    "\n",
    "        // giveTSquantiles ( TTree *tree, double *mu_list, int mu_size, TString OutDir, double wimpMass)\n",
    "\n",
    "        TGraphAsymmErrors quantiles ( plotHelpers::giveTSquantiles( SR1_postFitTree,  mu_lista, Nmu, xeDir, mass ) );\n",
    "    \n",
    "    // This generate a file \"ts_distros_quantiles_m50.root\" in the XEPHYR_DIR with the 90% quantiles\n",
    "    // also generates a PDF file with the distribution from which the quantiles are taken \"quantiles_m50.pdf\"\n",
    "\n"
   ]
  },
  {
   "cell_type": "code",
   "execution_count": 14,
   "metadata": {
    "scrolled": true
   },
   "outputs": [
    {
     "data": {
      "image/png": "[encoded data removed]",
      "text/plain": [
       "<IPython.core.display.Image object>"
      ]
     },
     "metadata": {},
     "output_type": "display_data"
    }
   ],
   "source": [
    "quantiles.GetXaxis()->SetTitle(\"mu\");\n",
    "quantiles.GetYaxis()->SetTitle(\"f(q_mu | h_mu)  90% quantile\");\n",
    "quantiles.Draw(\"AC*\");\n",
    "can->Draw();"
   ]
  },
  {
   "cell_type": "markdown",
   "metadata": {},
   "source": [
    "### What do we do with it?\n",
    "given a toy dataset generated under null hypothesis,  we compute q_mu for it, let's say for mu_test = 2.8, then mu = 2.8 is excluded @ >= 90% CL (given that dataset only) if the obtained q_mu >= 2.4"
   ]
  },
  {
   "cell_type": "markdown",
   "metadata": {},
   "source": [
    "## 5) Limits and sensitivity bands"
   ]
  },
  {
   "cell_type": "code",
   "execution_count": null,
   "metadata": {
    "scrolled": true
   },
   "outputs": [],
   "source": [
    "// some settings\n",
    "fitter.setInputDir(\"./\");               // just to show how to change path to file (not needed), here we put same as constructor\n",
    "fitter.setTreeName(\"null_hypo\");         // toy tree name prefix to fit in file\n",
    "fitter.setRandomizeMeasure(true);       // if randomize or not the nuissance parameter measure (default to true)"
   ]
  },
  {
   "cell_type": "code",
   "execution_count": null,
   "metadata": {
    "scrolled": true
   },
   "outputs": [],
   "source": [
    "// spitTheLimit(TGraphAsymmErrors *ninety_quantiles, int stopAt )\n",
    "// :::WARNING::: this will take long time ;)\n",
    "fitter.spitTheLimit(&quantiles, 10  );"
   ]
  },
  {
   "cell_type": "code",
   "execution_count": null,
   "metadata": {
    "scrolled": true
   },
   "outputs": [],
   "source": []
  }
 ],
 "metadata": {
  "kernelspec": {
   "display_name": "ROOT C++",
   "language": "c++",
   "name": "root"
  },
  "language_info": {
   "codemirror_mode": "text/x-c++src",
   "file_extension": ".C",
   "mimetype": " text/x-c++src",
   "name": "c++"
  }
 },
 "nbformat": 4,
 "nbformat_minor": 2
}
